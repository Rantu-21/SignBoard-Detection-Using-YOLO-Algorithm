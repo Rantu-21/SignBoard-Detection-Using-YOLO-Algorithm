{
 "cells": [
  {
   "cell_type": "code",
   "execution_count": 1,
   "metadata": {
    "colab": {
     "base_uri": "https://localhost:8080/"
    },
    "executionInfo": {
     "elapsed": 19540,
     "status": "ok",
     "timestamp": 1714812319916,
     "user": {
      "displayName": "Rantu Das",
      "userId": "07199959648703687855"
     },
     "user_tz": -360
    },
    "id": "0yi24AhV2BQM",
    "outputId": "7a91ec1b-6a19-46a5-b98e-ee610bd6abd4"
   },
   "outputs": [
    {
     "name": "stdout",
     "output_type": "stream",
     "text": [
      "Mounted at /content/gdrive\n"
     ]
    }
   ],
   "source": [
    "\n",
    "from google.colab import drive\n",
    "\n",
    "drive.mount('/content/gdrive')"
   ]
  },
  {
   "cell_type": "code",
   "execution_count": 2,
   "metadata": {
    "executionInfo": {
     "elapsed": 459,
     "status": "ok",
     "timestamp": 1714812322517,
     "user": {
      "displayName": "Rantu Das",
      "userId": "07199959648703687855"
     },
     "user_tz": -360
    },
    "id": "qqOUE_sC2NvE"
   },
   "outputs": [],
   "source": [
    "ROOT_DIR = '/content/gdrive/My Drive/CSE428/Project/Data/Data'"
   ]
  },
  {
   "cell_type": "code",
   "execution_count": 7,
   "metadata": {
    "colab": {
     "base_uri": "https://localhost:8080/"
    },
    "executionInfo": {
     "elapsed": 72643,
     "status": "ok",
     "timestamp": 1714812797720,
     "user": {
      "displayName": "Rantu Das",
      "userId": "07199959648703687855"
     },
     "user_tz": -360
    },
    "id": "fmIDsbeQ2_af",
    "outputId": "98d9940a-37d1-42f3-8bc7-44232affd1cf"
   },
   "outputs": [
    {
     "name": "stdout",
     "output_type": "stream",
     "text": [
      "Collecting ultralytics\n",
      "  Downloading ultralytics-8.2.8-py3-none-any.whl (755 kB)\n",
      "\u001b[2K     \u001b[90m━━━━━━━━━━━━━━━━━━━━━━━━━━━━━━━━━━━━━━━━\u001b[0m \u001b[32m755.2/755.2 kB\u001b[0m \u001b[31m8.8 MB/s\u001b[0m eta \u001b[36m0:00:00\u001b[0m\n",
      "\u001b[?25hRequirement already satisfied: matplotlib>=3.3.0 in /usr/local/lib/python3.10/dist-packages (from ultralytics) (3.7.1)\n",
      "Requirement already satisfied: opencv-python>=4.6.0 in /usr/local/lib/python3.10/dist-packages (from ultralytics) (4.8.0.76)\n",
      "Requirement already satisfied: pillow>=7.1.2 in /usr/local/lib/python3.10/dist-packages (from ultralytics) (9.4.0)\n",
      "Requirement already satisfied: pyyaml>=5.3.1 in /usr/local/lib/python3.10/dist-packages (from ultralytics) (6.0.1)\n",
      "Requirement already satisfied: requests>=2.23.0 in /usr/local/lib/python3.10/dist-packages (from ultralytics) (2.31.0)\n",
      "Requirement already satisfied: scipy>=1.4.1 in /usr/local/lib/python3.10/dist-packages (from ultralytics) (1.11.4)\n",
      "Requirement already satisfied: torch>=1.8.0 in /usr/local/lib/python3.10/dist-packages (from ultralytics) (2.2.1+cu121)\n",
      "Requirement already satisfied: torchvision>=0.9.0 in /usr/local/lib/python3.10/dist-packages (from ultralytics) (0.17.1+cu121)\n",
      "Requirement already satisfied: tqdm>=4.64.0 in /usr/local/lib/python3.10/dist-packages (from ultralytics) (4.66.2)\n",
      "Requirement already satisfied: psutil in /usr/local/lib/python3.10/dist-packages (from ultralytics) (5.9.5)\n",
      "Requirement already satisfied: py-cpuinfo in /usr/local/lib/python3.10/dist-packages (from ultralytics) (9.0.0)\n",
      "Collecting thop>=0.1.1 (from ultralytics)\n",
      "  Downloading thop-0.1.1.post2209072238-py3-none-any.whl (15 kB)\n",
      "Requirement already satisfied: pandas>=1.1.4 in /usr/local/lib/python3.10/dist-packages (from ultralytics) (2.0.3)\n",
      "Requirement already satisfied: seaborn>=0.11.0 in /usr/local/lib/python3.10/dist-packages (from ultralytics) (0.13.1)\n",
      "Requirement already satisfied: contourpy>=1.0.1 in /usr/local/lib/python3.10/dist-packages (from matplotlib>=3.3.0->ultralytics) (1.2.1)\n",
      "Requirement already satisfied: cycler>=0.10 in /usr/local/lib/python3.10/dist-packages (from matplotlib>=3.3.0->ultralytics) (0.12.1)\n",
      "Requirement already satisfied: fonttools>=4.22.0 in /usr/local/lib/python3.10/dist-packages (from matplotlib>=3.3.0->ultralytics) (4.51.0)\n",
      "Requirement already satisfied: kiwisolver>=1.0.1 in /usr/local/lib/python3.10/dist-packages (from matplotlib>=3.3.0->ultralytics) (1.4.5)\n",
      "Requirement already satisfied: numpy>=1.20 in /usr/local/lib/python3.10/dist-packages (from matplotlib>=3.3.0->ultralytics) (1.25.2)\n",
      "Requirement already satisfied: packaging>=20.0 in /usr/local/lib/python3.10/dist-packages (from matplotlib>=3.3.0->ultralytics) (24.0)\n",
      "Requirement already satisfied: pyparsing>=2.3.1 in /usr/local/lib/python3.10/dist-packages (from matplotlib>=3.3.0->ultralytics) (3.1.2)\n",
      "Requirement already satisfied: python-dateutil>=2.7 in /usr/local/lib/python3.10/dist-packages (from matplotlib>=3.3.0->ultralytics) (2.8.2)\n",
      "Requirement already satisfied: pytz>=2020.1 in /usr/local/lib/python3.10/dist-packages (from pandas>=1.1.4->ultralytics) (2023.4)\n",
      "Requirement already satisfied: tzdata>=2022.1 in /usr/local/lib/python3.10/dist-packages (from pandas>=1.1.4->ultralytics) (2024.1)\n",
      "Requirement already satisfied: charset-normalizer<4,>=2 in /usr/local/lib/python3.10/dist-packages (from requests>=2.23.0->ultralytics) (3.3.2)\n",
      "Requirement already satisfied: idna<4,>=2.5 in /usr/local/lib/python3.10/dist-packages (from requests>=2.23.0->ultralytics) (3.7)\n",
      "Requirement already satisfied: urllib3<3,>=1.21.1 in /usr/local/lib/python3.10/dist-packages (from requests>=2.23.0->ultralytics) (2.0.7)\n",
      "Requirement already satisfied: certifi>=2017.4.17 in /usr/local/lib/python3.10/dist-packages (from requests>=2.23.0->ultralytics) (2024.2.2)\n",
      "Requirement already satisfied: filelock in /usr/local/lib/python3.10/dist-packages (from torch>=1.8.0->ultralytics) (3.14.0)\n",
      "Requirement already satisfied: typing-extensions>=4.8.0 in /usr/local/lib/python3.10/dist-packages (from torch>=1.8.0->ultralytics) (4.11.0)\n",
      "Requirement already satisfied: sympy in /usr/local/lib/python3.10/dist-packages (from torch>=1.8.0->ultralytics) (1.12)\n",
      "Requirement already satisfied: networkx in /usr/local/lib/python3.10/dist-packages (from torch>=1.8.0->ultralytics) (3.3)\n",
      "Requirement already satisfied: jinja2 in /usr/local/lib/python3.10/dist-packages (from torch>=1.8.0->ultralytics) (3.1.3)\n",
      "Requirement already satisfied: fsspec in /usr/local/lib/python3.10/dist-packages (from torch>=1.8.0->ultralytics) (2023.6.0)\n",
      "Collecting nvidia-cuda-nvrtc-cu12==12.1.105 (from torch>=1.8.0->ultralytics)\n",
      "  Using cached nvidia_cuda_nvrtc_cu12-12.1.105-py3-none-manylinux1_x86_64.whl (23.7 MB)\n",
      "Collecting nvidia-cuda-runtime-cu12==12.1.105 (from torch>=1.8.0->ultralytics)\n",
      "  Using cached nvidia_cuda_runtime_cu12-12.1.105-py3-none-manylinux1_x86_64.whl (823 kB)\n",
      "Collecting nvidia-cuda-cupti-cu12==12.1.105 (from torch>=1.8.0->ultralytics)\n",
      "  Using cached nvidia_cuda_cupti_cu12-12.1.105-py3-none-manylinux1_x86_64.whl (14.1 MB)\n",
      "Collecting nvidia-cudnn-cu12==8.9.2.26 (from torch>=1.8.0->ultralytics)\n",
      "  Using cached nvidia_cudnn_cu12-8.9.2.26-py3-none-manylinux1_x86_64.whl (731.7 MB)\n",
      "Collecting nvidia-cublas-cu12==12.1.3.1 (from torch>=1.8.0->ultralytics)\n",
      "  Using cached nvidia_cublas_cu12-12.1.3.1-py3-none-manylinux1_x86_64.whl (410.6 MB)\n",
      "Collecting nvidia-cufft-cu12==11.0.2.54 (from torch>=1.8.0->ultralytics)\n",
      "  Using cached nvidia_cufft_cu12-11.0.2.54-py3-none-manylinux1_x86_64.whl (121.6 MB)\n",
      "Collecting nvidia-curand-cu12==10.3.2.106 (from torch>=1.8.0->ultralytics)\n",
      "  Using cached nvidia_curand_cu12-10.3.2.106-py3-none-manylinux1_x86_64.whl (56.5 MB)\n",
      "Collecting nvidia-cusolver-cu12==11.4.5.107 (from torch>=1.8.0->ultralytics)\n",
      "  Using cached nvidia_cusolver_cu12-11.4.5.107-py3-none-manylinux1_x86_64.whl (124.2 MB)\n",
      "Collecting nvidia-cusparse-cu12==12.1.0.106 (from torch>=1.8.0->ultralytics)\n",
      "  Using cached nvidia_cusparse_cu12-12.1.0.106-py3-none-manylinux1_x86_64.whl (196.0 MB)\n",
      "Collecting nvidia-nccl-cu12==2.19.3 (from torch>=1.8.0->ultralytics)\n",
      "  Using cached nvidia_nccl_cu12-2.19.3-py3-none-manylinux1_x86_64.whl (166.0 MB)\n",
      "Collecting nvidia-nvtx-cu12==12.1.105 (from torch>=1.8.0->ultralytics)\n",
      "  Using cached nvidia_nvtx_cu12-12.1.105-py3-none-manylinux1_x86_64.whl (99 kB)\n",
      "Requirement already satisfied: triton==2.2.0 in /usr/local/lib/python3.10/dist-packages (from torch>=1.8.0->ultralytics) (2.2.0)\n",
      "Collecting nvidia-nvjitlink-cu12 (from nvidia-cusolver-cu12==11.4.5.107->torch>=1.8.0->ultralytics)\n",
      "  Using cached nvidia_nvjitlink_cu12-12.4.127-py3-none-manylinux2014_x86_64.whl (21.1 MB)\n",
      "Requirement already satisfied: six>=1.5 in /usr/local/lib/python3.10/dist-packages (from python-dateutil>=2.7->matplotlib>=3.3.0->ultralytics) (1.16.0)\n",
      "Requirement already satisfied: MarkupSafe>=2.0 in /usr/local/lib/python3.10/dist-packages (from jinja2->torch>=1.8.0->ultralytics) (2.1.5)\n",
      "Requirement already satisfied: mpmath>=0.19 in /usr/local/lib/python3.10/dist-packages (from sympy->torch>=1.8.0->ultralytics) (1.3.0)\n",
      "Installing collected packages: nvidia-nvtx-cu12, nvidia-nvjitlink-cu12, nvidia-nccl-cu12, nvidia-curand-cu12, nvidia-cufft-cu12, nvidia-cuda-runtime-cu12, nvidia-cuda-nvrtc-cu12, nvidia-cuda-cupti-cu12, nvidia-cublas-cu12, nvidia-cusparse-cu12, nvidia-cudnn-cu12, nvidia-cusolver-cu12, thop, ultralytics\n",
      "Successfully installed nvidia-cublas-cu12-12.1.3.1 nvidia-cuda-cupti-cu12-12.1.105 nvidia-cuda-nvrtc-cu12-12.1.105 nvidia-cuda-runtime-cu12-12.1.105 nvidia-cudnn-cu12-8.9.2.26 nvidia-cufft-cu12-11.0.2.54 nvidia-curand-cu12-10.3.2.106 nvidia-cusolver-cu12-11.4.5.107 nvidia-cusparse-cu12-12.1.0.106 nvidia-nccl-cu12-2.19.3 nvidia-nvjitlink-cu12-12.4.127 nvidia-nvtx-cu12-12.1.105 thop-0.1.1.post2209072238 ultralytics-8.2.8\n"
     ]
    }
   ],
   "source": [
    "!pip install ultralytics"
   ]
  },
  {
   "cell_type": "code",
   "execution_count": null,
   "metadata": {
    "colab": {
     "base_uri": "https://localhost:8080/"
    },
    "executionInfo": {
     "elapsed": 6768794,
     "status": "ok",
     "timestamp": 1714146771457,
     "user": {
      "displayName": "Rantu Das",
      "userId": "04984181301648217754"
     },
     "user_tz": -360
    },
    "id": "Zku3DQ-K3Bmr",
    "outputId": "7037dd6a-58dc-4420-c475-a34a10c3d8f6"
   },
   "outputs": [
    {
     "name": "stdout",
     "output_type": "stream",
     "text": [
      "Ultralytics YOLOv8.2.2 🚀 Python-3.10.12 torch-2.2.1+cu121 CUDA:0 (Tesla T4, 15102MiB)\n",
      "\u001b[34m\u001b[1mengine/trainer: \u001b[0mtask=detect, mode=train, model=/content/gdrive/My Drive/CSE428/Project/Data/val/val/train2/weights/last.pt, data=/content/gdrive/My Drive/CSE428/Project/Data/Data/data.yaml, epochs=20, time=None, patience=100, batch=16, imgsz=1400, save=True, save_period=-1, cache=False, device=None, workers=8, project=None, name=train2, exist_ok=False, pretrained=True, optimizer=auto, verbose=True, seed=0, deterministic=True, single_cls=False, rect=False, cos_lr=False, close_mosaic=10, resume=False, amp=True, fraction=1.0, profile=False, freeze=None, multi_scale=False, overlap_mask=True, mask_ratio=4, dropout=0.0, val=True, split=val, save_json=False, save_hybrid=False, conf=None, iou=0.7, max_det=300, half=False, dnn=False, plots=True, source=None, vid_stride=1, stream_buffer=False, visualize=False, augment=False, agnostic_nms=False, classes=None, retina_masks=False, embed=None, show=False, save_frames=False, save_txt=False, save_conf=False, save_crop=False, show_labels=True, show_conf=True, show_boxes=True, line_width=None, format=torchscript, keras=False, optimize=False, int8=False, dynamic=False, simplify=False, opset=None, workspace=4, nms=False, lr0=0.01, lrf=0.01, momentum=0.937, weight_decay=0.0005, warmup_epochs=3.0, warmup_momentum=0.8, warmup_bias_lr=0.1, box=7.5, cls=0.5, dfl=1.5, pose=12.0, kobj=1.0, label_smoothing=0.0, nbs=64, hsv_h=0.015, hsv_s=0.7, hsv_v=0.4, degrees=0.0, translate=0.1, scale=0.5, shear=0.0, perspective=0.0, flipud=0.0, fliplr=0.5, bgr=0.0, mosaic=1.0, mixup=0.0, copy_paste=0.0, auto_augment=randaugment, erasing=0.4, crop_fraction=1.0, cfg=None, tracker=botsort.yaml, save_dir=runs/detect/train2\n",
      "\n",
      "                   from  n    params  module                                       arguments                     \n",
      "  0                  -1  1       464  ultralytics.nn.modules.conv.Conv             [3, 16, 3, 2]                 \n",
      "  1                  -1  1      4672  ultralytics.nn.modules.conv.Conv             [16, 32, 3, 2]                \n",
      "  2                  -1  1      7360  ultralytics.nn.modules.block.C2f             [32, 32, 1, True]             \n",
      "  3                  -1  1     18560  ultralytics.nn.modules.conv.Conv             [32, 64, 3, 2]                \n",
      "  4                  -1  2     49664  ultralytics.nn.modules.block.C2f             [64, 64, 2, True]             \n",
      "  5                  -1  1     73984  ultralytics.nn.modules.conv.Conv             [64, 128, 3, 2]               \n",
      "  6                  -1  2    197632  ultralytics.nn.modules.block.C2f             [128, 128, 2, True]           \n",
      "  7                  -1  1    295424  ultralytics.nn.modules.conv.Conv             [128, 256, 3, 2]              \n",
      "  8                  -1  1    460288  ultralytics.nn.modules.block.C2f             [256, 256, 1, True]           \n",
      "  9                  -1  1    164608  ultralytics.nn.modules.block.SPPF            [256, 256, 5]                 \n",
      " 10                  -1  1         0  torch.nn.modules.upsampling.Upsample         [None, 2, 'nearest']          \n",
      " 11             [-1, 6]  1         0  ultralytics.nn.modules.conv.Concat           [1]                           \n",
      " 12                  -1  1    148224  ultralytics.nn.modules.block.C2f             [384, 128, 1]                 \n",
      " 13                  -1  1         0  torch.nn.modules.upsampling.Upsample         [None, 2, 'nearest']          \n",
      " 14             [-1, 4]  1         0  ultralytics.nn.modules.conv.Concat           [1]                           \n",
      " 15                  -1  1     37248  ultralytics.nn.modules.block.C2f             [192, 64, 1]                  \n",
      " 16                  -1  1     36992  ultralytics.nn.modules.conv.Conv             [64, 64, 3, 2]                \n",
      " 17            [-1, 12]  1         0  ultralytics.nn.modules.conv.Concat           [1]                           \n",
      " 18                  -1  1    123648  ultralytics.nn.modules.block.C2f             [192, 128, 1]                 \n",
      " 19                  -1  1    147712  ultralytics.nn.modules.conv.Conv             [128, 128, 3, 2]              \n",
      " 20             [-1, 9]  1         0  ultralytics.nn.modules.conv.Concat           [1]                           \n",
      " 21                  -1  1    493056  ultralytics.nn.modules.block.C2f             [384, 256, 1]                 \n",
      " 22        [15, 18, 21]  1    751507  ultralytics.nn.modules.head.Detect           [1, [64, 128, 256]]           \n",
      "Model summary: 225 layers, 3011043 parameters, 3011027 gradients, 8.2 GFLOPs\n",
      "\n",
      "Transferred 355/355 items from pretrained weights\n",
      "\u001b[34m\u001b[1mTensorBoard: \u001b[0mStart with 'tensorboard --logdir runs/detect/train2', view at http://localhost:6006/\n",
      "Freezing layer 'model.22.dfl.conv.weight'\n",
      "\u001b[34m\u001b[1mAMP: \u001b[0mrunning Automatic Mixed Precision (AMP) checks with YOLOv8n...\n",
      "\u001b[34m\u001b[1mAMP: \u001b[0mchecks passed ✅\n",
      "WARNING ⚠️ imgsz=[1400] must be multiple of max stride 32, updating to [1408]\n"
     ]
    },
    {
     "name": "stderr",
     "output_type": "stream",
     "text": [
      "\u001b[34m\u001b[1mtrain: \u001b[0mScanning /content/gdrive/My Drive/CSE428/Project/Data/Data/labels/train... 1624 images, 17 backgrounds, 26 corrupt: 100%|██████████| 1624/1624 [17:52<00:00,  1.51it/s]"
     ]
    },
    {
     "name": "stdout",
     "output_type": "stream",
     "text": [
      "\u001b[34m\u001b[1mtrain: \u001b[0mWARNING ⚠️ /content/gdrive/My Drive/CSE428/Project/Data/Data/images/train/19121070_01.jpg: corrupt JPEG restored and saved\n",
      "\u001b[34m\u001b[1mtrain: \u001b[0mWARNING ⚠️ /content/gdrive/My Drive/CSE428/Project/Data/Data/images/train/19121070_05.jpg: corrupt JPEG restored and saved\n",
      "\u001b[34m\u001b[1mtrain: \u001b[0mWARNING ⚠️ /content/gdrive/My Drive/CSE428/Project/Data/Data/images/train/19121070_06.jpg: corrupt JPEG restored and saved\n",
      "\u001b[34m\u001b[1mtrain: \u001b[0mWARNING ⚠️ /content/gdrive/My Drive/CSE428/Project/Data/Data/images/train/19121070_08.jpg: corrupt JPEG restored and saved\n",
      "\u001b[34m\u001b[1mtrain: \u001b[0mWARNING ⚠️ /content/gdrive/My Drive/CSE428/Project/Data/Data/images/train/19121070_09.jpg: corrupt JPEG restored and saved\n",
      "\u001b[34m\u001b[1mtrain: \u001b[0mWARNING ⚠️ /content/gdrive/My Drive/CSE428/Project/Data/Data/images/train/19121070_10.jpg: corrupt JPEG restored and saved\n",
      "\u001b[34m\u001b[1mtrain: \u001b[0mWARNING ⚠️ /content/gdrive/My Drive/CSE428/Project/Data/Data/images/train/19121070_11.jpg: corrupt JPEG restored and saved\n",
      "\u001b[34m\u001b[1mtrain: \u001b[0mWARNING ⚠️ /content/gdrive/My Drive/CSE428/Project/Data/Data/images/train/19121070_12.jpg: corrupt JPEG restored and saved\n",
      "\u001b[34m\u001b[1mtrain: \u001b[0mWARNING ⚠️ /content/gdrive/My Drive/CSE428/Project/Data/Data/images/train/19121070_13.jpg: corrupt JPEG restored and saved\n",
      "\u001b[34m\u001b[1mtrain: \u001b[0mWARNING ⚠️ /content/gdrive/My Drive/CSE428/Project/Data/Data/images/train/19121070_14.jpg: corrupt JPEG restored and saved\n",
      "\u001b[34m\u001b[1mtrain: \u001b[0mWARNING ⚠️ /content/gdrive/My Drive/CSE428/Project/Data/Data/images/train/19121070_16.jpg: corrupt JPEG restored and saved\n",
      "\u001b[34m\u001b[1mtrain: \u001b[0mWARNING ⚠️ /content/gdrive/My Drive/CSE428/Project/Data/Data/images/train/19121070_17.jpg: corrupt JPEG restored and saved\n",
      "\u001b[34m\u001b[1mtrain: \u001b[0mWARNING ⚠️ /content/gdrive/My Drive/CSE428/Project/Data/Data/images/train/19121070_18.jpg: corrupt JPEG restored and saved\n",
      "\u001b[34m\u001b[1mtrain: \u001b[0mWARNING ⚠️ /content/gdrive/My Drive/CSE428/Project/Data/Data/images/train/19121070_19.jpg: corrupt JPEG restored and saved\n",
      "\u001b[34m\u001b[1mtrain: \u001b[0mWARNING ⚠️ /content/gdrive/My Drive/CSE428/Project/Data/Data/images/train/19121070_21.jpg: corrupt JPEG restored and saved\n",
      "\u001b[34m\u001b[1mtrain: \u001b[0mWARNING ⚠️ /content/gdrive/My Drive/CSE428/Project/Data/Data/images/train/19121070_22.jpg: corrupt JPEG restored and saved\n",
      "\u001b[34m\u001b[1mtrain: \u001b[0mWARNING ⚠️ /content/gdrive/My Drive/CSE428/Project/Data/Data/images/train/19121070_23.jpg: corrupt JPEG restored and saved\n",
      "\u001b[34m\u001b[1mtrain: \u001b[0mWARNING ⚠️ /content/gdrive/My Drive/CSE428/Project/Data/Data/images/train/19121070_24.jpg: corrupt JPEG restored and saved\n",
      "\u001b[34m\u001b[1mtrain: \u001b[0mWARNING ⚠️ /content/gdrive/My Drive/CSE428/Project/Data/Data/images/train/19121070_25.jpg: corrupt JPEG restored and saved\n",
      "\u001b[34m\u001b[1mtrain: \u001b[0mWARNING ⚠️ /content/gdrive/My Drive/CSE428/Project/Data/Data/images/train/19121070_26.jpg: corrupt JPEG restored and saved\n",
      "\u001b[34m\u001b[1mtrain: \u001b[0mWARNING ⚠️ /content/gdrive/My Drive/CSE428/Project/Data/Data/images/train/19121070_27.jpg: corrupt JPEG restored and saved\n",
      "\u001b[34m\u001b[1mtrain: \u001b[0mWARNING ⚠️ /content/gdrive/My Drive/CSE428/Project/Data/Data/images/train/19121070_28.jpg: corrupt JPEG restored and saved\n",
      "\u001b[34m\u001b[1mtrain: \u001b[0mWARNING ⚠️ /content/gdrive/My Drive/CSE428/Project/Data/Data/images/train/19121070_29.jpg: corrupt JPEG restored and saved\n",
      "\u001b[34m\u001b[1mtrain: \u001b[0mWARNING ⚠️ /content/gdrive/My Drive/CSE428/Project/Data/Data/images/train/19121070_30.jpg: corrupt JPEG restored and saved\n",
      "\u001b[34m\u001b[1mtrain: \u001b[0mWARNING ⚠️ /content/gdrive/My Drive/CSE428/Project/Data/Data/images/train/19121070_31.jpg: corrupt JPEG restored and saved\n",
      "\u001b[34m\u001b[1mtrain: \u001b[0mWARNING ⚠️ /content/gdrive/My Drive/CSE428/Project/Data/Data/images/train/19121070_32.jpg: corrupt JPEG restored and saved\n",
      "\u001b[34m\u001b[1mtrain: \u001b[0mWARNING ⚠️ /content/gdrive/My Drive/CSE428/Project/Data/Data/images/train/19121070_34.jpg: corrupt JPEG restored and saved\n",
      "\u001b[34m\u001b[1mtrain: \u001b[0mWARNING ⚠️ /content/gdrive/My Drive/CSE428/Project/Data/Data/images/train/19121070_35.jpg: corrupt JPEG restored and saved\n",
      "\u001b[34m\u001b[1mtrain: \u001b[0mWARNING ⚠️ /content/gdrive/My Drive/CSE428/Project/Data/Data/images/train/20101285_41.jpg: corrupt JPEG restored and saved\n",
      "\u001b[34m\u001b[1mtrain: \u001b[0mWARNING ⚠️ /content/gdrive/My Drive/CSE428/Project/Data/Data/images/train/20101285_43.jpg: corrupt JPEG restored and saved\n",
      "\u001b[34m\u001b[1mtrain: \u001b[0mWARNING ⚠️ /content/gdrive/My Drive/CSE428/Project/Data/Data/images/train/20101285_44.jpg: corrupt JPEG restored and saved\n",
      "\u001b[34m\u001b[1mtrain: \u001b[0mWARNING ⚠️ /content/gdrive/My Drive/CSE428/Project/Data/Data/images/train/20101285_45.jpg: corrupt JPEG restored and saved\n",
      "\u001b[34m\u001b[1mtrain: \u001b[0mWARNING ⚠️ /content/gdrive/My Drive/CSE428/Project/Data/Data/images/train/20101285_48.jpg: corrupt JPEG restored and saved\n",
      "\u001b[34m\u001b[1mtrain: \u001b[0mWARNING ⚠️ /content/gdrive/My Drive/CSE428/Project/Data/Data/images/train/20101285_50.jpg: corrupt JPEG restored and saved\n",
      "\u001b[34m\u001b[1mtrain: \u001b[0mWARNING ⚠️ /content/gdrive/My Drive/CSE428/Project/Data/Data/images/train/20101285_54.jpg: corrupt JPEG restored and saved\n",
      "\u001b[34m\u001b[1mtrain: \u001b[0mWARNING ⚠️ /content/gdrive/My Drive/CSE428/Project/Data/Data/images/train/20101285_55.jpg: corrupt JPEG restored and saved\n",
      "\u001b[34m\u001b[1mtrain: \u001b[0mWARNING ⚠️ /content/gdrive/My Drive/CSE428/Project/Data/Data/images/train/20101285_56.jpg: corrupt JPEG restored and saved\n",
      "\u001b[34m\u001b[1mtrain: \u001b[0mWARNING ⚠️ /content/gdrive/My Drive/CSE428/Project/Data/Data/images/train/20101285_58.jpg: corrupt JPEG restored and saved\n",
      "\u001b[34m\u001b[1mtrain: \u001b[0mWARNING ⚠️ /content/gdrive/My Drive/CSE428/Project/Data/Data/images/train/20101285_62.jpg: corrupt JPEG restored and saved\n",
      "\u001b[34m\u001b[1mtrain: \u001b[0mWARNING ⚠️ /content/gdrive/My Drive/CSE428/Project/Data/Data/images/train/20101285_64.jpg: corrupt JPEG restored and saved\n",
      "\u001b[34m\u001b[1mtrain: \u001b[0mWARNING ⚠️ /content/gdrive/My Drive/CSE428/Project/Data/Data/images/train/20101285_65.jpg: corrupt JPEG restored and saved\n",
      "\u001b[34m\u001b[1mtrain: \u001b[0mWARNING ⚠️ /content/gdrive/My Drive/CSE428/Project/Data/Data/images/train/20101285_66.jpg: corrupt JPEG restored and saved\n",
      "\u001b[34m\u001b[1mtrain: \u001b[0mWARNING ⚠️ /content/gdrive/My Drive/CSE428/Project/Data/Data/images/train/20101285_68.jpg: corrupt JPEG restored and saved\n",
      "\u001b[34m\u001b[1mtrain: \u001b[0mWARNING ⚠️ /content/gdrive/My Drive/CSE428/Project/Data/Data/images/train/20101285_69.jpg: corrupt JPEG restored and saved\n",
      "\u001b[34m\u001b[1mtrain: \u001b[0mWARNING ⚠️ /content/gdrive/My Drive/CSE428/Project/Data/Data/images/train/20121026_01.jpg: corrupt JPEG restored and saved\n",
      "\u001b[34m\u001b[1mtrain: \u001b[0mWARNING ⚠️ /content/gdrive/My Drive/CSE428/Project/Data/Data/images/train/20121026_03.jpg: corrupt JPEG restored and saved\n",
      "\u001b[34m\u001b[1mtrain: \u001b[0mWARNING ⚠️ /content/gdrive/My Drive/CSE428/Project/Data/Data/images/train/20121026_04.jpg: corrupt JPEG restored and saved\n",
      "\u001b[34m\u001b[1mtrain: \u001b[0mWARNING ⚠️ /content/gdrive/My Drive/CSE428/Project/Data/Data/images/train/20121026_06.jpg: corrupt JPEG restored and saved\n",
      "\u001b[34m\u001b[1mtrain: \u001b[0mWARNING ⚠️ /content/gdrive/My Drive/CSE428/Project/Data/Data/images/train/20121026_07.jpg: corrupt JPEG restored and saved\n",
      "\u001b[34m\u001b[1mtrain: \u001b[0mWARNING ⚠️ /content/gdrive/My Drive/CSE428/Project/Data/Data/images/train/20121026_09.jpg: corrupt JPEG restored and saved\n",
      "\u001b[34m\u001b[1mtrain: \u001b[0mWARNING ⚠️ /content/gdrive/My Drive/CSE428/Project/Data/Data/images/train/20121026_10.jpg: corrupt JPEG restored and saved\n",
      "\u001b[34m\u001b[1mtrain: \u001b[0mWARNING ⚠️ /content/gdrive/My Drive/CSE428/Project/Data/Data/images/train/20121026_12.jpg: corrupt JPEG restored and saved\n",
      "\u001b[34m\u001b[1mtrain: \u001b[0mWARNING ⚠️ /content/gdrive/My Drive/CSE428/Project/Data/Data/images/train/20121026_14.jpg: corrupt JPEG restored and saved\n",
      "\u001b[34m\u001b[1mtrain: \u001b[0mWARNING ⚠️ /content/gdrive/My Drive/CSE428/Project/Data/Data/images/train/20121026_16.jpg: corrupt JPEG restored and saved\n",
      "\u001b[34m\u001b[1mtrain: \u001b[0mWARNING ⚠️ /content/gdrive/My Drive/CSE428/Project/Data/Data/images/train/20121026_18.jpg: corrupt JPEG restored and saved\n",
      "\u001b[34m\u001b[1mtrain: \u001b[0mWARNING ⚠️ /content/gdrive/My Drive/CSE428/Project/Data/Data/images/train/20121026_19.jpg: corrupt JPEG restored and saved\n",
      "\u001b[34m\u001b[1mtrain: \u001b[0mWARNING ⚠️ /content/gdrive/My Drive/CSE428/Project/Data/Data/images/train/20121026_20.jpg: corrupt JPEG restored and saved\n",
      "\u001b[34m\u001b[1mtrain: \u001b[0mWARNING ⚠️ /content/gdrive/My Drive/CSE428/Project/Data/Data/images/train/20121026_21.jpg: corrupt JPEG restored and saved\n",
      "\u001b[34m\u001b[1mtrain: \u001b[0mWARNING ⚠️ /content/gdrive/My Drive/CSE428/Project/Data/Data/images/train/20121026_22.jpg: corrupt JPEG restored and saved\n",
      "\u001b[34m\u001b[1mtrain: \u001b[0mWARNING ⚠️ /content/gdrive/My Drive/CSE428/Project/Data/Data/images/train/20121026_23.jpg: corrupt JPEG restored and saved\n",
      "\u001b[34m\u001b[1mtrain: \u001b[0mWARNING ⚠️ /content/gdrive/My Drive/CSE428/Project/Data/Data/images/train/20121026_24.jpg: corrupt JPEG restored and saved\n",
      "\u001b[34m\u001b[1mtrain: \u001b[0mWARNING ⚠️ /content/gdrive/My Drive/CSE428/Project/Data/Data/images/train/20121026_26.jpg: corrupt JPEG restored and saved\n",
      "\u001b[34m\u001b[1mtrain: \u001b[0mWARNING ⚠️ /content/gdrive/My Drive/CSE428/Project/Data/Data/images/train/20121026_27.jpg: corrupt JPEG restored and saved\n",
      "\u001b[34m\u001b[1mtrain: \u001b[0mWARNING ⚠️ /content/gdrive/My Drive/CSE428/Project/Data/Data/images/train/20121026_28.jpg: corrupt JPEG restored and saved\n",
      "\u001b[34m\u001b[1mtrain: \u001b[0mWARNING ⚠️ /content/gdrive/My Drive/CSE428/Project/Data/Data/images/train/20121026_30.jpg: corrupt JPEG restored and saved\n",
      "\u001b[34m\u001b[1mtrain: \u001b[0mWARNING ⚠️ /content/gdrive/My Drive/CSE428/Project/Data/Data/images/train/20201020_41.jpg: corrupt JPEG restored and saved\n",
      "\u001b[34m\u001b[1mtrain: \u001b[0mWARNING ⚠️ /content/gdrive/My Drive/CSE428/Project/Data/Data/images/train/20201020_42.jpg: corrupt JPEG restored and saved\n",
      "\u001b[34m\u001b[1mtrain: \u001b[0mWARNING ⚠️ /content/gdrive/My Drive/CSE428/Project/Data/Data/images/train/20201020_43.jpg: corrupt JPEG restored and saved\n",
      "\u001b[34m\u001b[1mtrain: \u001b[0mWARNING ⚠️ /content/gdrive/My Drive/CSE428/Project/Data/Data/images/train/20201020_44.jpg: corrupt JPEG restored and saved\n",
      "\u001b[34m\u001b[1mtrain: \u001b[0mWARNING ⚠️ /content/gdrive/My Drive/CSE428/Project/Data/Data/images/train/20201020_46.jpg: corrupt JPEG restored and saved\n",
      "\u001b[34m\u001b[1mtrain: \u001b[0mWARNING ⚠️ /content/gdrive/My Drive/CSE428/Project/Data/Data/images/train/20201020_47.jpg: corrupt JPEG restored and saved\n",
      "\u001b[34m\u001b[1mtrain: \u001b[0mWARNING ⚠️ /content/gdrive/My Drive/CSE428/Project/Data/Data/images/train/20201020_49.jpg: corrupt JPEG restored and saved\n",
      "\u001b[34m\u001b[1mtrain: \u001b[0mWARNING ⚠️ /content/gdrive/My Drive/CSE428/Project/Data/Data/images/train/20201020_51.jpg: corrupt JPEG restored and saved\n",
      "\u001b[34m\u001b[1mtrain: \u001b[0mWARNING ⚠️ /content/gdrive/My Drive/CSE428/Project/Data/Data/images/train/20201020_52.jpg: corrupt JPEG restored and saved\n",
      "\u001b[34m\u001b[1mtrain: \u001b[0mWARNING ⚠️ /content/gdrive/My Drive/CSE428/Project/Data/Data/images/train/20201020_53.jpg: corrupt JPEG restored and saved\n",
      "\u001b[34m\u001b[1mtrain: \u001b[0mWARNING ⚠️ /content/gdrive/My Drive/CSE428/Project/Data/Data/images/train/20201020_54.jpg: corrupt JPEG restored and saved\n",
      "\u001b[34m\u001b[1mtrain: \u001b[0mWARNING ⚠️ /content/gdrive/My Drive/CSE428/Project/Data/Data/images/train/20201020_56.jpg: corrupt JPEG restored and saved\n",
      "\u001b[34m\u001b[1mtrain: \u001b[0mWARNING ⚠️ /content/gdrive/My Drive/CSE428/Project/Data/Data/images/train/20201020_57.jpg: corrupt JPEG restored and saved\n",
      "\u001b[34m\u001b[1mtrain: \u001b[0mWARNING ⚠️ /content/gdrive/My Drive/CSE428/Project/Data/Data/images/train/20201020_58.jpg: corrupt JPEG restored and saved\n",
      "\u001b[34m\u001b[1mtrain: \u001b[0mWARNING ⚠️ /content/gdrive/My Drive/CSE428/Project/Data/Data/images/train/20201020_59.jpg: corrupt JPEG restored and saved\n",
      "\u001b[34m\u001b[1mtrain: \u001b[0mWARNING ⚠️ /content/gdrive/My Drive/CSE428/Project/Data/Data/images/train/20201020_61.jpg: corrupt JPEG restored and saved\n",
      "\u001b[34m\u001b[1mtrain: \u001b[0mWARNING ⚠️ /content/gdrive/My Drive/CSE428/Project/Data/Data/images/train/20201020_62.jpg: corrupt JPEG restored and saved\n",
      "\u001b[34m\u001b[1mtrain: \u001b[0mWARNING ⚠️ /content/gdrive/My Drive/CSE428/Project/Data/Data/images/train/20201020_63.jpg: corrupt JPEG restored and saved\n",
      "\u001b[34m\u001b[1mtrain: \u001b[0mWARNING ⚠️ /content/gdrive/My Drive/CSE428/Project/Data/Data/images/train/20201020_64.jpg: corrupt JPEG restored and saved\n",
      "\u001b[34m\u001b[1mtrain: \u001b[0mWARNING ⚠️ /content/gdrive/My Drive/CSE428/Project/Data/Data/images/train/20201020_67.jpg: corrupt JPEG restored and saved\n",
      "\u001b[34m\u001b[1mtrain: \u001b[0mWARNING ⚠️ /content/gdrive/My Drive/CSE428/Project/Data/Data/images/train/2961.png: ignoring corrupt image/label: non-normalized or out of bounds coordinates [     2.4172      3.0767      2.5756      1.5525]\n",
      "\u001b[34m\u001b[1mtrain: \u001b[0mWARNING ⚠️ /content/gdrive/My Drive/CSE428/Project/Data/Data/images/train/2964.png: ignoring corrupt image/label: non-normalized or out of bounds coordinates [     2.4172      3.0767      2.5756      1.5525]\n",
      "\u001b[34m\u001b[1mtrain: \u001b[0mWARNING ⚠️ /content/gdrive/My Drive/CSE428/Project/Data/Data/images/train/2965.png: ignoring corrupt image/label: non-normalized or out of bounds coordinates [     2.4172      3.0767      2.5756      1.5525]\n",
      "\u001b[34m\u001b[1mtrain: \u001b[0mWARNING ⚠️ /content/gdrive/My Drive/CSE428/Project/Data/Data/images/train/2966.png: ignoring corrupt image/label: non-normalized or out of bounds coordinates [     2.4172      3.0767      2.5756      1.5525]\n",
      "\u001b[34m\u001b[1mtrain: \u001b[0mWARNING ⚠️ /content/gdrive/My Drive/CSE428/Project/Data/Data/images/train/2968.png: ignoring corrupt image/label: non-normalized or out of bounds coordinates [     2.4172      3.0767      2.5756      1.5525]\n",
      "\u001b[34m\u001b[1mtrain: \u001b[0mWARNING ⚠️ /content/gdrive/My Drive/CSE428/Project/Data/Data/images/train/2970.png: ignoring corrupt image/label: non-normalized or out of bounds coordinates [     2.4172      3.0767      2.5756      1.5525]\n",
      "\u001b[34m\u001b[1mtrain: \u001b[0mWARNING ⚠️ /content/gdrive/My Drive/CSE428/Project/Data/Data/images/train/2972.png: ignoring corrupt image/label: non-normalized or out of bounds coordinates [     2.4172      3.0767      2.5756      1.5525]\n",
      "\u001b[34m\u001b[1mtrain: \u001b[0mWARNING ⚠️ /content/gdrive/My Drive/CSE428/Project/Data/Data/images/train/2973.png: ignoring corrupt image/label: non-normalized or out of bounds coordinates [     2.4172      3.0767      2.5756      1.5525]\n",
      "\u001b[34m\u001b[1mtrain: \u001b[0mWARNING ⚠️ /content/gdrive/My Drive/CSE428/Project/Data/Data/images/train/2974.png: ignoring corrupt image/label: non-normalized or out of bounds coordinates [     2.4172      3.0767      2.5756      1.5525]\n",
      "\u001b[34m\u001b[1mtrain: \u001b[0mWARNING ⚠️ /content/gdrive/My Drive/CSE428/Project/Data/Data/images/train/2975.png: ignoring corrupt image/label: non-normalized or out of bounds coordinates [     2.4172      3.0767      2.5756      1.5525]\n",
      "\u001b[34m\u001b[1mtrain: \u001b[0mWARNING ⚠️ /content/gdrive/My Drive/CSE428/Project/Data/Data/images/train/2976.png: ignoring corrupt image/label: non-normalized or out of bounds coordinates [     2.4172      3.0767      2.5756      1.5525]\n",
      "\u001b[34m\u001b[1mtrain: \u001b[0mWARNING ⚠️ /content/gdrive/My Drive/CSE428/Project/Data/Data/images/train/2979.png: ignoring corrupt image/label: non-normalized or out of bounds coordinates [     2.4172      3.0767      2.5756      1.5525]\n",
      "\u001b[34m\u001b[1mtrain: \u001b[0mWARNING ⚠️ /content/gdrive/My Drive/CSE428/Project/Data/Data/images/train/2980.png: ignoring corrupt image/label: non-normalized or out of bounds coordinates [     2.4172      3.0767      2.5756      1.5525]\n",
      "\u001b[34m\u001b[1mtrain: \u001b[0mWARNING ⚠️ /content/gdrive/My Drive/CSE428/Project/Data/Data/images/train/2981.png: ignoring corrupt image/label: non-normalized or out of bounds coordinates [     2.4172      3.0767      2.5756      1.5525]\n",
      "\u001b[34m\u001b[1mtrain: \u001b[0mWARNING ⚠️ /content/gdrive/My Drive/CSE428/Project/Data/Data/images/train/2982.png: ignoring corrupt image/label: non-normalized or out of bounds coordinates [     2.4172      3.0767      2.5756      1.5525]\n",
      "\u001b[34m\u001b[1mtrain: \u001b[0mWARNING ⚠️ /content/gdrive/My Drive/CSE428/Project/Data/Data/images/train/2983.png: ignoring corrupt image/label: non-normalized or out of bounds coordinates [     2.4172      3.0767      2.5756      1.5525]\n",
      "\u001b[34m\u001b[1mtrain: \u001b[0mWARNING ⚠️ /content/gdrive/My Drive/CSE428/Project/Data/Data/images/train/2984.png: ignoring corrupt image/label: non-normalized or out of bounds coordinates [     2.4172      3.0767      2.5756      1.5525]\n",
      "\u001b[34m\u001b[1mtrain: \u001b[0mWARNING ⚠️ /content/gdrive/My Drive/CSE428/Project/Data/Data/images/train/2985.png: ignoring corrupt image/label: non-normalized or out of bounds coordinates [     2.4172      3.0767      2.5756      1.5525]\n",
      "\u001b[34m\u001b[1mtrain: \u001b[0mWARNING ⚠️ /content/gdrive/My Drive/CSE428/Project/Data/Data/images/train/2986.png: ignoring corrupt image/label: non-normalized or out of bounds coordinates [     2.4172      3.0767      2.5756      1.5525]\n",
      "\u001b[34m\u001b[1mtrain: \u001b[0mWARNING ⚠️ /content/gdrive/My Drive/CSE428/Project/Data/Data/images/train/2987.png: ignoring corrupt image/label: non-normalized or out of bounds coordinates [     2.4172      3.0767      2.5756      1.5525]\n",
      "\u001b[34m\u001b[1mtrain: \u001b[0mWARNING ⚠️ /content/gdrive/My Drive/CSE428/Project/Data/Data/images/train/2988.png: ignoring corrupt image/label: non-normalized or out of bounds coordinates [     2.4172      3.0767      2.5756      1.5525]\n",
      "\u001b[34m\u001b[1mtrain: \u001b[0mWARNING ⚠️ /content/gdrive/My Drive/CSE428/Project/Data/Data/images/train/2989.png: ignoring corrupt image/label: non-normalized or out of bounds coordinates [     2.4172      3.0767      2.5756      1.5525]\n",
      "\u001b[34m\u001b[1mtrain: \u001b[0mWARNING ⚠️ /content/gdrive/My Drive/CSE428/Project/Data/Data/images/train/2990.png: ignoring corrupt image/label: non-normalized or out of bounds coordinates [     2.4172      3.0767      2.5756      1.5525]\n",
      "\u001b[34m\u001b[1mtrain: \u001b[0mWARNING ⚠️ /content/gdrive/My Drive/CSE428/Project/Data/Data/images/train/2993.png: ignoring corrupt image/label: non-normalized or out of bounds coordinates [     2.4172      3.0767      2.5756      1.5525]\n",
      "\u001b[34m\u001b[1mtrain: \u001b[0mWARNING ⚠️ /content/gdrive/My Drive/CSE428/Project/Data/Data/images/train/2998.png: ignoring corrupt image/label: non-normalized or out of bounds coordinates [     2.4172      3.0767      2.5756      1.5525]\n",
      "\u001b[34m\u001b[1mtrain: \u001b[0mWARNING ⚠️ /content/gdrive/My Drive/CSE428/Project/Data/Data/images/train/3000.png: ignoring corrupt image/label: non-normalized or out of bounds coordinates [     2.4172      3.0767      2.5756      1.5525]\n"
     ]
    },
    {
     "name": "stderr",
     "output_type": "stream",
     "text": [
      "\n"
     ]
    },
    {
     "name": "stdout",
     "output_type": "stream",
     "text": [
      "\u001b[34m\u001b[1mtrain: \u001b[0mNew cache created: /content/gdrive/My Drive/CSE428/Project/Data/Data/labels/train.cache\n",
      "\u001b[34m\u001b[1malbumentations: \u001b[0mBlur(p=0.01, blur_limit=(3, 7)), MedianBlur(p=0.01, blur_limit=(3, 7)), ToGray(p=0.01), CLAHE(p=0.01, clip_limit=(1, 4.0), tile_grid_size=(8, 8))\n"
     ]
    },
    {
     "name": "stderr",
     "output_type": "stream",
     "text": [
      "/usr/lib/python3.10/multiprocessing/popen_fork.py:66: RuntimeWarning: os.fork() was called. os.fork() is incompatible with multithreaded code, and JAX is multithreaded, so this will likely lead to a deadlock.\n",
      "  self.pid = os.fork()\n",
      "\u001b[34m\u001b[1mval: \u001b[0mScanning /content/gdrive/My Drive/CSE428/Project/Data/Data/labels/val... 464 images, 7 backgrounds, 10 corrupt: 100%|██████████| 464/464 [03:59<00:00,  1.94it/s]"
     ]
    },
    {
     "name": "stdout",
     "output_type": "stream",
     "text": [
      "\u001b[34m\u001b[1mval: \u001b[0mWARNING ⚠️ /content/gdrive/My Drive/CSE428/Project/Data/Data/images/val/19121070_02.jpg: corrupt JPEG restored and saved\n",
      "\u001b[34m\u001b[1mval: \u001b[0mWARNING ⚠️ /content/gdrive/My Drive/CSE428/Project/Data/Data/images/val/19121070_04.jpg: corrupt JPEG restored and saved\n",
      "\u001b[34m\u001b[1mval: \u001b[0mWARNING ⚠️ /content/gdrive/My Drive/CSE428/Project/Data/Data/images/val/19121070_20.jpg: corrupt JPEG restored and saved\n",
      "\u001b[34m\u001b[1mval: \u001b[0mWARNING ⚠️ /content/gdrive/My Drive/CSE428/Project/Data/Data/images/val/19121070_33.jpg: corrupt JPEG restored and saved\n",
      "\u001b[34m\u001b[1mval: \u001b[0mWARNING ⚠️ /content/gdrive/My Drive/CSE428/Project/Data/Data/images/val/20101285_42.jpg: corrupt JPEG restored and saved\n",
      "\u001b[34m\u001b[1mval: \u001b[0mWARNING ⚠️ /content/gdrive/My Drive/CSE428/Project/Data/Data/images/val/20101285_46.jpg: corrupt JPEG restored and saved\n",
      "\u001b[34m\u001b[1mval: \u001b[0mWARNING ⚠️ /content/gdrive/My Drive/CSE428/Project/Data/Data/images/val/20101285_47.jpg: corrupt JPEG restored and saved\n",
      "\u001b[34m\u001b[1mval: \u001b[0mWARNING ⚠️ /content/gdrive/My Drive/CSE428/Project/Data/Data/images/val/20101285_51.jpg: corrupt JPEG restored and saved\n",
      "\u001b[34m\u001b[1mval: \u001b[0mWARNING ⚠️ /content/gdrive/My Drive/CSE428/Project/Data/Data/images/val/20101285_52.jpg: corrupt JPEG restored and saved\n",
      "\u001b[34m\u001b[1mval: \u001b[0mWARNING ⚠️ /content/gdrive/My Drive/CSE428/Project/Data/Data/images/val/20101285_53.jpg: corrupt JPEG restored and saved\n",
      "\u001b[34m\u001b[1mval: \u001b[0mWARNING ⚠️ /content/gdrive/My Drive/CSE428/Project/Data/Data/images/val/20101285_57.jpg: corrupt JPEG restored and saved\n",
      "\u001b[34m\u001b[1mval: \u001b[0mWARNING ⚠️ /content/gdrive/My Drive/CSE428/Project/Data/Data/images/val/20101285_59.jpg: corrupt JPEG restored and saved\n",
      "\u001b[34m\u001b[1mval: \u001b[0mWARNING ⚠️ /content/gdrive/My Drive/CSE428/Project/Data/Data/images/val/20101285_60.jpg: corrupt JPEG restored and saved\n",
      "\u001b[34m\u001b[1mval: \u001b[0mWARNING ⚠️ /content/gdrive/My Drive/CSE428/Project/Data/Data/images/val/20101285_61.jpg: corrupt JPEG restored and saved\n",
      "\u001b[34m\u001b[1mval: \u001b[0mWARNING ⚠️ /content/gdrive/My Drive/CSE428/Project/Data/Data/images/val/20101285_63.jpg: corrupt JPEG restored and saved\n",
      "\u001b[34m\u001b[1mval: \u001b[0mWARNING ⚠️ /content/gdrive/My Drive/CSE428/Project/Data/Data/images/val/20101285_70.jpg: corrupt JPEG restored and saved\n",
      "\u001b[34m\u001b[1mval: \u001b[0mWARNING ⚠️ /content/gdrive/My Drive/CSE428/Project/Data/Data/images/val/20121026_02.jpg: corrupt JPEG restored and saved\n",
      "\u001b[34m\u001b[1mval: \u001b[0mWARNING ⚠️ /content/gdrive/My Drive/CSE428/Project/Data/Data/images/val/20121026_05.jpg: corrupt JPEG restored and saved\n",
      "\u001b[34m\u001b[1mval: \u001b[0mWARNING ⚠️ /content/gdrive/My Drive/CSE428/Project/Data/Data/images/val/20121026_08.jpg: corrupt JPEG restored and saved\n",
      "\u001b[34m\u001b[1mval: \u001b[0mWARNING ⚠️ /content/gdrive/My Drive/CSE428/Project/Data/Data/images/val/20121026_11.jpg: corrupt JPEG restored and saved\n",
      "\u001b[34m\u001b[1mval: \u001b[0mWARNING ⚠️ /content/gdrive/My Drive/CSE428/Project/Data/Data/images/val/20121026_13.jpg: corrupt JPEG restored and saved\n",
      "\u001b[34m\u001b[1mval: \u001b[0mWARNING ⚠️ /content/gdrive/My Drive/CSE428/Project/Data/Data/images/val/20121026_15.jpg: corrupt JPEG restored and saved\n",
      "\u001b[34m\u001b[1mval: \u001b[0mWARNING ⚠️ /content/gdrive/My Drive/CSE428/Project/Data/Data/images/val/20121026_17.jpg: corrupt JPEG restored and saved\n",
      "\u001b[34m\u001b[1mval: \u001b[0mWARNING ⚠️ /content/gdrive/My Drive/CSE428/Project/Data/Data/images/val/20121026_25.jpg: corrupt JPEG restored and saved\n",
      "\u001b[34m\u001b[1mval: \u001b[0mWARNING ⚠️ /content/gdrive/My Drive/CSE428/Project/Data/Data/images/val/20201020_45.jpg: corrupt JPEG restored and saved\n",
      "\u001b[34m\u001b[1mval: \u001b[0mWARNING ⚠️ /content/gdrive/My Drive/CSE428/Project/Data/Data/images/val/20201020_48.jpg: corrupt JPEG restored and saved\n",
      "\u001b[34m\u001b[1mval: \u001b[0mWARNING ⚠️ /content/gdrive/My Drive/CSE428/Project/Data/Data/images/val/20201020_50.jpg: corrupt JPEG restored and saved\n",
      "\u001b[34m\u001b[1mval: \u001b[0mWARNING ⚠️ /content/gdrive/My Drive/CSE428/Project/Data/Data/images/val/20201020_55.jpg: corrupt JPEG restored and saved\n",
      "\u001b[34m\u001b[1mval: \u001b[0mWARNING ⚠️ /content/gdrive/My Drive/CSE428/Project/Data/Data/images/val/20201020_60.jpg: corrupt JPEG restored and saved\n",
      "\u001b[34m\u001b[1mval: \u001b[0mWARNING ⚠️ /content/gdrive/My Drive/CSE428/Project/Data/Data/images/val/2962.png: ignoring corrupt image/label: non-normalized or out of bounds coordinates [     2.4172      3.0767      2.5756      1.5525]\n",
      "\u001b[34m\u001b[1mval: \u001b[0mWARNING ⚠️ /content/gdrive/My Drive/CSE428/Project/Data/Data/images/val/2967.png: ignoring corrupt image/label: non-normalized or out of bounds coordinates [     2.4172      3.0767      2.5756      1.5525]\n",
      "\u001b[34m\u001b[1mval: \u001b[0mWARNING ⚠️ /content/gdrive/My Drive/CSE428/Project/Data/Data/images/val/2971.png: ignoring corrupt image/label: non-normalized or out of bounds coordinates [     2.4172      3.0767      2.5756      1.5525]\n",
      "\u001b[34m\u001b[1mval: \u001b[0mWARNING ⚠️ /content/gdrive/My Drive/CSE428/Project/Data/Data/images/val/2977.png: ignoring corrupt image/label: non-normalized or out of bounds coordinates [     2.4172      3.0767      2.5756      1.5525]\n",
      "\u001b[34m\u001b[1mval: \u001b[0mWARNING ⚠️ /content/gdrive/My Drive/CSE428/Project/Data/Data/images/val/2978.png: ignoring corrupt image/label: non-normalized or out of bounds coordinates [     2.4172      3.0767      2.5756      1.5525]\n",
      "\u001b[34m\u001b[1mval: \u001b[0mWARNING ⚠️ /content/gdrive/My Drive/CSE428/Project/Data/Data/images/val/2992.png: ignoring corrupt image/label: non-normalized or out of bounds coordinates [     2.4172      3.0767      2.5756      1.5525]\n",
      "\u001b[34m\u001b[1mval: \u001b[0mWARNING ⚠️ /content/gdrive/My Drive/CSE428/Project/Data/Data/images/val/2995.png: ignoring corrupt image/label: non-normalized or out of bounds coordinates [     2.4172      3.0767      2.5756      1.5525]\n",
      "\u001b[34m\u001b[1mval: \u001b[0mWARNING ⚠️ /content/gdrive/My Drive/CSE428/Project/Data/Data/images/val/2996.png: ignoring corrupt image/label: non-normalized or out of bounds coordinates [     2.4172      3.0767      2.5756      1.5525]\n",
      "\u001b[34m\u001b[1mval: \u001b[0mWARNING ⚠️ /content/gdrive/My Drive/CSE428/Project/Data/Data/images/val/2997.png: ignoring corrupt image/label: non-normalized or out of bounds coordinates [     2.4172      3.0767      2.5756      1.5525]\n",
      "\u001b[34m\u001b[1mval: \u001b[0mWARNING ⚠️ /content/gdrive/My Drive/CSE428/Project/Data/Data/images/val/2999.png: ignoring corrupt image/label: non-normalized or out of bounds coordinates [     2.4172      3.0767      2.5756      1.5525]\n"
     ]
    },
    {
     "name": "stderr",
     "output_type": "stream",
     "text": [
      "\n"
     ]
    },
    {
     "name": "stdout",
     "output_type": "stream",
     "text": [
      "\u001b[34m\u001b[1mval: \u001b[0mNew cache created: /content/gdrive/My Drive/CSE428/Project/Data/Data/labels/val.cache\n",
      "Plotting labels to runs/detect/train2/labels.jpg... \n",
      "\u001b[34m\u001b[1moptimizer:\u001b[0m 'optimizer=auto' found, ignoring 'lr0=0.01' and 'momentum=0.937' and determining best 'optimizer', 'lr0' and 'momentum' automatically... \n",
      "\u001b[34m\u001b[1moptimizer:\u001b[0m AdamW(lr=0.002, momentum=0.9) with parameter groups 57 weight(decay=0.0), 64 weight(decay=0.0005), 63 bias(decay=0.0)\n",
      "\u001b[34m\u001b[1mTensorBoard: \u001b[0mmodel graph visualization added ✅\n",
      "Image sizes 1408 train, 1408 val\n",
      "Using 2 dataloader workers\n",
      "Logging results to \u001b[1mruns/detect/train2\u001b[0m\n",
      "Starting training for 20 epochs...\n",
      "\n",
      "      Epoch    GPU_mem   box_loss   cls_loss   dfl_loss  Instances       Size\n"
     ]
    },
    {
     "name": "stderr",
     "output_type": "stream",
     "text": [
      "       1/20      11.4G     0.9176     0.8992      1.068         55       1408: 100%|██████████| 100/100 [03:55<00:00,  2.36s/it]\n",
      "                 Class     Images  Instances      Box(P          R      mAP50  mAP50-95): 100%|██████████| 15/15 [00:42<00:00,  2.80s/it]"
     ]
    },
    {
     "name": "stdout",
     "output_type": "stream",
     "text": [
      "                   all        454       1259      0.698      0.736       0.77       0.56\n"
     ]
    },
    {
     "name": "stderr",
     "output_type": "stream",
     "text": [
      "\n"
     ]
    },
    {
     "name": "stdout",
     "output_type": "stream",
     "text": [
      "\n",
      "      Epoch    GPU_mem   box_loss   cls_loss   dfl_loss  Instances       Size\n"
     ]
    },
    {
     "name": "stderr",
     "output_type": "stream",
     "text": [
      "       2/20      10.7G     0.9454     0.8957      1.085         70       1408: 100%|██████████| 100/100 [03:51<00:00,  2.32s/it]\n",
      "                 Class     Images  Instances      Box(P          R      mAP50  mAP50-95): 100%|██████████| 15/15 [00:40<00:00,  2.69s/it]"
     ]
    },
    {
     "name": "stdout",
     "output_type": "stream",
     "text": [
      "                   all        454       1259      0.635      0.723      0.729      0.531\n"
     ]
    },
    {
     "name": "stderr",
     "output_type": "stream",
     "text": [
      "\n"
     ]
    },
    {
     "name": "stdout",
     "output_type": "stream",
     "text": [
      "\n",
      "      Epoch    GPU_mem   box_loss   cls_loss   dfl_loss  Instances       Size\n"
     ]
    },
    {
     "name": "stderr",
     "output_type": "stream",
     "text": [
      "       3/20      10.9G     0.9904     0.9427      1.116         76       1408: 100%|██████████| 100/100 [03:57<00:00,  2.37s/it]\n",
      "                 Class     Images  Instances      Box(P          R      mAP50  mAP50-95): 100%|██████████| 15/15 [00:42<00:00,  2.82s/it]"
     ]
    },
    {
     "name": "stdout",
     "output_type": "stream",
     "text": [
      "                   all        454       1259       0.67      0.612      0.657      0.459\n"
     ]
    },
    {
     "name": "stderr",
     "output_type": "stream",
     "text": [
      "\n"
     ]
    },
    {
     "name": "stdout",
     "output_type": "stream",
     "text": [
      "\n",
      "      Epoch    GPU_mem   box_loss   cls_loss   dfl_loss  Instances       Size\n"
     ]
    },
    {
     "name": "stderr",
     "output_type": "stream",
     "text": [
      "       4/20      10.9G     0.9969     0.9816      1.116         88       1408: 100%|██████████| 100/100 [03:58<00:00,  2.39s/it]\n",
      "                 Class     Images  Instances      Box(P          R      mAP50  mAP50-95): 100%|██████████| 15/15 [00:39<00:00,  2.62s/it]"
     ]
    },
    {
     "name": "stdout",
     "output_type": "stream",
     "text": [
      "                   all        454       1259      0.687      0.733      0.741      0.529\n"
     ]
    },
    {
     "name": "stderr",
     "output_type": "stream",
     "text": [
      "\n"
     ]
    },
    {
     "name": "stdout",
     "output_type": "stream",
     "text": [
      "\n",
      "      Epoch    GPU_mem   box_loss   cls_loss   dfl_loss  Instances       Size\n"
     ]
    },
    {
     "name": "stderr",
     "output_type": "stream",
     "text": [
      "       5/20      10.9G      0.987     0.9419      1.114         50       1408: 100%|██████████| 100/100 [03:54<00:00,  2.34s/it]\n",
      "                 Class     Images  Instances      Box(P          R      mAP50  mAP50-95): 100%|██████████| 15/15 [00:40<00:00,  2.69s/it]"
     ]
    },
    {
     "name": "stdout",
     "output_type": "stream",
     "text": [
      "                   all        454       1259      0.671      0.726       0.74      0.528\n"
     ]
    },
    {
     "name": "stderr",
     "output_type": "stream",
     "text": [
      "\n"
     ]
    },
    {
     "name": "stdout",
     "output_type": "stream",
     "text": [
      "\n",
      "      Epoch    GPU_mem   box_loss   cls_loss   dfl_loss  Instances       Size\n"
     ]
    },
    {
     "name": "stderr",
     "output_type": "stream",
     "text": [
      "       6/20      10.8G     0.9797      0.932      1.112         52       1408: 100%|██████████| 100/100 [03:53<00:00,  2.34s/it]\n",
      "                 Class     Images  Instances      Box(P          R      mAP50  mAP50-95): 100%|██████████| 15/15 [00:38<00:00,  2.56s/it]"
     ]
    },
    {
     "name": "stdout",
     "output_type": "stream",
     "text": [
      "                   all        454       1259      0.681       0.68      0.731      0.524\n"
     ]
    },
    {
     "name": "stderr",
     "output_type": "stream",
     "text": [
      "\n"
     ]
    },
    {
     "name": "stdout",
     "output_type": "stream",
     "text": [
      "\n",
      "      Epoch    GPU_mem   box_loss   cls_loss   dfl_loss  Instances       Size\n"
     ]
    },
    {
     "name": "stderr",
     "output_type": "stream",
     "text": [
      "       7/20      10.8G     0.9649     0.8982      1.104         65       1408: 100%|██████████| 100/100 [03:52<00:00,  2.32s/it]\n",
      "                 Class     Images  Instances      Box(P          R      mAP50  mAP50-95): 100%|██████████| 15/15 [00:37<00:00,  2.49s/it]"
     ]
    },
    {
     "name": "stdout",
     "output_type": "stream",
     "text": [
      "                   all        454       1259      0.698      0.716      0.755      0.557\n"
     ]
    },
    {
     "name": "stderr",
     "output_type": "stream",
     "text": [
      "\n"
     ]
    },
    {
     "name": "stdout",
     "output_type": "stream",
     "text": [
      "\n",
      "      Epoch    GPU_mem   box_loss   cls_loss   dfl_loss  Instances       Size\n"
     ]
    },
    {
     "name": "stderr",
     "output_type": "stream",
     "text": [
      "       8/20      10.7G     0.9614     0.8974      1.098         78       1408: 100%|██████████| 100/100 [03:53<00:00,  2.33s/it]\n",
      "                 Class     Images  Instances      Box(P          R      mAP50  mAP50-95): 100%|██████████| 15/15 [00:37<00:00,  2.48s/it]"
     ]
    },
    {
     "name": "stdout",
     "output_type": "stream",
     "text": [
      "                   all        454       1259      0.686      0.762      0.759      0.553\n"
     ]
    },
    {
     "name": "stderr",
     "output_type": "stream",
     "text": [
      "\n"
     ]
    },
    {
     "name": "stdout",
     "output_type": "stream",
     "text": [
      "\n",
      "      Epoch    GPU_mem   box_loss   cls_loss   dfl_loss  Instances       Size\n"
     ]
    },
    {
     "name": "stderr",
     "output_type": "stream",
     "text": [
      "       9/20      10.8G     0.9263     0.8685      1.076         63       1408: 100%|██████████| 100/100 [03:41<00:00,  2.21s/it]\n",
      "                 Class     Images  Instances      Box(P          R      mAP50  mAP50-95): 100%|██████████| 15/15 [00:40<00:00,  2.68s/it]"
     ]
    },
    {
     "name": "stdout",
     "output_type": "stream",
     "text": [
      "                   all        454       1259      0.696      0.723      0.759      0.555\n"
     ]
    },
    {
     "name": "stderr",
     "output_type": "stream",
     "text": [
      "\n"
     ]
    },
    {
     "name": "stdout",
     "output_type": "stream",
     "text": [
      "\n",
      "      Epoch    GPU_mem   box_loss   cls_loss   dfl_loss  Instances       Size\n"
     ]
    },
    {
     "name": "stderr",
     "output_type": "stream",
     "text": [
      "      10/20      10.7G      0.943     0.8592      1.087         78       1408: 100%|██████████| 100/100 [03:44<00:00,  2.25s/it]\n",
      "                 Class     Images  Instances      Box(P          R      mAP50  mAP50-95): 100%|██████████| 15/15 [00:39<00:00,  2.63s/it]"
     ]
    },
    {
     "name": "stdout",
     "output_type": "stream",
     "text": [
      "                   all        454       1259      0.672      0.764      0.773      0.576\n"
     ]
    },
    {
     "name": "stderr",
     "output_type": "stream",
     "text": [
      "\n"
     ]
    },
    {
     "name": "stdout",
     "output_type": "stream",
     "text": [
      "Closing dataloader mosaic\n",
      "\u001b[34m\u001b[1malbumentations: \u001b[0mBlur(p=0.01, blur_limit=(3, 7)), MedianBlur(p=0.01, blur_limit=(3, 7)), ToGray(p=0.01), CLAHE(p=0.01, clip_limit=(1, 4.0), tile_grid_size=(8, 8))\n"
     ]
    },
    {
     "name": "stderr",
     "output_type": "stream",
     "text": [
      "/usr/lib/python3.10/multiprocessing/popen_fork.py:66: RuntimeWarning: os.fork() was called. os.fork() is incompatible with multithreaded code, and JAX is multithreaded, so this will likely lead to a deadlock.\n",
      "  self.pid = os.fork()\n"
     ]
    },
    {
     "name": "stdout",
     "output_type": "stream",
     "text": [
      "\n",
      "      Epoch    GPU_mem   box_loss   cls_loss   dfl_loss  Instances       Size\n"
     ]
    },
    {
     "name": "stderr",
     "output_type": "stream",
     "text": [
      "      11/20      10.7G     0.9416     0.8818      1.075         42       1408: 100%|██████████| 100/100 [03:50<00:00,  2.31s/it]\n",
      "                 Class     Images  Instances      Box(P          R      mAP50  mAP50-95): 100%|██████████| 15/15 [00:36<00:00,  2.41s/it]"
     ]
    },
    {
     "name": "stdout",
     "output_type": "stream",
     "text": [
      "                   all        454       1259      0.695       0.71      0.757      0.564\n"
     ]
    },
    {
     "name": "stderr",
     "output_type": "stream",
     "text": [
      "\n"
     ]
    },
    {
     "name": "stdout",
     "output_type": "stream",
     "text": [
      "\n",
      "      Epoch    GPU_mem   box_loss   cls_loss   dfl_loss  Instances       Size\n"
     ]
    },
    {
     "name": "stderr",
     "output_type": "stream",
     "text": [
      "      12/20      10.7G     0.9413     0.8356       1.08         29       1408: 100%|██████████| 100/100 [03:47<00:00,  2.28s/it]\n",
      "                 Class     Images  Instances      Box(P          R      mAP50  mAP50-95): 100%|██████████| 15/15 [00:40<00:00,  2.68s/it]"
     ]
    },
    {
     "name": "stdout",
     "output_type": "stream",
     "text": [
      "                   all        454       1259      0.728      0.716       0.77      0.567\n"
     ]
    },
    {
     "name": "stderr",
     "output_type": "stream",
     "text": [
      "\n"
     ]
    },
    {
     "name": "stdout",
     "output_type": "stream",
     "text": [
      "\n",
      "      Epoch    GPU_mem   box_loss   cls_loss   dfl_loss  Instances       Size\n"
     ]
    },
    {
     "name": "stderr",
     "output_type": "stream",
     "text": [
      "      13/20      10.7G     0.9243     0.8062      1.049         50       1408: 100%|██████████| 100/100 [03:46<00:00,  2.26s/it]\n",
      "                 Class     Images  Instances      Box(P          R      mAP50  mAP50-95): 100%|██████████| 15/15 [00:35<00:00,  2.39s/it]"
     ]
    },
    {
     "name": "stdout",
     "output_type": "stream",
     "text": [
      "                   all        454       1259      0.699      0.719      0.773      0.569\n"
     ]
    },
    {
     "name": "stderr",
     "output_type": "stream",
     "text": [
      "\n"
     ]
    },
    {
     "name": "stdout",
     "output_type": "stream",
     "text": [
      "\n",
      "      Epoch    GPU_mem   box_loss   cls_loss   dfl_loss  Instances       Size\n"
     ]
    },
    {
     "name": "stderr",
     "output_type": "stream",
     "text": [
      "      14/20      10.6G     0.9148     0.7927      1.047         40       1408: 100%|██████████| 100/100 [03:31<00:00,  2.11s/it]\n",
      "                 Class     Images  Instances      Box(P          R      mAP50  mAP50-95): 100%|██████████| 15/15 [00:38<00:00,  2.58s/it]"
     ]
    },
    {
     "name": "stdout",
     "output_type": "stream",
     "text": [
      "                   all        454       1259      0.703      0.738      0.783      0.583\n"
     ]
    },
    {
     "name": "stderr",
     "output_type": "stream",
     "text": [
      "\n"
     ]
    },
    {
     "name": "stdout",
     "output_type": "stream",
     "text": [
      "\n",
      "      Epoch    GPU_mem   box_loss   cls_loss   dfl_loss  Instances       Size\n"
     ]
    },
    {
     "name": "stderr",
     "output_type": "stream",
     "text": [
      "      15/20      10.7G     0.8903     0.7583      1.031         43       1408: 100%|██████████| 100/100 [03:38<00:00,  2.19s/it]\n",
      "                 Class     Images  Instances      Box(P          R      mAP50  mAP50-95): 100%|██████████| 15/15 [00:38<00:00,  2.55s/it]"
     ]
    },
    {
     "name": "stdout",
     "output_type": "stream",
     "text": [
      "                   all        454       1259      0.727      0.733      0.787      0.585\n"
     ]
    },
    {
     "name": "stderr",
     "output_type": "stream",
     "text": [
      "\n"
     ]
    },
    {
     "name": "stdout",
     "output_type": "stream",
     "text": [
      "\n",
      "      Epoch    GPU_mem   box_loss   cls_loss   dfl_loss  Instances       Size\n"
     ]
    },
    {
     "name": "stderr",
     "output_type": "stream",
     "text": [
      "      16/20      10.7G     0.8735     0.7466      1.024         34       1408: 100%|██████████| 100/100 [03:41<00:00,  2.21s/it]\n",
      "                 Class     Images  Instances      Box(P          R      mAP50  mAP50-95): 100%|██████████| 15/15 [00:40<00:00,  2.70s/it]"
     ]
    },
    {
     "name": "stdout",
     "output_type": "stream",
     "text": [
      "                   all        454       1259      0.736      0.707      0.795       0.59\n"
     ]
    },
    {
     "name": "stderr",
     "output_type": "stream",
     "text": [
      "\n"
     ]
    },
    {
     "name": "stdout",
     "output_type": "stream",
     "text": [
      "\n",
      "      Epoch    GPU_mem   box_loss   cls_loss   dfl_loss  Instances       Size\n"
     ]
    },
    {
     "name": "stderr",
     "output_type": "stream",
     "text": [
      "      17/20      10.7G     0.8653     0.7259      1.013         35       1408: 100%|██████████| 100/100 [03:48<00:00,  2.29s/it]\n",
      "                 Class     Images  Instances      Box(P          R      mAP50  mAP50-95): 100%|██████████| 15/15 [00:40<00:00,  2.69s/it]"
     ]
    },
    {
     "name": "stdout",
     "output_type": "stream",
     "text": [
      "                   all        454       1259      0.741       0.72      0.796      0.591\n"
     ]
    },
    {
     "name": "stderr",
     "output_type": "stream",
     "text": [
      "\n"
     ]
    },
    {
     "name": "stdout",
     "output_type": "stream",
     "text": [
      "\n",
      "      Epoch    GPU_mem   box_loss   cls_loss   dfl_loss  Instances       Size\n"
     ]
    },
    {
     "name": "stderr",
     "output_type": "stream",
     "text": [
      "      18/20      10.7G       0.86     0.6969      1.011         29       1408: 100%|██████████| 100/100 [03:50<00:00,  2.30s/it]\n",
      "                 Class     Images  Instances      Box(P          R      mAP50  mAP50-95): 100%|██████████| 15/15 [00:38<00:00,  2.56s/it]"
     ]
    },
    {
     "name": "stdout",
     "output_type": "stream",
     "text": [
      "                   all        454       1259      0.713      0.759        0.8      0.606\n"
     ]
    },
    {
     "name": "stderr",
     "output_type": "stream",
     "text": [
      "\n"
     ]
    },
    {
     "name": "stdout",
     "output_type": "stream",
     "text": [
      "\n",
      "      Epoch    GPU_mem   box_loss   cls_loss   dfl_loss  Instances       Size\n"
     ]
    },
    {
     "name": "stderr",
     "output_type": "stream",
     "text": [
      "      19/20      10.7G     0.8409     0.6814     0.9956         34       1408: 100%|██████████| 100/100 [03:44<00:00,  2.25s/it]\n",
      "                 Class     Images  Instances      Box(P          R      mAP50  mAP50-95): 100%|██████████| 15/15 [00:40<00:00,  2.73s/it]"
     ]
    },
    {
     "name": "stdout",
     "output_type": "stream",
     "text": [
      "                   all        454       1259      0.706      0.767      0.805       0.61\n"
     ]
    },
    {
     "name": "stderr",
     "output_type": "stream",
     "text": [
      "\n"
     ]
    },
    {
     "name": "stdout",
     "output_type": "stream",
     "text": [
      "\n",
      "      Epoch    GPU_mem   box_loss   cls_loss   dfl_loss  Instances       Size\n"
     ]
    },
    {
     "name": "stderr",
     "output_type": "stream",
     "text": [
      "      20/20      10.6G      0.828     0.6611     0.9883         47       1408: 100%|██████████| 100/100 [03:44<00:00,  2.25s/it]\n",
      "                 Class     Images  Instances      Box(P          R      mAP50  mAP50-95): 100%|██████████| 15/15 [00:36<00:00,  2.44s/it]"
     ]
    },
    {
     "name": "stdout",
     "output_type": "stream",
     "text": [
      "                   all        454       1259      0.694      0.789      0.804      0.612\n"
     ]
    },
    {
     "name": "stderr",
     "output_type": "stream",
     "text": [
      "\n"
     ]
    },
    {
     "name": "stdout",
     "output_type": "stream",
     "text": [
      "\n",
      "20 epochs completed in 1.496 hours.\n",
      "Optimizer stripped from runs/detect/train2/weights/last.pt, 6.4MB\n",
      "Optimizer stripped from runs/detect/train2/weights/best.pt, 6.4MB\n",
      "\n",
      "Validating runs/detect/train2/weights/best.pt...\n",
      "Ultralytics YOLOv8.2.2 🚀 Python-3.10.12 torch-2.2.1+cu121 CUDA:0 (Tesla T4, 15102MiB)\n",
      "Model summary (fused): 168 layers, 3005843 parameters, 0 gradients, 8.1 GFLOPs\n"
     ]
    },
    {
     "name": "stderr",
     "output_type": "stream",
     "text": [
      "                 Class     Images  Instances      Box(P          R      mAP50  mAP50-95): 100%|██████████| 15/15 [00:39<00:00,  2.65s/it]\n"
     ]
    },
    {
     "name": "stdout",
     "output_type": "stream",
     "text": [
      "                   all        454       1259      0.694      0.789      0.804      0.612\n",
      "Speed: 0.8ms preprocess, 7.2ms inference, 0.0ms loss, 3.2ms postprocess per image\n",
      "Results saved to \u001b[1mruns/detect/train2\u001b[0m\n"
     ]
    }
   ],
   "source": [
    "\n",
    "from ultralytics import YOLO\n",
    "\n",
    "# Load a model\n",
    "model = YOLO('/content/gdrive/My Drive/CSE428/Project/Data/val/val/train2/weights/last.pt')  # load a pretrained model (recommended for training)\n",
    "\n",
    "# Train the model\n",
    "results = model.train(data=r'/content/gdrive/My Drive/CSE428/Project/Data/Data/data.yaml', epochs=20, imgsz=1400)\n"
   ]
  },
  {
   "cell_type": "code",
   "execution_count": null,
   "metadata": {
    "colab": {
     "base_uri": "https://localhost:8080/"
    },
    "executionInfo": {
     "elapsed": 550,
     "status": "ok",
     "timestamp": 1714146825842,
     "user": {
      "displayName": "Rantu Das",
      "userId": "04984181301648217754"
     },
     "user_tz": -360
    },
    "id": "FKQE9LCVunpx",
    "outputId": "90ed43be-4964-4a4d-808f-5bdd3e5c52f8"
   },
   "outputs": [
    {
     "name": "stdout",
     "output_type": "stream",
     "text": [
      "ultralytics.utils.metrics.DetMetrics object with attributes:\n",
      "\n",
      "ap_class_index: array([0])\n",
      "box: ultralytics.utils.metrics.Metric object\n",
      "confusion_matrix: <ultralytics.utils.metrics.ConfusionMatrix object at 0x782308362cb0>\n",
      "curves: ['Precision-Recall(B)', 'F1-Confidence(B)', 'Precision-Confidence(B)', 'Recall-Confidence(B)']\n",
      "curves_results: [[array([          0,    0.001001,    0.002002,    0.003003,    0.004004,    0.005005,    0.006006,    0.007007,    0.008008,    0.009009,     0.01001,    0.011011,    0.012012,    0.013013,    0.014014,    0.015015,    0.016016,    0.017017,    0.018018,    0.019019,     0.02002,    0.021021,    0.022022,    0.023023,\n",
      "          0.024024,    0.025025,    0.026026,    0.027027,    0.028028,    0.029029,     0.03003,    0.031031,    0.032032,    0.033033,    0.034034,    0.035035,    0.036036,    0.037037,    0.038038,    0.039039,     0.04004,    0.041041,    0.042042,    0.043043,    0.044044,    0.045045,    0.046046,    0.047047,\n",
      "          0.048048,    0.049049,     0.05005,    0.051051,    0.052052,    0.053053,    0.054054,    0.055055,    0.056056,    0.057057,    0.058058,    0.059059,     0.06006,    0.061061,    0.062062,    0.063063,    0.064064,    0.065065,    0.066066,    0.067067,    0.068068,    0.069069,     0.07007,    0.071071,\n",
      "          0.072072,    0.073073,    0.074074,    0.075075,    0.076076,    0.077077,    0.078078,    0.079079,     0.08008,    0.081081,    0.082082,    0.083083,    0.084084,    0.085085,    0.086086,    0.087087,    0.088088,    0.089089,     0.09009,    0.091091,    0.092092,    0.093093,    0.094094,    0.095095,\n",
      "          0.096096,    0.097097,    0.098098,    0.099099,      0.1001,      0.1011,      0.1021,      0.1031,      0.1041,     0.10511,     0.10611,     0.10711,     0.10811,     0.10911,     0.11011,     0.11111,     0.11211,     0.11311,     0.11411,     0.11512,     0.11612,     0.11712,     0.11812,     0.11912,\n",
      "           0.12012,     0.12112,     0.12212,     0.12312,     0.12412,     0.12513,     0.12613,     0.12713,     0.12813,     0.12913,     0.13013,     0.13113,     0.13213,     0.13313,     0.13413,     0.13514,     0.13614,     0.13714,     0.13814,     0.13914,     0.14014,     0.14114,     0.14214,     0.14314,\n",
      "           0.14414,     0.14515,     0.14615,     0.14715,     0.14815,     0.14915,     0.15015,     0.15115,     0.15215,     0.15315,     0.15415,     0.15516,     0.15616,     0.15716,     0.15816,     0.15916,     0.16016,     0.16116,     0.16216,     0.16316,     0.16416,     0.16517,     0.16617,     0.16717,\n",
      "           0.16817,     0.16917,     0.17017,     0.17117,     0.17217,     0.17317,     0.17417,     0.17518,     0.17618,     0.17718,     0.17818,     0.17918,     0.18018,     0.18118,     0.18218,     0.18318,     0.18418,     0.18519,     0.18619,     0.18719,     0.18819,     0.18919,     0.19019,     0.19119,\n",
      "           0.19219,     0.19319,     0.19419,      0.1952,      0.1962,      0.1972,      0.1982,      0.1992,      0.2002,      0.2012,      0.2022,      0.2032,      0.2042,     0.20521,     0.20621,     0.20721,     0.20821,     0.20921,     0.21021,     0.21121,     0.21221,     0.21321,     0.21421,     0.21522,\n",
      "           0.21622,     0.21722,     0.21822,     0.21922,     0.22022,     0.22122,     0.22222,     0.22322,     0.22422,     0.22523,     0.22623,     0.22723,     0.22823,     0.22923,     0.23023,     0.23123,     0.23223,     0.23323,     0.23423,     0.23524,     0.23624,     0.23724,     0.23824,     0.23924,\n",
      "           0.24024,     0.24124,     0.24224,     0.24324,     0.24424,     0.24525,     0.24625,     0.24725,     0.24825,     0.24925,     0.25025,     0.25125,     0.25225,     0.25325,     0.25425,     0.25526,     0.25626,     0.25726,     0.25826,     0.25926,     0.26026,     0.26126,     0.26226,     0.26326,\n",
      "           0.26426,     0.26527,     0.26627,     0.26727,     0.26827,     0.26927,     0.27027,     0.27127,     0.27227,     0.27327,     0.27427,     0.27528,     0.27628,     0.27728,     0.27828,     0.27928,     0.28028,     0.28128,     0.28228,     0.28328,     0.28428,     0.28529,     0.28629,     0.28729,\n",
      "           0.28829,     0.28929,     0.29029,     0.29129,     0.29229,     0.29329,     0.29429,      0.2953,      0.2963,      0.2973,      0.2983,      0.2993,      0.3003,      0.3013,      0.3023,      0.3033,      0.3043,     0.30531,     0.30631,     0.30731,     0.30831,     0.30931,     0.31031,     0.31131,\n",
      "           0.31231,     0.31331,     0.31431,     0.31532,     0.31632,     0.31732,     0.31832,     0.31932,     0.32032,     0.32132,     0.32232,     0.32332,     0.32432,     0.32533,     0.32633,     0.32733,     0.32833,     0.32933,     0.33033,     0.33133,     0.33233,     0.33333,     0.33433,     0.33534,\n",
      "           0.33634,     0.33734,     0.33834,     0.33934,     0.34034,     0.34134,     0.34234,     0.34334,     0.34434,     0.34535,     0.34635,     0.34735,     0.34835,     0.34935,     0.35035,     0.35135,     0.35235,     0.35335,     0.35435,     0.35536,     0.35636,     0.35736,     0.35836,     0.35936,\n",
      "           0.36036,     0.36136,     0.36236,     0.36336,     0.36436,     0.36537,     0.36637,     0.36737,     0.36837,     0.36937,     0.37037,     0.37137,     0.37237,     0.37337,     0.37437,     0.37538,     0.37638,     0.37738,     0.37838,     0.37938,     0.38038,     0.38138,     0.38238,     0.38338,\n",
      "           0.38438,     0.38539,     0.38639,     0.38739,     0.38839,     0.38939,     0.39039,     0.39139,     0.39239,     0.39339,     0.39439,      0.3954,      0.3964,      0.3974,      0.3984,      0.3994,      0.4004,      0.4014,      0.4024,      0.4034,      0.4044,     0.40541,     0.40641,     0.40741,\n",
      "           0.40841,     0.40941,     0.41041,     0.41141,     0.41241,     0.41341,     0.41441,     0.41542,     0.41642,     0.41742,     0.41842,     0.41942,     0.42042,     0.42142,     0.42242,     0.42342,     0.42442,     0.42543,     0.42643,     0.42743,     0.42843,     0.42943,     0.43043,     0.43143,\n",
      "           0.43243,     0.43343,     0.43443,     0.43544,     0.43644,     0.43744,     0.43844,     0.43944,     0.44044,     0.44144,     0.44244,     0.44344,     0.44444,     0.44545,     0.44645,     0.44745,     0.44845,     0.44945,     0.45045,     0.45145,     0.45245,     0.45345,     0.45445,     0.45546,\n",
      "           0.45646,     0.45746,     0.45846,     0.45946,     0.46046,     0.46146,     0.46246,     0.46346,     0.46446,     0.46547,     0.46647,     0.46747,     0.46847,     0.46947,     0.47047,     0.47147,     0.47247,     0.47347,     0.47447,     0.47548,     0.47648,     0.47748,     0.47848,     0.47948,\n",
      "           0.48048,     0.48148,     0.48248,     0.48348,     0.48448,     0.48549,     0.48649,     0.48749,     0.48849,     0.48949,     0.49049,     0.49149,     0.49249,     0.49349,     0.49449,      0.4955,      0.4965,      0.4975,      0.4985,      0.4995,      0.5005,      0.5015,      0.5025,      0.5035,\n",
      "            0.5045,     0.50551,     0.50651,     0.50751,     0.50851,     0.50951,     0.51051,     0.51151,     0.51251,     0.51351,     0.51451,     0.51552,     0.51652,     0.51752,     0.51852,     0.51952,     0.52052,     0.52152,     0.52252,     0.52352,     0.52452,     0.52553,     0.52653,     0.52753,\n",
      "           0.52853,     0.52953,     0.53053,     0.53153,     0.53253,     0.53353,     0.53453,     0.53554,     0.53654,     0.53754,     0.53854,     0.53954,     0.54054,     0.54154,     0.54254,     0.54354,     0.54454,     0.54555,     0.54655,     0.54755,     0.54855,     0.54955,     0.55055,     0.55155,\n",
      "           0.55255,     0.55355,     0.55455,     0.55556,     0.55656,     0.55756,     0.55856,     0.55956,     0.56056,     0.56156,     0.56256,     0.56356,     0.56456,     0.56557,     0.56657,     0.56757,     0.56857,     0.56957,     0.57057,     0.57157,     0.57257,     0.57357,     0.57457,     0.57558,\n",
      "           0.57658,     0.57758,     0.57858,     0.57958,     0.58058,     0.58158,     0.58258,     0.58358,     0.58458,     0.58559,     0.58659,     0.58759,     0.58859,     0.58959,     0.59059,     0.59159,     0.59259,     0.59359,     0.59459,      0.5956,      0.5966,      0.5976,      0.5986,      0.5996,\n",
      "            0.6006,      0.6016,      0.6026,      0.6036,      0.6046,     0.60561,     0.60661,     0.60761,     0.60861,     0.60961,     0.61061,     0.61161,     0.61261,     0.61361,     0.61461,     0.61562,     0.61662,     0.61762,     0.61862,     0.61962,     0.62062,     0.62162,     0.62262,     0.62362,\n",
      "           0.62462,     0.62563,     0.62663,     0.62763,     0.62863,     0.62963,     0.63063,     0.63163,     0.63263,     0.63363,     0.63463,     0.63564,     0.63664,     0.63764,     0.63864,     0.63964,     0.64064,     0.64164,     0.64264,     0.64364,     0.64464,     0.64565,     0.64665,     0.64765,\n",
      "           0.64865,     0.64965,     0.65065,     0.65165,     0.65265,     0.65365,     0.65465,     0.65566,     0.65666,     0.65766,     0.65866,     0.65966,     0.66066,     0.66166,     0.66266,     0.66366,     0.66466,     0.66567,     0.66667,     0.66767,     0.66867,     0.66967,     0.67067,     0.67167,\n",
      "           0.67267,     0.67367,     0.67467,     0.67568,     0.67668,     0.67768,     0.67868,     0.67968,     0.68068,     0.68168,     0.68268,     0.68368,     0.68468,     0.68569,     0.68669,     0.68769,     0.68869,     0.68969,     0.69069,     0.69169,     0.69269,     0.69369,     0.69469,      0.6957,\n",
      "            0.6967,      0.6977,      0.6987,      0.6997,      0.7007,      0.7017,      0.7027,      0.7037,      0.7047,     0.70571,     0.70671,     0.70771,     0.70871,     0.70971,     0.71071,     0.71171,     0.71271,     0.71371,     0.71471,     0.71572,     0.71672,     0.71772,     0.71872,     0.71972,\n",
      "           0.72072,     0.72172,     0.72272,     0.72372,     0.72472,     0.72573,     0.72673,     0.72773,     0.72873,     0.72973,     0.73073,     0.73173,     0.73273,     0.73373,     0.73473,     0.73574,     0.73674,     0.73774,     0.73874,     0.73974,     0.74074,     0.74174,     0.74274,     0.74374,\n",
      "           0.74474,     0.74575,     0.74675,     0.74775,     0.74875,     0.74975,     0.75075,     0.75175,     0.75275,     0.75375,     0.75475,     0.75576,     0.75676,     0.75776,     0.75876,     0.75976,     0.76076,     0.76176,     0.76276,     0.76376,     0.76476,     0.76577,     0.76677,     0.76777,\n",
      "           0.76877,     0.76977,     0.77077,     0.77177,     0.77277,     0.77377,     0.77477,     0.77578,     0.77678,     0.77778,     0.77878,     0.77978,     0.78078,     0.78178,     0.78278,     0.78378,     0.78478,     0.78579,     0.78679,     0.78779,     0.78879,     0.78979,     0.79079,     0.79179,\n",
      "           0.79279,     0.79379,     0.79479,      0.7958,      0.7968,      0.7978,      0.7988,      0.7998,      0.8008,      0.8018,      0.8028,      0.8038,      0.8048,     0.80581,     0.80681,     0.80781,     0.80881,     0.80981,     0.81081,     0.81181,     0.81281,     0.81381,     0.81481,     0.81582,\n",
      "           0.81682,     0.81782,     0.81882,     0.81982,     0.82082,     0.82182,     0.82282,     0.82382,     0.82482,     0.82583,     0.82683,     0.82783,     0.82883,     0.82983,     0.83083,     0.83183,     0.83283,     0.83383,     0.83483,     0.83584,     0.83684,     0.83784,     0.83884,     0.83984,\n",
      "           0.84084,     0.84184,     0.84284,     0.84384,     0.84484,     0.84585,     0.84685,     0.84785,     0.84885,     0.84985,     0.85085,     0.85185,     0.85285,     0.85385,     0.85485,     0.85586,     0.85686,     0.85786,     0.85886,     0.85986,     0.86086,     0.86186,     0.86286,     0.86386,\n",
      "           0.86486,     0.86587,     0.86687,     0.86787,     0.86887,     0.86987,     0.87087,     0.87187,     0.87287,     0.87387,     0.87487,     0.87588,     0.87688,     0.87788,     0.87888,     0.87988,     0.88088,     0.88188,     0.88288,     0.88388,     0.88488,     0.88589,     0.88689,     0.88789,\n",
      "           0.88889,     0.88989,     0.89089,     0.89189,     0.89289,     0.89389,     0.89489,      0.8959,      0.8969,      0.8979,      0.8989,      0.8999,      0.9009,      0.9019,      0.9029,      0.9039,      0.9049,     0.90591,     0.90691,     0.90791,     0.90891,     0.90991,     0.91091,     0.91191,\n",
      "           0.91291,     0.91391,     0.91491,     0.91592,     0.91692,     0.91792,     0.91892,     0.91992,     0.92092,     0.92192,     0.92292,     0.92392,     0.92492,     0.92593,     0.92693,     0.92793,     0.92893,     0.92993,     0.93093,     0.93193,     0.93293,     0.93393,     0.93493,     0.93594,\n",
      "           0.93694,     0.93794,     0.93894,     0.93994,     0.94094,     0.94194,     0.94294,     0.94394,     0.94494,     0.94595,     0.94695,     0.94795,     0.94895,     0.94995,     0.95095,     0.95195,     0.95295,     0.95395,     0.95495,     0.95596,     0.95696,     0.95796,     0.95896,     0.95996,\n",
      "           0.96096,     0.96196,     0.96296,     0.96396,     0.96496,     0.96597,     0.96697,     0.96797,     0.96897,     0.96997,     0.97097,     0.97197,     0.97297,     0.97397,     0.97497,     0.97598,     0.97698,     0.97798,     0.97898,     0.97998,     0.98098,     0.98198,     0.98298,     0.98398,\n",
      "           0.98498,     0.98599,     0.98699,     0.98799,     0.98899,     0.98999,     0.99099,     0.99199,     0.99299,     0.99399,     0.99499,       0.996,       0.997,       0.998,       0.999,           1]), array([[          1,           1,           1,           1,           1,           1,           1,           1,           1,           1,           1,           1,           1,           1,     0.97419,     0.97419,     0.97419,     0.97419,     0.97419,     0.97419,     0.97419,     0.97419,     0.97419,\n",
      "            0.97419,     0.97419,     0.97419,     0.97419,     0.97419,     0.97419,     0.97419,     0.97419,     0.97419,     0.97419,     0.97419,     0.97419,     0.97419,     0.97419,     0.97419,     0.97419,     0.97419,     0.97419,     0.97419,     0.97419,     0.97419,     0.97419,     0.97419,\n",
      "            0.97419,     0.97419,     0.97419,     0.97419,     0.97419,     0.97419,     0.97419,     0.97419,     0.97419,     0.97419,     0.97419,     0.97419,     0.97419,     0.97419,     0.97419,     0.97419,     0.97419,     0.97419,     0.97419,     0.97419,     0.97419,     0.97419,     0.97419,\n",
      "            0.97419,     0.97419,     0.97419,     0.97419,     0.97419,     0.97419,     0.97419,     0.97419,     0.97419,     0.97419,     0.97419,     0.97419,     0.97419,     0.97419,     0.97419,     0.97419,     0.97419,     0.97419,     0.97419,     0.97419,     0.97419,     0.97419,     0.97419,\n",
      "            0.97419,     0.97419,     0.97419,     0.97419,     0.97419,     0.97419,     0.97419,     0.97419,     0.97419,     0.97419,     0.97419,     0.97419,     0.97419,     0.97419,     0.97419,     0.97419,     0.97419,     0.97419,     0.97419,     0.97419,     0.97419,     0.97419,     0.97419,\n",
      "            0.97419,     0.97419,     0.97419,     0.97419,     0.97419,     0.97207,     0.97207,     0.97207,     0.97207,     0.97207,     0.97207,     0.97207,     0.97207,     0.97207,     0.97207,     0.97207,     0.97207,     0.97207,     0.97207,     0.97207,     0.97207,     0.97207,     0.97207,\n",
      "            0.97207,     0.96809,     0.96809,     0.96809,     0.96809,     0.96809,     0.96809,     0.96535,     0.96535,     0.96535,     0.96535,     0.96535,     0.96535,     0.96535,     0.96535,     0.96535,     0.96535,     0.96117,     0.96117,     0.96117,        0.96,        0.96,        0.96,\n",
      "               0.96,        0.96,        0.96,        0.96,        0.96,        0.96,        0.96,        0.96,        0.96,        0.96,        0.96,     0.95951,     0.95951,     0.95951,     0.95951,     0.95951,     0.95951,     0.95951,     0.95951,     0.95951,     0.95951,     0.95951,     0.95951,\n",
      "            0.95951,     0.95951,     0.95951,     0.95951,     0.95951,     0.95785,     0.95785,     0.95785,     0.95785,     0.95785,     0.95785,     0.95785,     0.95785,     0.95785,     0.95785,     0.95437,     0.95356,     0.95356,     0.95356,     0.95356,     0.95356,     0.95356,     0.95356,\n",
      "            0.95356,     0.95356,     0.95356,     0.95356,     0.95356,     0.95356,     0.95356,     0.95356,     0.95356,     0.95356,     0.95356,     0.95356,     0.95356,     0.95356,     0.95356,     0.95356,     0.95356,     0.95356,     0.95356,     0.95356,     0.95356,     0.95356,     0.95356,\n",
      "            0.95356,     0.95356,     0.95356,     0.95356,     0.95356,     0.95356,     0.95356,     0.95356,     0.95356,     0.95356,     0.95356,     0.95356,     0.95356,     0.95356,     0.95356,     0.95107,     0.95107,     0.95101,     0.95101,     0.95101,     0.95101,     0.95101,     0.95101,\n",
      "            0.95101,     0.95101,     0.95101,     0.95101,     0.95101,     0.95101,     0.95101,     0.95101,     0.95101,     0.94886,     0.94886,     0.94886,     0.94886,     0.94809,     0.94809,     0.94809,     0.94809,     0.94809,     0.94809,     0.94809,     0.94809,     0.94809,     0.94809,\n",
      "            0.94695,     0.94695,     0.94695,     0.94695,     0.94695,     0.94695,     0.94695,     0.94695,     0.94503,     0.94503,     0.94503,     0.94286,     0.94286,     0.94072,      0.9397,      0.9397,      0.9397,      0.9397,      0.9397,      0.9397,      0.9397,     0.93812,     0.93812,\n",
      "            0.93812,     0.93812,     0.93674,     0.93674,     0.93674,     0.93674,     0.93674,     0.93556,     0.93556,     0.93556,     0.93556,     0.93556,     0.93556,     0.93365,     0.93192,     0.93192,     0.93192,     0.92644,     0.92644,     0.92644,     0.92644,      0.9236,      0.9236,\n",
      "             0.9236,      0.9236,      0.9236,      0.9236,      0.9236,     0.92188,      0.9207,      0.9207,      0.9207,      0.9207,     0.91915,     0.91915,     0.91915,     0.91915,     0.91915,     0.91915,     0.91915,     0.91915,     0.91915,     0.91915,     0.91915,      0.9165,      0.9165,\n",
      "             0.9165,      0.9165,      0.9165,      0.9165,      0.9165,      0.9165,      0.9165,      0.9165,      0.9165,      0.9165,      0.9165,      0.9165,      0.9165,     0.91519,     0.91519,     0.91519,     0.91519,     0.91519,     0.91519,     0.91519,     0.91519,     0.91519,     0.91519,\n",
      "            0.91519,     0.91423,     0.91423,     0.91423,     0.91423,     0.91238,     0.91238,     0.91238,     0.91238,     0.91238,     0.91238,     0.91238,     0.91238,     0.91115,     0.91115,     0.90807,     0.90807,     0.90556,     0.90556,     0.90556,     0.90556,     0.90146,     0.90146,\n",
      "            0.90146,      0.9009,      0.9009,      0.9009,      0.9009,      0.9009,     0.89643,     0.89643,      0.8952,     0.89381,     0.89317,     0.89317,     0.89317,     0.89317,      0.8918,     0.89119,     0.89119,     0.89119,     0.89119,     0.89078,     0.89078,     0.89078,     0.89078,\n",
      "            0.89078,     0.89076,     0.89076,     0.89076,     0.89076,     0.89076,     0.89076,     0.88815,     0.88815,     0.88744,     0.88744,     0.88744,     0.88744,     0.88744,     0.88744,     0.88744,     0.88744,     0.88744,     0.88511,     0.88511,     0.88511,     0.88444,     0.88444,\n",
      "            0.88444,     0.88444,     0.88444,     0.88444,     0.88444,     0.88444,     0.88444,     0.88444,     0.88444,     0.88444,     0.88444,     0.88444,     0.88444,     0.88444,     0.88444,     0.88444,     0.88444,     0.88444,     0.88444,      0.8811,      0.8811,      0.8811,      0.8806,\n",
      "             0.8806,      0.8806,      0.8806,      0.8806,      0.8806,      0.8806,      0.8806,      0.8806,      0.8806,        0.88,        0.88,        0.88,     0.87923,     0.87923,      0.8783,      0.8783,     0.87518,     0.87518,     0.87518,     0.87446,     0.87446,     0.87356,     0.87356,\n",
      "            0.87249,     0.87037,     0.86997,     0.86997,     0.86997,     0.86997,     0.86997,     0.86997,     0.86997,     0.86997,     0.86997,     0.86997,     0.86997,     0.86997,     0.86997,     0.86997,     0.86997,     0.86997,     0.86997,     0.86997,     0.86997,     0.86997,     0.86997,\n",
      "            0.86997,     0.86997,     0.86997,     0.86997,     0.86997,     0.86997,     0.86997,     0.86997,     0.86997,     0.86898,       0.868,      0.8672,      0.8672,      0.8643,      0.8643,     0.86334,     0.86126,     0.85826,     0.85751,     0.85751,     0.85548,     0.85476,     0.85422,\n",
      "            0.85422,     0.85422,      0.8535,      0.8519,      0.8519,      0.8519,     0.84799,      0.8475,      0.8475,     0.84729,     0.84729,     0.84729,     0.84729,     0.84729,     0.84729,     0.84729,     0.84729,     0.84719,     0.84719,     0.84719,     0.84719,     0.84653,     0.84653,\n",
      "            0.84569,     0.84318,     0.84318,     0.84311,     0.84311,     0.84311,     0.84311,     0.84229,     0.84148,     0.84142,     0.84142,     0.84142,     0.84142,      0.8408,     0.83841,     0.83841,     0.83841,     0.83391,     0.83372,     0.83372,     0.83372,     0.83333,     0.83333,\n",
      "            0.83333,     0.83162,     0.83032,     0.83032,     0.83032,     0.83032,     0.83032,     0.83032,     0.82995,     0.82995,     0.82905,     0.82905,     0.82905,     0.82905,     0.82759,     0.82759,     0.82724,     0.82724,     0.82186,     0.82186,     0.82186,     0.82186,     0.82116,\n",
      "            0.82035,     0.82035,     0.82035,     0.82035,     0.82024,     0.82024,     0.82024,     0.81974,     0.81974,      0.8175,     0.81722,     0.81722,     0.81722,     0.81693,     0.81693,     0.81646,     0.81646,     0.81618,     0.81618,     0.81485,     0.81485,     0.81224,     0.81224,\n",
      "            0.81224,     0.81198,     0.81198,     0.80996,     0.80996,     0.80996,     0.80996,     0.80996,     0.80996,     0.80996,     0.80996,     0.80996,     0.80769,     0.80483,      0.8038,      0.8038,      0.8038,     0.80236,     0.80236,     0.80236,     0.80236,     0.80236,     0.80236,\n",
      "            0.80236,     0.80236,     0.80236,     0.80236,     0.79863,     0.79651,     0.79651,     0.79651,     0.79651,     0.79517,       0.795,       0.795,     0.79367,      0.7933,     0.79041,     0.79041,     0.79041,     0.79041,     0.79041,     0.79041,     0.79041,     0.79041,     0.79041,\n",
      "            0.79041,     0.78987,     0.78879,     0.78631,     0.78631,     0.78631,     0.78631,     0.78631,     0.78618,     0.78618,     0.78565,      0.7848,      0.7848,      0.7848,     0.78364,     0.78364,     0.78364,      0.7817,     0.78049,     0.77998,     0.77758,     0.77748,     0.77748,\n",
      "            0.77748,     0.77353,     0.77229,     0.77229,     0.77229,     0.77181,      0.7695,     0.76856,     0.76856,     0.76609,     0.76113,     0.76113,     0.76113,     0.76113,     0.76113,     0.76113,      0.7568,     0.75422,     0.75422,     0.75379,     0.75357,     0.75063,     0.74833,\n",
      "            0.74668,     0.74628,     0.74628,     0.74628,     0.74587,     0.74424,     0.73902,     0.73902,     0.73902,     0.73825,     0.73748,     0.73748,     0.73376,     0.73376,     0.73301,     0.73264,     0.72879,     0.72785,     0.72756,     0.72756,     0.72756,     0.72592,     0.72592,\n",
      "              0.725,     0.72408,     0.72304,     0.72304,     0.71901,     0.71901,     0.71658,     0.71658,     0.71658,      0.7157,     0.71288,     0.71235,     0.71235,     0.71235,     0.71235,      0.7115,     0.71064,     0.70992,     0.70992,     0.70992,     0.70908,     0.70793,     0.70762,\n",
      "            0.70753,     0.70753,     0.70549,     0.70549,     0.70549,     0.70549,     0.70438,     0.70102,     0.70072,     0.70043,     0.70036,     0.70029,     0.70029,     0.69986,     0.69986,     0.69986,     0.69986,     0.69979,     0.69751,     0.69695,     0.69695,     0.69648,     0.69648,\n",
      "            0.69648,     0.69648,     0.69648,     0.69642,     0.69642,     0.69516,     0.69413,     0.69359,     0.69359,     0.69332,     0.68992,     0.68939,     0.68939,     0.68866,     0.68673,     0.68435,     0.68435,     0.68271,     0.68268,     0.68219,     0.68219,     0.67557,     0.67197,\n",
      "            0.67196,     0.67196,     0.67084,     0.67084,     0.66798,     0.66754,     0.66732,     0.66732,     0.66732,     0.66559,     0.66387,     0.66387,     0.65689,     0.65294,     0.64969,     0.64909,     0.64768,      0.6471,     0.64655,     0.64655,     0.64636,     0.64498,     0.64383,\n",
      "            0.64325,     0.63993,     0.63803,     0.63438,     0.63259,     0.63259,     0.63259,     0.63205,     0.63114,     0.62901,     0.62901,     0.62901,     0.62075,     0.62061,     0.61983,     0.61983,     0.61789,      0.6149,     0.61216,     0.61098,     0.61051,     0.60969,     0.60497,\n",
      "            0.60417,     0.60371,     0.60112,       0.601,     0.60022,     0.60022,     0.60022,     0.59812,     0.59637,     0.59332,     0.59183,     0.59044,     0.59034,     0.58738,     0.58342,      0.5824,     0.58169,     0.57884,     0.57715,     0.57435,     0.57307,     0.56796,     0.56723,\n",
      "            0.56484,      0.5619,     0.55842,     0.55606,     0.55345,     0.55345,     0.55251,     0.55191,      0.5516,      0.5516,      0.5516,      0.5516,      0.5516,     0.54966,     0.54875,     0.54286,     0.54282,     0.54251,     0.54139,     0.53795,     0.53795,     0.53714,     0.53102,\n",
      "            0.53049,     0.52722,     0.52722,     0.52522,     0.52038,     0.51965,     0.51562,      0.5156,     0.51373,     0.51187,     0.51186,      0.5098,     0.50933,     0.50933,     0.50306,     0.50306,     0.50306,     0.50284,     0.50174,     0.50108,     0.50065,     0.50065,     0.49319,\n",
      "            0.48986,     0.48968,     0.48968,     0.48703,     0.48643,     0.47885,     0.47656,     0.47656,     0.46915,     0.46915,     0.46309,     0.46275,     0.46133,     0.45973,     0.45908,     0.45875,      0.4574,      0.4574,       0.455,     0.45122,     0.45108,     0.45095,     0.44695,\n",
      "            0.44234,     0.43948,     0.43948,     0.43668,     0.43629,     0.43629,     0.42975,     0.42867,     0.42867,     0.42644,     0.41448,     0.41213,      0.4105,     0.40957,     0.40957,     0.40347,     0.39718,     0.39718,     0.39274,     0.38953,     0.38848,     0.38584,     0.38343,\n",
      "            0.37779,       0.376,     0.37469,     0.36434,     0.35326,     0.35072,      0.3498,      0.3469,     0.33064,     0.32522,     0.31866,     0.30693,     0.29218,     0.28552,      0.2785,     0.27361,     0.27359,     0.26976,     0.26393,     0.19313,     0.18167,     0.17961,     0.16824,\n",
      "            0.15386,     0.14204,     0.12626,     0.11048,    0.094694,    0.078912,    0.063129,    0.047347,    0.031565,    0.015782,           0]]), 'Recall', 'Precision'], [array([          0,    0.001001,    0.002002,    0.003003,    0.004004,    0.005005,    0.006006,    0.007007,    0.008008,    0.009009,     0.01001,    0.011011,    0.012012,    0.013013,    0.014014,    0.015015,    0.016016,    0.017017,    0.018018,    0.019019,     0.02002,    0.021021,    0.022022,    0.023023,\n",
      "          0.024024,    0.025025,    0.026026,    0.027027,    0.028028,    0.029029,     0.03003,    0.031031,    0.032032,    0.033033,    0.034034,    0.035035,    0.036036,    0.037037,    0.038038,    0.039039,     0.04004,    0.041041,    0.042042,    0.043043,    0.044044,    0.045045,    0.046046,    0.047047,\n",
      "          0.048048,    0.049049,     0.05005,    0.051051,    0.052052,    0.053053,    0.054054,    0.055055,    0.056056,    0.057057,    0.058058,    0.059059,     0.06006,    0.061061,    0.062062,    0.063063,    0.064064,    0.065065,    0.066066,    0.067067,    0.068068,    0.069069,     0.07007,    0.071071,\n",
      "          0.072072,    0.073073,    0.074074,    0.075075,    0.076076,    0.077077,    0.078078,    0.079079,     0.08008,    0.081081,    0.082082,    0.083083,    0.084084,    0.085085,    0.086086,    0.087087,    0.088088,    0.089089,     0.09009,    0.091091,    0.092092,    0.093093,    0.094094,    0.095095,\n",
      "          0.096096,    0.097097,    0.098098,    0.099099,      0.1001,      0.1011,      0.1021,      0.1031,      0.1041,     0.10511,     0.10611,     0.10711,     0.10811,     0.10911,     0.11011,     0.11111,     0.11211,     0.11311,     0.11411,     0.11512,     0.11612,     0.11712,     0.11812,     0.11912,\n",
      "           0.12012,     0.12112,     0.12212,     0.12312,     0.12412,     0.12513,     0.12613,     0.12713,     0.12813,     0.12913,     0.13013,     0.13113,     0.13213,     0.13313,     0.13413,     0.13514,     0.13614,     0.13714,     0.13814,     0.13914,     0.14014,     0.14114,     0.14214,     0.14314,\n",
      "           0.14414,     0.14515,     0.14615,     0.14715,     0.14815,     0.14915,     0.15015,     0.15115,     0.15215,     0.15315,     0.15415,     0.15516,     0.15616,     0.15716,     0.15816,     0.15916,     0.16016,     0.16116,     0.16216,     0.16316,     0.16416,     0.16517,     0.16617,     0.16717,\n",
      "           0.16817,     0.16917,     0.17017,     0.17117,     0.17217,     0.17317,     0.17417,     0.17518,     0.17618,     0.17718,     0.17818,     0.17918,     0.18018,     0.18118,     0.18218,     0.18318,     0.18418,     0.18519,     0.18619,     0.18719,     0.18819,     0.18919,     0.19019,     0.19119,\n",
      "           0.19219,     0.19319,     0.19419,      0.1952,      0.1962,      0.1972,      0.1982,      0.1992,      0.2002,      0.2012,      0.2022,      0.2032,      0.2042,     0.20521,     0.20621,     0.20721,     0.20821,     0.20921,     0.21021,     0.21121,     0.21221,     0.21321,     0.21421,     0.21522,\n",
      "           0.21622,     0.21722,     0.21822,     0.21922,     0.22022,     0.22122,     0.22222,     0.22322,     0.22422,     0.22523,     0.22623,     0.22723,     0.22823,     0.22923,     0.23023,     0.23123,     0.23223,     0.23323,     0.23423,     0.23524,     0.23624,     0.23724,     0.23824,     0.23924,\n",
      "           0.24024,     0.24124,     0.24224,     0.24324,     0.24424,     0.24525,     0.24625,     0.24725,     0.24825,     0.24925,     0.25025,     0.25125,     0.25225,     0.25325,     0.25425,     0.25526,     0.25626,     0.25726,     0.25826,     0.25926,     0.26026,     0.26126,     0.26226,     0.26326,\n",
      "           0.26426,     0.26527,     0.26627,     0.26727,     0.26827,     0.26927,     0.27027,     0.27127,     0.27227,     0.27327,     0.27427,     0.27528,     0.27628,     0.27728,     0.27828,     0.27928,     0.28028,     0.28128,     0.28228,     0.28328,     0.28428,     0.28529,     0.28629,     0.28729,\n",
      "           0.28829,     0.28929,     0.29029,     0.29129,     0.29229,     0.29329,     0.29429,      0.2953,      0.2963,      0.2973,      0.2983,      0.2993,      0.3003,      0.3013,      0.3023,      0.3033,      0.3043,     0.30531,     0.30631,     0.30731,     0.30831,     0.30931,     0.31031,     0.31131,\n",
      "           0.31231,     0.31331,     0.31431,     0.31532,     0.31632,     0.31732,     0.31832,     0.31932,     0.32032,     0.32132,     0.32232,     0.32332,     0.32432,     0.32533,     0.32633,     0.32733,     0.32833,     0.32933,     0.33033,     0.33133,     0.33233,     0.33333,     0.33433,     0.33534,\n",
      "           0.33634,     0.33734,     0.33834,     0.33934,     0.34034,     0.34134,     0.34234,     0.34334,     0.34434,     0.34535,     0.34635,     0.34735,     0.34835,     0.34935,     0.35035,     0.35135,     0.35235,     0.35335,     0.35435,     0.35536,     0.35636,     0.35736,     0.35836,     0.35936,\n",
      "           0.36036,     0.36136,     0.36236,     0.36336,     0.36436,     0.36537,     0.36637,     0.36737,     0.36837,     0.36937,     0.37037,     0.37137,     0.37237,     0.37337,     0.37437,     0.37538,     0.37638,     0.37738,     0.37838,     0.37938,     0.38038,     0.38138,     0.38238,     0.38338,\n",
      "           0.38438,     0.38539,     0.38639,     0.38739,     0.38839,     0.38939,     0.39039,     0.39139,     0.39239,     0.39339,     0.39439,      0.3954,      0.3964,      0.3974,      0.3984,      0.3994,      0.4004,      0.4014,      0.4024,      0.4034,      0.4044,     0.40541,     0.40641,     0.40741,\n",
      "           0.40841,     0.40941,     0.41041,     0.41141,     0.41241,     0.41341,     0.41441,     0.41542,     0.41642,     0.41742,     0.41842,     0.41942,     0.42042,     0.42142,     0.42242,     0.42342,     0.42442,     0.42543,     0.42643,     0.42743,     0.42843,     0.42943,     0.43043,     0.43143,\n",
      "           0.43243,     0.43343,     0.43443,     0.43544,     0.43644,     0.43744,     0.43844,     0.43944,     0.44044,     0.44144,     0.44244,     0.44344,     0.44444,     0.44545,     0.44645,     0.44745,     0.44845,     0.44945,     0.45045,     0.45145,     0.45245,     0.45345,     0.45445,     0.45546,\n",
      "           0.45646,     0.45746,     0.45846,     0.45946,     0.46046,     0.46146,     0.46246,     0.46346,     0.46446,     0.46547,     0.46647,     0.46747,     0.46847,     0.46947,     0.47047,     0.47147,     0.47247,     0.47347,     0.47447,     0.47548,     0.47648,     0.47748,     0.47848,     0.47948,\n",
      "           0.48048,     0.48148,     0.48248,     0.48348,     0.48448,     0.48549,     0.48649,     0.48749,     0.48849,     0.48949,     0.49049,     0.49149,     0.49249,     0.49349,     0.49449,      0.4955,      0.4965,      0.4975,      0.4985,      0.4995,      0.5005,      0.5015,      0.5025,      0.5035,\n",
      "            0.5045,     0.50551,     0.50651,     0.50751,     0.50851,     0.50951,     0.51051,     0.51151,     0.51251,     0.51351,     0.51451,     0.51552,     0.51652,     0.51752,     0.51852,     0.51952,     0.52052,     0.52152,     0.52252,     0.52352,     0.52452,     0.52553,     0.52653,     0.52753,\n",
      "           0.52853,     0.52953,     0.53053,     0.53153,     0.53253,     0.53353,     0.53453,     0.53554,     0.53654,     0.53754,     0.53854,     0.53954,     0.54054,     0.54154,     0.54254,     0.54354,     0.54454,     0.54555,     0.54655,     0.54755,     0.54855,     0.54955,     0.55055,     0.55155,\n",
      "           0.55255,     0.55355,     0.55455,     0.55556,     0.55656,     0.55756,     0.55856,     0.55956,     0.56056,     0.56156,     0.56256,     0.56356,     0.56456,     0.56557,     0.56657,     0.56757,     0.56857,     0.56957,     0.57057,     0.57157,     0.57257,     0.57357,     0.57457,     0.57558,\n",
      "           0.57658,     0.57758,     0.57858,     0.57958,     0.58058,     0.58158,     0.58258,     0.58358,     0.58458,     0.58559,     0.58659,     0.58759,     0.58859,     0.58959,     0.59059,     0.59159,     0.59259,     0.59359,     0.59459,      0.5956,      0.5966,      0.5976,      0.5986,      0.5996,\n",
      "            0.6006,      0.6016,      0.6026,      0.6036,      0.6046,     0.60561,     0.60661,     0.60761,     0.60861,     0.60961,     0.61061,     0.61161,     0.61261,     0.61361,     0.61461,     0.61562,     0.61662,     0.61762,     0.61862,     0.61962,     0.62062,     0.62162,     0.62262,     0.62362,\n",
      "           0.62462,     0.62563,     0.62663,     0.62763,     0.62863,     0.62963,     0.63063,     0.63163,     0.63263,     0.63363,     0.63463,     0.63564,     0.63664,     0.63764,     0.63864,     0.63964,     0.64064,     0.64164,     0.64264,     0.64364,     0.64464,     0.64565,     0.64665,     0.64765,\n",
      "           0.64865,     0.64965,     0.65065,     0.65165,     0.65265,     0.65365,     0.65465,     0.65566,     0.65666,     0.65766,     0.65866,     0.65966,     0.66066,     0.66166,     0.66266,     0.66366,     0.66466,     0.66567,     0.66667,     0.66767,     0.66867,     0.66967,     0.67067,     0.67167,\n",
      "           0.67267,     0.67367,     0.67467,     0.67568,     0.67668,     0.67768,     0.67868,     0.67968,     0.68068,     0.68168,     0.68268,     0.68368,     0.68468,     0.68569,     0.68669,     0.68769,     0.68869,     0.68969,     0.69069,     0.69169,     0.69269,     0.69369,     0.69469,      0.6957,\n",
      "            0.6967,      0.6977,      0.6987,      0.6997,      0.7007,      0.7017,      0.7027,      0.7037,      0.7047,     0.70571,     0.70671,     0.70771,     0.70871,     0.70971,     0.71071,     0.71171,     0.71271,     0.71371,     0.71471,     0.71572,     0.71672,     0.71772,     0.71872,     0.71972,\n",
      "           0.72072,     0.72172,     0.72272,     0.72372,     0.72472,     0.72573,     0.72673,     0.72773,     0.72873,     0.72973,     0.73073,     0.73173,     0.73273,     0.73373,     0.73473,     0.73574,     0.73674,     0.73774,     0.73874,     0.73974,     0.74074,     0.74174,     0.74274,     0.74374,\n",
      "           0.74474,     0.74575,     0.74675,     0.74775,     0.74875,     0.74975,     0.75075,     0.75175,     0.75275,     0.75375,     0.75475,     0.75576,     0.75676,     0.75776,     0.75876,     0.75976,     0.76076,     0.76176,     0.76276,     0.76376,     0.76476,     0.76577,     0.76677,     0.76777,\n",
      "           0.76877,     0.76977,     0.77077,     0.77177,     0.77277,     0.77377,     0.77477,     0.77578,     0.77678,     0.77778,     0.77878,     0.77978,     0.78078,     0.78178,     0.78278,     0.78378,     0.78478,     0.78579,     0.78679,     0.78779,     0.78879,     0.78979,     0.79079,     0.79179,\n",
      "           0.79279,     0.79379,     0.79479,      0.7958,      0.7968,      0.7978,      0.7988,      0.7998,      0.8008,      0.8018,      0.8028,      0.8038,      0.8048,     0.80581,     0.80681,     0.80781,     0.80881,     0.80981,     0.81081,     0.81181,     0.81281,     0.81381,     0.81481,     0.81582,\n",
      "           0.81682,     0.81782,     0.81882,     0.81982,     0.82082,     0.82182,     0.82282,     0.82382,     0.82482,     0.82583,     0.82683,     0.82783,     0.82883,     0.82983,     0.83083,     0.83183,     0.83283,     0.83383,     0.83483,     0.83584,     0.83684,     0.83784,     0.83884,     0.83984,\n",
      "           0.84084,     0.84184,     0.84284,     0.84384,     0.84484,     0.84585,     0.84685,     0.84785,     0.84885,     0.84985,     0.85085,     0.85185,     0.85285,     0.85385,     0.85485,     0.85586,     0.85686,     0.85786,     0.85886,     0.85986,     0.86086,     0.86186,     0.86286,     0.86386,\n",
      "           0.86486,     0.86587,     0.86687,     0.86787,     0.86887,     0.86987,     0.87087,     0.87187,     0.87287,     0.87387,     0.87487,     0.87588,     0.87688,     0.87788,     0.87888,     0.87988,     0.88088,     0.88188,     0.88288,     0.88388,     0.88488,     0.88589,     0.88689,     0.88789,\n",
      "           0.88889,     0.88989,     0.89089,     0.89189,     0.89289,     0.89389,     0.89489,      0.8959,      0.8969,      0.8979,      0.8989,      0.8999,      0.9009,      0.9019,      0.9029,      0.9039,      0.9049,     0.90591,     0.90691,     0.90791,     0.90891,     0.90991,     0.91091,     0.91191,\n",
      "           0.91291,     0.91391,     0.91491,     0.91592,     0.91692,     0.91792,     0.91892,     0.91992,     0.92092,     0.92192,     0.92292,     0.92392,     0.92492,     0.92593,     0.92693,     0.92793,     0.92893,     0.92993,     0.93093,     0.93193,     0.93293,     0.93393,     0.93493,     0.93594,\n",
      "           0.93694,     0.93794,     0.93894,     0.93994,     0.94094,     0.94194,     0.94294,     0.94394,     0.94494,     0.94595,     0.94695,     0.94795,     0.94895,     0.94995,     0.95095,     0.95195,     0.95295,     0.95395,     0.95495,     0.95596,     0.95696,     0.95796,     0.95896,     0.95996,\n",
      "           0.96096,     0.96196,     0.96296,     0.96396,     0.96496,     0.96597,     0.96697,     0.96797,     0.96897,     0.96997,     0.97097,     0.97197,     0.97297,     0.97397,     0.97497,     0.97598,     0.97698,     0.97798,     0.97898,     0.97998,     0.98098,     0.98198,     0.98298,     0.98398,\n",
      "           0.98498,     0.98599,     0.98699,     0.98799,     0.98899,     0.98999,     0.99099,     0.99199,     0.99299,     0.99399,     0.99499,       0.996,       0.997,       0.998,       0.999,           1]), array([[    0.26096,     0.26096,     0.33527,     0.37858,     0.40688,     0.42721,      0.4425,     0.45594,     0.46763,     0.47637,     0.48596,      0.4931,     0.50103,       0.509,     0.51441,     0.51906,     0.52558,     0.53151,     0.53652,     0.54107,     0.54506,     0.54937,     0.55304,\n",
      "            0.55615,     0.56042,     0.56352,     0.56722,     0.57036,     0.57384,     0.57558,     0.57731,     0.58026,      0.5844,     0.58769,     0.58935,     0.59057,     0.59174,     0.59258,     0.59617,     0.59713,      0.5989,      0.6006,     0.60279,     0.60431,     0.60652,      0.6075,\n",
      "            0.60904,     0.60965,     0.61108,     0.61276,     0.61478,      0.6156,     0.61604,     0.61745,      0.6183,     0.62003,     0.62132,     0.62318,     0.62344,     0.62439,     0.62593,     0.62727,     0.62875,     0.62892,     0.63056,     0.63101,     0.63235,     0.63383,     0.63541,\n",
      "            0.63681,     0.63763,     0.63814,     0.63905,      0.6396,     0.64109,     0.64184,     0.64344,     0.64429,      0.6454,     0.64731,     0.64817,     0.64834,     0.64851,     0.64893,     0.64825,     0.64877,     0.64929,     0.64948,     0.65086,     0.65193,     0.65268,      0.6529,\n",
      "            0.65327,       0.653,     0.65377,     0.65449,      0.6541,     0.65486,     0.65549,     0.65639,     0.65663,     0.65781,     0.65888,     0.65902,     0.65951,     0.65982,     0.66139,     0.66255,     0.66366,     0.66393,     0.66491,     0.66478,      0.6662,     0.66677,     0.66694,\n",
      "            0.66731,     0.66841,      0.6694,     0.67089,      0.6713,     0.67157,     0.67151,     0.67203,     0.67221,     0.67356,     0.67387,      0.6745,      0.6742,     0.67473,     0.67501,     0.67557,     0.67629,     0.67717,     0.67769,     0.67826,     0.67865,     0.67883,     0.67959,\n",
      "             0.6797,     0.67905,      0.6788,     0.67889,     0.68017,     0.68102,     0.68045,     0.68127,     0.68228,     0.68299,     0.68325,     0.68338,     0.68435,     0.68452,     0.68517,     0.68621,      0.6865,      0.6871,     0.68732,      0.6878,     0.68881,     0.68946,     0.69073,\n",
      "            0.69148,     0.69216,     0.69328,     0.69378,     0.69462,      0.6944,      0.6948,      0.6956,     0.69625,     0.69645,     0.69625,     0.69686,     0.69662,     0.69715,     0.69718,     0.69742,     0.69846,     0.69927,     0.69954,     0.70063,       0.701,     0.70117,      0.7011,\n",
      "            0.70129,     0.70107,     0.70172,     0.70172,     0.70212,     0.70251,     0.70241,     0.70321,     0.70385,     0.70421,     0.70406,     0.70526,     0.70517,     0.70646,     0.70528,     0.70547,     0.70586,      0.7052,     0.70552,     0.70596,     0.70676,     0.70678,     0.70696,\n",
      "            0.70718,     0.70696,     0.70746,     0.70799,     0.70894,     0.70965,     0.71006,     0.71021,     0.71068,     0.71081,     0.71179,      0.7115,     0.71179,     0.71226,     0.71316,     0.71331,     0.71352,     0.71374,     0.71395,     0.71405,      0.7142,     0.71414,     0.71398,\n",
      "            0.71452,      0.7142,      0.7141,     0.71445,     0.71505,      0.7157,     0.71609,     0.71754,     0.71771,      0.7189,     0.71932,     0.71791,     0.71874,     0.71902,     0.71918,     0.71955,     0.71989,      0.7196,     0.71985,     0.72003,     0.71971,     0.71862,      0.7187,\n",
      "            0.71955,     0.71972,     0.71969,      0.7201,     0.72021,     0.72033,     0.72044,     0.72055,     0.72069,     0.72084,     0.72118,     0.72167,     0.72199,     0.72201,     0.72222,     0.72227,     0.72242,     0.72287,      0.7235,     0.72431,     0.72442,      0.7242,     0.72454,\n",
      "            0.72463,     0.72433,     0.72486,     0.72502,     0.72515,     0.72499,     0.72494,     0.72476,     0.72442,     0.72419,     0.72377,     0.72444,     0.72413,     0.72453,     0.72509,       0.725,     0.72491,     0.72591,     0.72637,     0.72645,     0.72697,     0.72738,     0.72789,\n",
      "            0.72834,     0.72868,     0.72868,     0.72912,     0.72968,     0.73014,     0.73038,     0.73065,     0.73183,     0.73255,     0.73204,     0.73219,     0.73232,     0.73243,     0.73297,     0.73285,     0.73316,      0.7327,     0.73213,     0.73261,     0.73212,     0.73195,     0.73178,\n",
      "            0.73202,     0.73211,      0.7322,     0.73185,     0.73267,     0.73316,     0.73331,      0.7334,     0.73269,     0.73267,     0.73309,     0.73325,     0.73242,     0.73263,     0.73235,     0.73309,      0.7336,     0.73335,     0.73387,     0.73399,     0.73372,     0.73422,      0.7344,\n",
      "            0.73479,     0.73549,     0.73596,     0.73707,     0.73753,     0.73768,     0.73677,     0.73699,     0.73647,     0.73638,     0.73659,     0.73681,     0.73718,     0.73659,     0.73768,     0.73791,     0.73778,     0.73754,     0.73824,     0.73799,     0.73833,     0.73809,     0.73814,\n",
      "            0.73838,     0.73852,     0.73914,     0.73861,     0.73837,     0.73867,     0.73839,     0.73816,     0.73826,     0.73836,      0.7385,     0.73864,     0.73833,     0.73853,     0.73815,     0.73771,      0.7373,     0.73702,     0.73614,     0.73565,     0.73517,     0.73578,     0.73613,\n",
      "            0.73519,     0.73528,     0.73584,     0.73613,     0.73647,     0.73597,     0.73576,     0.73527,     0.73479,     0.73445,     0.73427,      0.7341,     0.73398,     0.73412,     0.73438,      0.7335,     0.73303,     0.73286,      0.7327,     0.73253,     0.73308,     0.73331,     0.73338,\n",
      "            0.73346,     0.73353,      0.7341,     0.73318,     0.73268,     0.73272,     0.73287,     0.73308,      0.7332,     0.73273,     0.73211,     0.73181,     0.73172,       0.732,     0.73213,     0.73209,     0.73169,     0.73099,     0.73108,     0.73088,     0.73125,     0.73096,     0.73053,\n",
      "            0.73007,     0.72981,      0.7293,     0.72925,     0.73039,     0.73008,     0.73022,     0.72961,     0.72932,     0.72907,     0.72938,     0.72996,     0.72927,     0.72984,     0.73013,     0.73099,     0.73114,     0.73152,     0.73123,     0.73095,      0.7307,     0.73041,     0.73056,\n",
      "            0.73071,     0.73085,     0.73064,     0.73079,     0.73094,     0.73068,     0.73024,     0.73034,     0.73064,     0.73035,     0.72984,     0.72944,     0.72924,     0.72932,     0.72893,     0.72941,      0.7297,     0.73029,     0.73088,     0.73018,     0.72981,     0.72924,     0.72934,\n",
      "            0.72944,     0.72985,     0.73044,     0.73072,     0.73087,     0.73124,     0.73107,     0.73089,     0.73034,     0.73077,     0.73051,     0.73015,     0.73023,     0.73031,     0.73005,     0.72902,     0.72873,     0.72889,     0.72941,     0.73059,     0.73119,       0.731,     0.73099,\n",
      "            0.73129,      0.7316,     0.73139,     0.73006,     0.72964,     0.72972,      0.7301,     0.73078,     0.73158,     0.73009,     0.72955,     0.73009,      0.7305,     0.73168,     0.73199,      0.7323,     0.73204,     0.72993,     0.72956,     0.72987,     0.73048,      0.7311,     0.73088,\n",
      "             0.7313,     0.73124,      0.7314,      0.7316,     0.73193,     0.73149,     0.73122,     0.73118,     0.73158,     0.73181,     0.73157,     0.73146,     0.73018,     0.73049,     0.73027,     0.73067,     0.73088,     0.73104,     0.73161,     0.73152,     0.73124,        0.73,     0.72989,\n",
      "            0.73052,      0.7303,     0.73008,     0.73003,     0.73019,      0.7295,     0.72872,     0.72889,     0.72877,     0.72822,     0.72774,      0.7275,     0.72694,     0.72638,     0.72613,     0.72558,     0.72447,     0.72376,     0.72439,     0.72471,     0.72424,     0.72401,     0.72249,\n",
      "            0.72162,     0.72134,     0.72079,     0.71999,     0.71831,     0.71869,     0.71957,     0.71868,     0.71835,     0.71851,     0.71797,     0.71758,      0.7173,     0.71719,     0.71751,      0.7166,     0.71603,     0.71535,     0.71599,     0.71575,     0.71638,     0.71625,     0.71454,\n",
      "            0.71371,     0.71256,     0.71098,     0.71069,     0.71137,       0.711,      0.7111,     0.71121,      0.7103,     0.70956,     0.70973,     0.70992,     0.70968,        0.71,     0.71027,     0.71043,     0.71008,     0.71006,      0.7106,     0.70896,     0.70722,     0.70547,     0.70462,\n",
      "            0.70495,     0.70559,     0.70583,     0.70458,     0.70427,     0.70397,     0.70278,     0.70288,     0.70299,     0.70326,     0.70292,     0.70266,     0.70206,      0.7012,     0.70117,     0.70057,     0.70002,     0.69938,     0.69763,     0.69739,     0.69622,     0.69442,     0.69255,\n",
      "            0.69084,     0.68962,     0.68922,     0.68938,      0.6903,     0.69012,     0.68876,     0.68877,     0.68815,     0.68671,     0.68636,     0.68652,     0.68499,     0.68444,     0.68064,     0.68048,     0.68032,     0.68016,     0.68077,     0.67977,     0.67884,      0.6782,     0.67653,\n",
      "            0.67761,     0.67606,     0.67639,     0.67451,     0.67419,      0.6728,     0.67261,     0.67058,     0.66993,     0.66782,     0.66809,      0.6681,     0.66571,     0.66117,     0.66051,     0.65952,     0.65908,     0.65653,     0.65615,      0.6568,     0.65545,     0.65444,     0.65265,\n",
      "            0.65287,     0.65173,     0.65138,     0.65066,     0.65032,     0.65043,     0.64886,     0.64882,     0.64812,     0.64757,     0.64737,     0.64668,     0.64459,      0.6436,     0.64086,     0.63914,     0.63711,     0.63664,     0.63326,     0.63255,     0.63214,     0.63074,     0.62941,\n",
      "            0.62893,     0.62756,     0.62714,     0.62473,     0.62287,     0.62177,     0.62094,     0.62054,     0.61946,     0.61882,     0.61726,     0.61653,     0.61694,     0.61697,     0.61489,     0.61156,     0.60938,       0.607,     0.60628,     0.60344,     0.60315,     0.60083,     0.60092,\n",
      "            0.60137,     0.59999,     0.59949,      0.5969,     0.59281,     0.59053,     0.58899,     0.58748,     0.58718,     0.58577,     0.58428,     0.58397,     0.58265,     0.58153,     0.57947,     0.57847,     0.57601,     0.57521,     0.57255,      0.5712,     0.56955,     0.56792,     0.56569,\n",
      "            0.56431,     0.56271,     0.56134,     0.55907,     0.55761,     0.55728,     0.55557,     0.55363,       0.551,      0.5511,     0.54707,     0.54552,      0.5437,     0.54313,     0.54308,     0.53971,     0.53909,     0.53649,      0.5338,     0.53291,     0.52959,     0.52599,     0.52535,\n",
      "            0.52286,     0.52164,     0.51604,     0.51392,     0.51164,     0.51106,      0.5088,     0.50597,     0.50184,     0.49989,     0.49742,     0.49637,     0.49121,     0.48844,     0.48799,     0.48373,     0.48216,     0.48195,     0.47789,     0.47609,     0.47477,     0.47162,     0.47128,\n",
      "             0.4685,     0.46524,     0.46228,     0.45698,     0.45577,     0.45251,     0.44927,     0.44707,     0.44258,     0.43981,      0.4396,     0.43767,     0.43669,     0.43457,     0.42923,     0.42691,     0.42408,      0.4172,     0.41249,     0.41108,     0.40968,     0.40266,     0.39685,\n",
      "            0.39617,     0.39206,     0.38927,     0.38755,     0.38548,     0.38341,     0.38235,     0.37729,     0.37413,     0.36829,     0.36358,     0.36037,     0.35315,     0.34987,     0.34453,     0.34224,     0.33699,     0.33383,     0.32945,     0.32598,     0.32405,     0.32178,     0.31616,\n",
      "            0.31466,     0.30615,     0.30155,     0.29808,     0.29447,     0.29062,     0.28661,     0.27958,     0.27718,     0.26907,     0.26683,     0.26082,     0.25837,     0.25142,     0.24188,     0.23996,     0.23538,     0.23286,      0.2266,     0.22279,     0.21897,     0.21514,     0.21353,\n",
      "            0.20757,     0.20368,     0.19592,     0.19198,     0.18802,     0.17881,     0.17086,     0.16818,     0.16684,     0.16594,     0.16007,     0.15581,     0.14898,     0.14484,      0.1393,     0.13373,     0.12675,      0.1197,     0.11683,     0.11395,     0.11149,     0.11077,     0.09962,\n",
      "           0.097324,    0.093735,    0.090053,    0.084912,    0.080614,    0.076065,    0.071578,    0.065587,    0.061051,    0.057501,    0.053715,    0.047651,    0.045761,    0.043202,    0.042163,    0.039181,    0.037117,    0.036333,      0.0331,    0.032078,     0.03129,    0.029752,    0.027142,\n",
      "           0.025027,    0.021752,    0.021297,    0.020841,    0.020057,    0.018378,    0.017578,    0.015709,    0.015442,    0.015174,    0.014907,     0.01464,    0.014372,    0.011535,    0.010715,    0.010313,   0.0099096,   0.0095064,   0.0076129,   0.0069663,   0.0063156,   0.0055062,   0.0047211,\n",
      "           0.004258,   0.0037946,    0.003331,   0.0030793,   0.0029382,    0.002797,   0.0026558,   0.0025145,   0.0023733,    0.002232,   0.0020907,   0.0019494,   0.0018081,   0.0016667,           0,           0,           0,           0,           0,           0,           0,           0,           0,\n",
      "                  0,           0,           0,           0,           0,           0,           0,           0,           0,           0,           0,           0,           0,           0,           0,           0,           0,           0,           0,           0,           0,           0,           0,\n",
      "                  0,           0,           0,           0,           0,           0,           0,           0,           0,           0,           0]]), 'Confidence', 'F1'], [array([          0,    0.001001,    0.002002,    0.003003,    0.004004,    0.005005,    0.006006,    0.007007,    0.008008,    0.009009,     0.01001,    0.011011,    0.012012,    0.013013,    0.014014,    0.015015,    0.016016,    0.017017,    0.018018,    0.019019,     0.02002,    0.021021,    0.022022,    0.023023,\n",
      "          0.024024,    0.025025,    0.026026,    0.027027,    0.028028,    0.029029,     0.03003,    0.031031,    0.032032,    0.033033,    0.034034,    0.035035,    0.036036,    0.037037,    0.038038,    0.039039,     0.04004,    0.041041,    0.042042,    0.043043,    0.044044,    0.045045,    0.046046,    0.047047,\n",
      "          0.048048,    0.049049,     0.05005,    0.051051,    0.052052,    0.053053,    0.054054,    0.055055,    0.056056,    0.057057,    0.058058,    0.059059,     0.06006,    0.061061,    0.062062,    0.063063,    0.064064,    0.065065,    0.066066,    0.067067,    0.068068,    0.069069,     0.07007,    0.071071,\n",
      "          0.072072,    0.073073,    0.074074,    0.075075,    0.076076,    0.077077,    0.078078,    0.079079,     0.08008,    0.081081,    0.082082,    0.083083,    0.084084,    0.085085,    0.086086,    0.087087,    0.088088,    0.089089,     0.09009,    0.091091,    0.092092,    0.093093,    0.094094,    0.095095,\n",
      "          0.096096,    0.097097,    0.098098,    0.099099,      0.1001,      0.1011,      0.1021,      0.1031,      0.1041,     0.10511,     0.10611,     0.10711,     0.10811,     0.10911,     0.11011,     0.11111,     0.11211,     0.11311,     0.11411,     0.11512,     0.11612,     0.11712,     0.11812,     0.11912,\n",
      "           0.12012,     0.12112,     0.12212,     0.12312,     0.12412,     0.12513,     0.12613,     0.12713,     0.12813,     0.12913,     0.13013,     0.13113,     0.13213,     0.13313,     0.13413,     0.13514,     0.13614,     0.13714,     0.13814,     0.13914,     0.14014,     0.14114,     0.14214,     0.14314,\n",
      "           0.14414,     0.14515,     0.14615,     0.14715,     0.14815,     0.14915,     0.15015,     0.15115,     0.15215,     0.15315,     0.15415,     0.15516,     0.15616,     0.15716,     0.15816,     0.15916,     0.16016,     0.16116,     0.16216,     0.16316,     0.16416,     0.16517,     0.16617,     0.16717,\n",
      "           0.16817,     0.16917,     0.17017,     0.17117,     0.17217,     0.17317,     0.17417,     0.17518,     0.17618,     0.17718,     0.17818,     0.17918,     0.18018,     0.18118,     0.18218,     0.18318,     0.18418,     0.18519,     0.18619,     0.18719,     0.18819,     0.18919,     0.19019,     0.19119,\n",
      "           0.19219,     0.19319,     0.19419,      0.1952,      0.1962,      0.1972,      0.1982,      0.1992,      0.2002,      0.2012,      0.2022,      0.2032,      0.2042,     0.20521,     0.20621,     0.20721,     0.20821,     0.20921,     0.21021,     0.21121,     0.21221,     0.21321,     0.21421,     0.21522,\n",
      "           0.21622,     0.21722,     0.21822,     0.21922,     0.22022,     0.22122,     0.22222,     0.22322,     0.22422,     0.22523,     0.22623,     0.22723,     0.22823,     0.22923,     0.23023,     0.23123,     0.23223,     0.23323,     0.23423,     0.23524,     0.23624,     0.23724,     0.23824,     0.23924,\n",
      "           0.24024,     0.24124,     0.24224,     0.24324,     0.24424,     0.24525,     0.24625,     0.24725,     0.24825,     0.24925,     0.25025,     0.25125,     0.25225,     0.25325,     0.25425,     0.25526,     0.25626,     0.25726,     0.25826,     0.25926,     0.26026,     0.26126,     0.26226,     0.26326,\n",
      "           0.26426,     0.26527,     0.26627,     0.26727,     0.26827,     0.26927,     0.27027,     0.27127,     0.27227,     0.27327,     0.27427,     0.27528,     0.27628,     0.27728,     0.27828,     0.27928,     0.28028,     0.28128,     0.28228,     0.28328,     0.28428,     0.28529,     0.28629,     0.28729,\n",
      "           0.28829,     0.28929,     0.29029,     0.29129,     0.29229,     0.29329,     0.29429,      0.2953,      0.2963,      0.2973,      0.2983,      0.2993,      0.3003,      0.3013,      0.3023,      0.3033,      0.3043,     0.30531,     0.30631,     0.30731,     0.30831,     0.30931,     0.31031,     0.31131,\n",
      "           0.31231,     0.31331,     0.31431,     0.31532,     0.31632,     0.31732,     0.31832,     0.31932,     0.32032,     0.32132,     0.32232,     0.32332,     0.32432,     0.32533,     0.32633,     0.32733,     0.32833,     0.32933,     0.33033,     0.33133,     0.33233,     0.33333,     0.33433,     0.33534,\n",
      "           0.33634,     0.33734,     0.33834,     0.33934,     0.34034,     0.34134,     0.34234,     0.34334,     0.34434,     0.34535,     0.34635,     0.34735,     0.34835,     0.34935,     0.35035,     0.35135,     0.35235,     0.35335,     0.35435,     0.35536,     0.35636,     0.35736,     0.35836,     0.35936,\n",
      "           0.36036,     0.36136,     0.36236,     0.36336,     0.36436,     0.36537,     0.36637,     0.36737,     0.36837,     0.36937,     0.37037,     0.37137,     0.37237,     0.37337,     0.37437,     0.37538,     0.37638,     0.37738,     0.37838,     0.37938,     0.38038,     0.38138,     0.38238,     0.38338,\n",
      "           0.38438,     0.38539,     0.38639,     0.38739,     0.38839,     0.38939,     0.39039,     0.39139,     0.39239,     0.39339,     0.39439,      0.3954,      0.3964,      0.3974,      0.3984,      0.3994,      0.4004,      0.4014,      0.4024,      0.4034,      0.4044,     0.40541,     0.40641,     0.40741,\n",
      "           0.40841,     0.40941,     0.41041,     0.41141,     0.41241,     0.41341,     0.41441,     0.41542,     0.41642,     0.41742,     0.41842,     0.41942,     0.42042,     0.42142,     0.42242,     0.42342,     0.42442,     0.42543,     0.42643,     0.42743,     0.42843,     0.42943,     0.43043,     0.43143,\n",
      "           0.43243,     0.43343,     0.43443,     0.43544,     0.43644,     0.43744,     0.43844,     0.43944,     0.44044,     0.44144,     0.44244,     0.44344,     0.44444,     0.44545,     0.44645,     0.44745,     0.44845,     0.44945,     0.45045,     0.45145,     0.45245,     0.45345,     0.45445,     0.45546,\n",
      "           0.45646,     0.45746,     0.45846,     0.45946,     0.46046,     0.46146,     0.46246,     0.46346,     0.46446,     0.46547,     0.46647,     0.46747,     0.46847,     0.46947,     0.47047,     0.47147,     0.47247,     0.47347,     0.47447,     0.47548,     0.47648,     0.47748,     0.47848,     0.47948,\n",
      "           0.48048,     0.48148,     0.48248,     0.48348,     0.48448,     0.48549,     0.48649,     0.48749,     0.48849,     0.48949,     0.49049,     0.49149,     0.49249,     0.49349,     0.49449,      0.4955,      0.4965,      0.4975,      0.4985,      0.4995,      0.5005,      0.5015,      0.5025,      0.5035,\n",
      "            0.5045,     0.50551,     0.50651,     0.50751,     0.50851,     0.50951,     0.51051,     0.51151,     0.51251,     0.51351,     0.51451,     0.51552,     0.51652,     0.51752,     0.51852,     0.51952,     0.52052,     0.52152,     0.52252,     0.52352,     0.52452,     0.52553,     0.52653,     0.52753,\n",
      "           0.52853,     0.52953,     0.53053,     0.53153,     0.53253,     0.53353,     0.53453,     0.53554,     0.53654,     0.53754,     0.53854,     0.53954,     0.54054,     0.54154,     0.54254,     0.54354,     0.54454,     0.54555,     0.54655,     0.54755,     0.54855,     0.54955,     0.55055,     0.55155,\n",
      "           0.55255,     0.55355,     0.55455,     0.55556,     0.55656,     0.55756,     0.55856,     0.55956,     0.56056,     0.56156,     0.56256,     0.56356,     0.56456,     0.56557,     0.56657,     0.56757,     0.56857,     0.56957,     0.57057,     0.57157,     0.57257,     0.57357,     0.57457,     0.57558,\n",
      "           0.57658,     0.57758,     0.57858,     0.57958,     0.58058,     0.58158,     0.58258,     0.58358,     0.58458,     0.58559,     0.58659,     0.58759,     0.58859,     0.58959,     0.59059,     0.59159,     0.59259,     0.59359,     0.59459,      0.5956,      0.5966,      0.5976,      0.5986,      0.5996,\n",
      "            0.6006,      0.6016,      0.6026,      0.6036,      0.6046,     0.60561,     0.60661,     0.60761,     0.60861,     0.60961,     0.61061,     0.61161,     0.61261,     0.61361,     0.61461,     0.61562,     0.61662,     0.61762,     0.61862,     0.61962,     0.62062,     0.62162,     0.62262,     0.62362,\n",
      "           0.62462,     0.62563,     0.62663,     0.62763,     0.62863,     0.62963,     0.63063,     0.63163,     0.63263,     0.63363,     0.63463,     0.63564,     0.63664,     0.63764,     0.63864,     0.63964,     0.64064,     0.64164,     0.64264,     0.64364,     0.64464,     0.64565,     0.64665,     0.64765,\n",
      "           0.64865,     0.64965,     0.65065,     0.65165,     0.65265,     0.65365,     0.65465,     0.65566,     0.65666,     0.65766,     0.65866,     0.65966,     0.66066,     0.66166,     0.66266,     0.66366,     0.66466,     0.66567,     0.66667,     0.66767,     0.66867,     0.66967,     0.67067,     0.67167,\n",
      "           0.67267,     0.67367,     0.67467,     0.67568,     0.67668,     0.67768,     0.67868,     0.67968,     0.68068,     0.68168,     0.68268,     0.68368,     0.68468,     0.68569,     0.68669,     0.68769,     0.68869,     0.68969,     0.69069,     0.69169,     0.69269,     0.69369,     0.69469,      0.6957,\n",
      "            0.6967,      0.6977,      0.6987,      0.6997,      0.7007,      0.7017,      0.7027,      0.7037,      0.7047,     0.70571,     0.70671,     0.70771,     0.70871,     0.70971,     0.71071,     0.71171,     0.71271,     0.71371,     0.71471,     0.71572,     0.71672,     0.71772,     0.71872,     0.71972,\n",
      "           0.72072,     0.72172,     0.72272,     0.72372,     0.72472,     0.72573,     0.72673,     0.72773,     0.72873,     0.72973,     0.73073,     0.73173,     0.73273,     0.73373,     0.73473,     0.73574,     0.73674,     0.73774,     0.73874,     0.73974,     0.74074,     0.74174,     0.74274,     0.74374,\n",
      "           0.74474,     0.74575,     0.74675,     0.74775,     0.74875,     0.74975,     0.75075,     0.75175,     0.75275,     0.75375,     0.75475,     0.75576,     0.75676,     0.75776,     0.75876,     0.75976,     0.76076,     0.76176,     0.76276,     0.76376,     0.76476,     0.76577,     0.76677,     0.76777,\n",
      "           0.76877,     0.76977,     0.77077,     0.77177,     0.77277,     0.77377,     0.77477,     0.77578,     0.77678,     0.77778,     0.77878,     0.77978,     0.78078,     0.78178,     0.78278,     0.78378,     0.78478,     0.78579,     0.78679,     0.78779,     0.78879,     0.78979,     0.79079,     0.79179,\n",
      "           0.79279,     0.79379,     0.79479,      0.7958,      0.7968,      0.7978,      0.7988,      0.7998,      0.8008,      0.8018,      0.8028,      0.8038,      0.8048,     0.80581,     0.80681,     0.80781,     0.80881,     0.80981,     0.81081,     0.81181,     0.81281,     0.81381,     0.81481,     0.81582,\n",
      "           0.81682,     0.81782,     0.81882,     0.81982,     0.82082,     0.82182,     0.82282,     0.82382,     0.82482,     0.82583,     0.82683,     0.82783,     0.82883,     0.82983,     0.83083,     0.83183,     0.83283,     0.83383,     0.83483,     0.83584,     0.83684,     0.83784,     0.83884,     0.83984,\n",
      "           0.84084,     0.84184,     0.84284,     0.84384,     0.84484,     0.84585,     0.84685,     0.84785,     0.84885,     0.84985,     0.85085,     0.85185,     0.85285,     0.85385,     0.85485,     0.85586,     0.85686,     0.85786,     0.85886,     0.85986,     0.86086,     0.86186,     0.86286,     0.86386,\n",
      "           0.86486,     0.86587,     0.86687,     0.86787,     0.86887,     0.86987,     0.87087,     0.87187,     0.87287,     0.87387,     0.87487,     0.87588,     0.87688,     0.87788,     0.87888,     0.87988,     0.88088,     0.88188,     0.88288,     0.88388,     0.88488,     0.88589,     0.88689,     0.88789,\n",
      "           0.88889,     0.88989,     0.89089,     0.89189,     0.89289,     0.89389,     0.89489,      0.8959,      0.8969,      0.8979,      0.8989,      0.8999,      0.9009,      0.9019,      0.9029,      0.9039,      0.9049,     0.90591,     0.90691,     0.90791,     0.90891,     0.90991,     0.91091,     0.91191,\n",
      "           0.91291,     0.91391,     0.91491,     0.91592,     0.91692,     0.91792,     0.91892,     0.91992,     0.92092,     0.92192,     0.92292,     0.92392,     0.92492,     0.92593,     0.92693,     0.92793,     0.92893,     0.92993,     0.93093,     0.93193,     0.93293,     0.93393,     0.93493,     0.93594,\n",
      "           0.93694,     0.93794,     0.93894,     0.93994,     0.94094,     0.94194,     0.94294,     0.94394,     0.94494,     0.94595,     0.94695,     0.94795,     0.94895,     0.94995,     0.95095,     0.95195,     0.95295,     0.95395,     0.95495,     0.95596,     0.95696,     0.95796,     0.95896,     0.95996,\n",
      "           0.96096,     0.96196,     0.96296,     0.96396,     0.96496,     0.96597,     0.96697,     0.96797,     0.96897,     0.96997,     0.97097,     0.97197,     0.97297,     0.97397,     0.97497,     0.97598,     0.97698,     0.97798,     0.97898,     0.97998,     0.98098,     0.98198,     0.98298,     0.98398,\n",
      "           0.98498,     0.98599,     0.98699,     0.98799,     0.98899,     0.98999,     0.99099,     0.99199,     0.99299,     0.99399,     0.99499,       0.996,       0.997,       0.998,       0.999,           1]), array([[    0.15028,     0.15028,     0.20198,     0.23428,     0.25635,     0.27288,     0.28582,     0.29721,      0.3073,     0.31489,     0.32351,     0.32996,     0.33719,     0.34445,     0.34973,     0.35425,     0.36036,     0.36607,     0.37096,     0.37544,     0.37953,     0.38397,      0.3877,\n",
      "            0.39103,     0.39539,      0.3989,     0.40262,     0.40593,     0.40947,     0.41183,     0.41375,     0.41694,     0.42123,     0.42481,     0.42671,     0.42799,     0.42971,     0.43076,     0.43456,      0.4359,     0.43797,     0.44031,     0.44284,     0.44448,     0.44688,     0.44812,\n",
      "             0.4498,     0.45079,     0.45276,      0.4548,     0.45722,     0.45863,     0.45957,     0.46152,     0.46268,      0.4648,     0.46632,     0.46857,     0.46906,     0.47034,     0.47209,     0.47361,      0.4753,     0.47612,     0.47801,     0.47874,     0.48028,     0.48199,     0.48382,\n",
      "            0.48545,     0.48662,     0.48765,     0.48872,     0.48984,     0.49178,     0.49312,     0.49502,     0.49602,     0.49734,     0.49961,     0.50065,     0.50155,     0.50224,     0.50298,     0.50275,     0.50351,     0.50413,     0.50461,     0.50627,     0.50757,     0.50849,     0.50874,\n",
      "            0.50926,     0.50961,     0.51055,     0.51169,     0.51171,     0.51264,     0.51367,     0.51477,     0.51559,     0.51705,     0.51837,      0.5188,     0.51941,     0.52024,     0.52227,     0.52372,     0.52511,     0.52572,     0.52696,     0.52761,      0.5294,     0.53032,     0.53089,\n",
      "             0.5316,     0.53303,      0.5343,      0.5362,     0.53672,     0.53707,     0.53727,     0.53794,     0.53874,     0.54049,     0.54117,     0.54258,      0.5427,     0.54347,     0.54383,     0.54456,     0.54549,     0.54664,     0.54732,     0.54806,     0.54887,     0.54942,     0.55072,\n",
      "            0.55129,     0.55124,     0.55183,     0.55309,      0.5549,     0.55604,      0.5559,     0.55702,      0.5584,     0.55964,     0.55999,     0.56016,     0.56147,     0.56202,      0.5629,     0.56431,     0.56503,     0.56584,      0.5668,      0.5678,     0.56918,     0.57007,      0.5718,\n",
      "            0.57298,     0.57411,     0.57599,     0.57703,      0.5782,     0.57824,      0.5788,     0.58027,     0.58117,     0.58145,     0.58152,     0.58239,     0.58226,     0.58315,     0.58333,     0.58425,     0.58571,     0.58685,     0.58759,     0.58913,     0.58965,      0.5899,     0.59017,\n",
      "            0.59043,      0.5905,     0.59142,     0.59188,     0.59274,      0.5933,     0.59354,     0.59468,     0.59559,     0.59627,     0.59628,     0.59808,     0.59826,     0.60012,     0.59958,     0.59985,     0.60081,     0.60102,     0.60149,     0.60213,      0.6037,     0.60401,     0.60438,\n",
      "            0.60471,     0.60478,     0.60552,      0.6067,      0.6081,     0.60955,     0.61039,     0.61092,     0.61189,     0.61251,     0.61396,     0.61395,     0.61472,     0.61551,     0.61685,     0.61707,     0.61771,     0.61813,     0.61846,      0.6186,     0.61882,      0.6197,     0.61979,\n",
      "            0.62061,     0.62055,     0.62082,     0.62136,     0.62227,     0.62325,     0.62385,     0.62605,      0.6263,     0.62812,     0.62877,     0.62839,     0.62966,     0.63009,     0.63035,     0.63136,     0.63188,     0.63185,     0.63227,     0.63255,     0.63242,     0.63187,     0.63232,\n",
      "            0.63364,      0.6339,     0.63421,     0.63496,     0.63513,     0.63531,     0.63548,     0.63566,     0.63587,     0.63612,     0.63665,     0.63741,     0.63799,     0.63841,     0.63916,     0.63975,     0.63998,     0.64069,     0.64169,     0.64295,     0.64322,     0.64365,     0.64436,\n",
      "            0.64491,     0.64491,     0.64575,     0.64601,     0.64622,     0.64624,     0.64636,      0.6464,     0.64623,     0.64612,     0.64597,     0.64704,     0.64693,     0.64768,     0.64908,      0.6496,     0.64977,     0.65138,     0.65262,     0.65327,      0.6541,     0.65476,      0.6556,\n",
      "            0.65632,     0.65688,     0.65739,      0.6581,     0.65902,     0.65977,     0.66017,      0.6606,     0.66253,     0.66383,     0.66392,     0.66417,     0.66439,     0.66456,     0.66555,     0.66633,     0.66683,     0.66696,     0.66669,     0.66752,      0.6673,     0.66722,     0.66714,\n",
      "            0.66762,     0.66777,     0.66792,     0.66779,     0.66925,     0.67006,     0.67032,     0.67073,     0.67039,     0.67088,     0.67159,     0.67185,     0.67156,     0.67193,     0.67199,     0.67325,     0.67411,     0.67422,     0.67512,      0.6755,     0.67537,     0.67628,     0.67659,\n",
      "            0.67724,     0.67844,     0.67924,     0.68113,     0.68192,     0.68218,     0.68177,     0.68215,      0.6824,     0.68283,     0.68319,     0.68357,     0.68421,     0.68435,     0.68625,     0.68664,     0.68665,     0.68654,      0.6884,     0.68855,     0.68933,     0.68922,     0.69062,\n",
      "            0.69163,     0.69188,     0.69297,     0.69335,     0.69324,     0.69409,     0.69397,      0.6943,     0.69449,     0.69467,     0.69491,     0.69516,     0.69523,     0.69558,     0.69614,     0.69619,     0.69601,     0.69588,     0.69548,     0.69526,     0.69504,     0.69632,     0.69695,\n",
      "            0.69653,     0.69732,     0.69833,     0.69886,     0.69948,     0.69948,     0.69976,     0.69954,     0.69932,     0.69917,     0.69909,     0.69901,     0.69949,     0.69975,     0.70023,     0.69988,     0.70042,     0.70035,     0.70027,     0.70096,     0.70247,     0.70288,     0.70302,\n",
      "            0.70316,      0.7033,     0.70502,     0.70513,     0.70491,     0.70586,     0.70612,     0.70706,     0.70743,      0.7073,     0.70747,     0.70769,     0.70811,     0.70865,     0.70903,     0.70951,     0.70964,     0.70974,     0.71113,     0.71146,      0.7123,     0.71218,     0.71199,\n",
      "            0.71207,     0.71208,     0.71186,      0.7134,     0.71558,     0.71571,     0.71599,     0.71617,     0.71605,     0.71594,     0.71732,     0.71844,     0.71858,      0.7197,     0.72027,     0.72194,     0.72222,     0.72303,      0.7229,     0.72278,     0.72267,     0.72309,     0.72338,\n",
      "            0.72366,     0.72395,     0.72396,      0.7246,     0.72489,     0.72486,     0.72556,     0.72681,     0.72739,      0.7274,     0.72718,     0.72737,     0.72774,     0.72869,      0.7286,     0.72966,     0.73026,     0.73144,     0.73262,      0.7328,     0.73288,     0.73334,     0.73354,\n",
      "            0.73374,     0.73458,     0.73578,     0.73634,     0.73664,     0.73746,     0.73739,     0.73732,     0.73723,     0.73822,     0.73811,     0.73796,     0.73866,     0.73898,     0.73887,     0.73866,     0.73892,     0.73923,     0.74031,     0.74275,     0.74399,     0.74411,     0.74442,\n",
      "            0.74505,     0.74568,      0.7461,     0.74571,     0.74591,     0.74696,     0.74863,     0.75095,      0.7534,     0.75383,     0.75362,     0.75484,      0.7566,     0.75917,     0.75984,      0.7605,     0.76091,     0.76008,     0.76108,     0.76175,     0.76308,     0.76442,      0.7649,\n",
      "            0.76604,     0.76664,     0.76698,     0.76743,     0.76849,     0.76832,     0.76822,     0.76843,     0.77027,     0.77123,     0.77171,     0.77195,     0.77205,     0.77275,     0.77325,     0.77513,     0.77562,     0.77598,     0.77726,     0.77741,     0.77731,     0.77743,     0.77843,\n",
      "            0.77985,     0.78037,      0.7809,     0.78182,     0.78218,     0.78316,     0.78347,     0.78443,      0.7847,     0.78449,     0.78554,     0.78606,     0.78586,     0.78605,     0.78618,     0.78597,     0.78557,     0.78639,     0.78788,     0.78863,     0.78973,     0.79029,     0.78985,\n",
      "            0.78953,     0.78943,     0.78924,     0.78958,     0.78898,     0.79104,     0.79329,     0.79333,     0.79369,     0.79408,     0.79467,     0.79453,     0.79443,     0.79552,     0.79631,     0.79616,     0.79596,     0.79693,     0.79851,     0.79911,      0.8007,     0.80208,     0.80149,\n",
      "            0.80189,     0.80149,     0.80094,     0.80084,     0.80285,     0.80316,     0.80343,     0.80371,     0.80348,     0.80329,      0.8037,     0.80421,     0.80485,     0.80568,     0.80638,      0.8068,     0.80717,     0.80762,     0.80982,     0.80939,      0.8088,     0.80821,     0.80865,\n",
      "            0.80951,      0.8112,     0.81197,     0.81155,     0.81218,     0.81208,     0.81185,     0.81214,     0.81243,     0.81315,      0.8147,     0.81612,     0.81592,     0.81591,     0.81638,     0.81618,     0.81676,     0.81655,     0.81749,     0.81974,     0.81939,     0.82033,     0.81973,\n",
      "            0.82154,     0.82115,     0.82208,     0.82255,     0.82516,     0.82696,     0.82734,     0.82899,      0.8288,     0.82834,     0.82943,      0.8299,     0.83024,     0.83014,     0.82894,     0.82889,     0.82884,     0.82879,     0.83244,     0.83293,      0.8335,     0.83331,     0.83366,\n",
      "            0.83811,     0.83854,     0.83956,     0.84102,     0.84092,     0.84079,     0.84198,     0.84257,     0.84238,     0.84324,     0.84409,     0.84598,     0.84672,     0.84634,     0.84615,     0.84682,     0.84669,     0.84787,     0.84936,     0.85154,     0.85347,     0.85418,     0.85384,\n",
      "            0.85459,     0.85442,     0.85533,     0.85819,     0.86054,     0.86309,     0.86395,     0.86606,     0.86694,      0.8684,     0.86997,     0.86979,     0.86925,     0.86899,     0.86827,     0.86782,     0.86728,     0.86716,     0.86626,     0.86607,     0.86819,     0.86782,     0.86746,\n",
      "            0.86734,     0.86697,     0.86913,     0.86849,     0.86914,     0.87001,     0.87329,     0.87436,     0.87409,     0.87409,     0.87471,     0.87452,      0.8772,     0.87824,     0.87893,     0.88056,     0.88002,     0.87942,     0.87924,     0.88018,     0.88097,     0.88039,     0.88117,\n",
      "            0.88436,     0.88403,      0.8839,     0.88327,     0.88226,     0.88169,     0.88262,     0.88224,      0.8835,     0.88315,     0.88277,      0.8827,     0.88236,     0.88479,     0.88702,     0.88678,     0.88617,     0.88645,     0.88672,     0.88779,     0.89023,     0.88984,     0.88998,\n",
      "            0.89041,     0.89003,     0.89049,     0.89061,     0.89054,     0.89315,     0.89274,     0.89328,     0.89621,     0.89999,     0.89996,     0.90118,     0.90077,     0.90275,     0.90543,     0.90797,     0.91079,     0.91228,     0.91173,     0.91154,     0.91085,     0.91355,     0.91437,\n",
      "            0.91466,     0.91441,     0.91326,     0.91642,     0.91596,     0.91585,     0.91539,     0.91481,     0.91395,     0.91354,     0.91869,     0.91848,     0.91744,     0.91687,     0.92038,     0.92074,     0.92154,     0.92351,     0.92272,     0.92237,     0.92624,     0.92815,      0.9298,\n",
      "             0.9336,     0.93523,     0.93472,     0.93605,     0.93584,     0.93757,     0.93935,     0.93899,     0.94062,     0.94347,     0.94497,     0.94468,     0.94453,     0.94668,     0.94587,      0.9464,     0.94765,     0.94661,     0.94854,     0.94833,     0.95083,      0.9498,     0.94893,\n",
      "            0.94882,      0.9496,     0.95221,      0.9533,       0.953,      0.9527,     0.95255,      0.9518,     0.95132,     0.95042,     0.94967,     0.94915,     0.95122,     0.95069,     0.94981,     0.94942,     0.95199,     0.95147,     0.95431,     0.95741,     0.95712,     0.95678,      0.9559,\n",
      "            0.95794,     0.95822,      0.9575,     0.95694,     0.95635,     0.95992,      0.9593,     0.95815,     0.95775,     0.96097,     0.96533,     0.96444,     0.96407,     0.96421,     0.96825,      0.9718,      0.9712,     0.97085,     0.96997,     0.96941,     0.96883,     0.96822,     0.97228,\n",
      "            0.97338,     0.97283,     0.97166,     0.97104,     0.97038,     0.96875,     0.96721,     0.96665,     0.96637,     0.96618,     0.96487,     0.96387,     0.96214,     0.96101,     0.95941,     0.95767,     0.95528,     0.95261,     0.95143,     0.95019,     0.94908,     0.94875,     0.95662,\n",
      "            0.95559,     0.95388,       0.952,     0.94911,     0.94806,     0.96143,     0.95902,     0.95531,     0.95204,     0.94914,     0.94565,     0.93897,     0.96721,     0.96529,     0.96445,     0.96179,     0.95971,     0.95886,     0.95495,     0.95355,     0.95244,     0.95006,     0.94542,\n",
      "                  1,           1,           1,           1,           1,           1,           1,           1,           1,           1,           1,           1,           1,           1,           1,           1,           1,           1,           1,           1,           1,           1,           1,\n",
      "                  1,           1,           1,           1,           1,           1,           1,           1,           1,           1,           1,           1,           1,           1,           1,           1,           1,           1,           1,           1,           1,           1,           1,\n",
      "                  1,           1,           1,           1,           1,           1,           1,           1,           1,           1,           1,           1,           1,           1,           1,           1,           1,           1,           1,           1,           1,           1,           1,\n",
      "                  1,           1,           1,           1,           1,           1,           1,           1,           1,           1,           1]]), 'Confidence', 'Precision'], [array([          0,    0.001001,    0.002002,    0.003003,    0.004004,    0.005005,    0.006006,    0.007007,    0.008008,    0.009009,     0.01001,    0.011011,    0.012012,    0.013013,    0.014014,    0.015015,    0.016016,    0.017017,    0.018018,    0.019019,     0.02002,    0.021021,    0.022022,    0.023023,\n",
      "          0.024024,    0.025025,    0.026026,    0.027027,    0.028028,    0.029029,     0.03003,    0.031031,    0.032032,    0.033033,    0.034034,    0.035035,    0.036036,    0.037037,    0.038038,    0.039039,     0.04004,    0.041041,    0.042042,    0.043043,    0.044044,    0.045045,    0.046046,    0.047047,\n",
      "          0.048048,    0.049049,     0.05005,    0.051051,    0.052052,    0.053053,    0.054054,    0.055055,    0.056056,    0.057057,    0.058058,    0.059059,     0.06006,    0.061061,    0.062062,    0.063063,    0.064064,    0.065065,    0.066066,    0.067067,    0.068068,    0.069069,     0.07007,    0.071071,\n",
      "          0.072072,    0.073073,    0.074074,    0.075075,    0.076076,    0.077077,    0.078078,    0.079079,     0.08008,    0.081081,    0.082082,    0.083083,    0.084084,    0.085085,    0.086086,    0.087087,    0.088088,    0.089089,     0.09009,    0.091091,    0.092092,    0.093093,    0.094094,    0.095095,\n",
      "          0.096096,    0.097097,    0.098098,    0.099099,      0.1001,      0.1011,      0.1021,      0.1031,      0.1041,     0.10511,     0.10611,     0.10711,     0.10811,     0.10911,     0.11011,     0.11111,     0.11211,     0.11311,     0.11411,     0.11512,     0.11612,     0.11712,     0.11812,     0.11912,\n",
      "           0.12012,     0.12112,     0.12212,     0.12312,     0.12412,     0.12513,     0.12613,     0.12713,     0.12813,     0.12913,     0.13013,     0.13113,     0.13213,     0.13313,     0.13413,     0.13514,     0.13614,     0.13714,     0.13814,     0.13914,     0.14014,     0.14114,     0.14214,     0.14314,\n",
      "           0.14414,     0.14515,     0.14615,     0.14715,     0.14815,     0.14915,     0.15015,     0.15115,     0.15215,     0.15315,     0.15415,     0.15516,     0.15616,     0.15716,     0.15816,     0.15916,     0.16016,     0.16116,     0.16216,     0.16316,     0.16416,     0.16517,     0.16617,     0.16717,\n",
      "           0.16817,     0.16917,     0.17017,     0.17117,     0.17217,     0.17317,     0.17417,     0.17518,     0.17618,     0.17718,     0.17818,     0.17918,     0.18018,     0.18118,     0.18218,     0.18318,     0.18418,     0.18519,     0.18619,     0.18719,     0.18819,     0.18919,     0.19019,     0.19119,\n",
      "           0.19219,     0.19319,     0.19419,      0.1952,      0.1962,      0.1972,      0.1982,      0.1992,      0.2002,      0.2012,      0.2022,      0.2032,      0.2042,     0.20521,     0.20621,     0.20721,     0.20821,     0.20921,     0.21021,     0.21121,     0.21221,     0.21321,     0.21421,     0.21522,\n",
      "           0.21622,     0.21722,     0.21822,     0.21922,     0.22022,     0.22122,     0.22222,     0.22322,     0.22422,     0.22523,     0.22623,     0.22723,     0.22823,     0.22923,     0.23023,     0.23123,     0.23223,     0.23323,     0.23423,     0.23524,     0.23624,     0.23724,     0.23824,     0.23924,\n",
      "           0.24024,     0.24124,     0.24224,     0.24324,     0.24424,     0.24525,     0.24625,     0.24725,     0.24825,     0.24925,     0.25025,     0.25125,     0.25225,     0.25325,     0.25425,     0.25526,     0.25626,     0.25726,     0.25826,     0.25926,     0.26026,     0.26126,     0.26226,     0.26326,\n",
      "           0.26426,     0.26527,     0.26627,     0.26727,     0.26827,     0.26927,     0.27027,     0.27127,     0.27227,     0.27327,     0.27427,     0.27528,     0.27628,     0.27728,     0.27828,     0.27928,     0.28028,     0.28128,     0.28228,     0.28328,     0.28428,     0.28529,     0.28629,     0.28729,\n",
      "           0.28829,     0.28929,     0.29029,     0.29129,     0.29229,     0.29329,     0.29429,      0.2953,      0.2963,      0.2973,      0.2983,      0.2993,      0.3003,      0.3013,      0.3023,      0.3033,      0.3043,     0.30531,     0.30631,     0.30731,     0.30831,     0.30931,     0.31031,     0.31131,\n",
      "           0.31231,     0.31331,     0.31431,     0.31532,     0.31632,     0.31732,     0.31832,     0.31932,     0.32032,     0.32132,     0.32232,     0.32332,     0.32432,     0.32533,     0.32633,     0.32733,     0.32833,     0.32933,     0.33033,     0.33133,     0.33233,     0.33333,     0.33433,     0.33534,\n",
      "           0.33634,     0.33734,     0.33834,     0.33934,     0.34034,     0.34134,     0.34234,     0.34334,     0.34434,     0.34535,     0.34635,     0.34735,     0.34835,     0.34935,     0.35035,     0.35135,     0.35235,     0.35335,     0.35435,     0.35536,     0.35636,     0.35736,     0.35836,     0.35936,\n",
      "           0.36036,     0.36136,     0.36236,     0.36336,     0.36436,     0.36537,     0.36637,     0.36737,     0.36837,     0.36937,     0.37037,     0.37137,     0.37237,     0.37337,     0.37437,     0.37538,     0.37638,     0.37738,     0.37838,     0.37938,     0.38038,     0.38138,     0.38238,     0.38338,\n",
      "           0.38438,     0.38539,     0.38639,     0.38739,     0.38839,     0.38939,     0.39039,     0.39139,     0.39239,     0.39339,     0.39439,      0.3954,      0.3964,      0.3974,      0.3984,      0.3994,      0.4004,      0.4014,      0.4024,      0.4034,      0.4044,     0.40541,     0.40641,     0.40741,\n",
      "           0.40841,     0.40941,     0.41041,     0.41141,     0.41241,     0.41341,     0.41441,     0.41542,     0.41642,     0.41742,     0.41842,     0.41942,     0.42042,     0.42142,     0.42242,     0.42342,     0.42442,     0.42543,     0.42643,     0.42743,     0.42843,     0.42943,     0.43043,     0.43143,\n",
      "           0.43243,     0.43343,     0.43443,     0.43544,     0.43644,     0.43744,     0.43844,     0.43944,     0.44044,     0.44144,     0.44244,     0.44344,     0.44444,     0.44545,     0.44645,     0.44745,     0.44845,     0.44945,     0.45045,     0.45145,     0.45245,     0.45345,     0.45445,     0.45546,\n",
      "           0.45646,     0.45746,     0.45846,     0.45946,     0.46046,     0.46146,     0.46246,     0.46346,     0.46446,     0.46547,     0.46647,     0.46747,     0.46847,     0.46947,     0.47047,     0.47147,     0.47247,     0.47347,     0.47447,     0.47548,     0.47648,     0.47748,     0.47848,     0.47948,\n",
      "           0.48048,     0.48148,     0.48248,     0.48348,     0.48448,     0.48549,     0.48649,     0.48749,     0.48849,     0.48949,     0.49049,     0.49149,     0.49249,     0.49349,     0.49449,      0.4955,      0.4965,      0.4975,      0.4985,      0.4995,      0.5005,      0.5015,      0.5025,      0.5035,\n",
      "            0.5045,     0.50551,     0.50651,     0.50751,     0.50851,     0.50951,     0.51051,     0.51151,     0.51251,     0.51351,     0.51451,     0.51552,     0.51652,     0.51752,     0.51852,     0.51952,     0.52052,     0.52152,     0.52252,     0.52352,     0.52452,     0.52553,     0.52653,     0.52753,\n",
      "           0.52853,     0.52953,     0.53053,     0.53153,     0.53253,     0.53353,     0.53453,     0.53554,     0.53654,     0.53754,     0.53854,     0.53954,     0.54054,     0.54154,     0.54254,     0.54354,     0.54454,     0.54555,     0.54655,     0.54755,     0.54855,     0.54955,     0.55055,     0.55155,\n",
      "           0.55255,     0.55355,     0.55455,     0.55556,     0.55656,     0.55756,     0.55856,     0.55956,     0.56056,     0.56156,     0.56256,     0.56356,     0.56456,     0.56557,     0.56657,     0.56757,     0.56857,     0.56957,     0.57057,     0.57157,     0.57257,     0.57357,     0.57457,     0.57558,\n",
      "           0.57658,     0.57758,     0.57858,     0.57958,     0.58058,     0.58158,     0.58258,     0.58358,     0.58458,     0.58559,     0.58659,     0.58759,     0.58859,     0.58959,     0.59059,     0.59159,     0.59259,     0.59359,     0.59459,      0.5956,      0.5966,      0.5976,      0.5986,      0.5996,\n",
      "            0.6006,      0.6016,      0.6026,      0.6036,      0.6046,     0.60561,     0.60661,     0.60761,     0.60861,     0.60961,     0.61061,     0.61161,     0.61261,     0.61361,     0.61461,     0.61562,     0.61662,     0.61762,     0.61862,     0.61962,     0.62062,     0.62162,     0.62262,     0.62362,\n",
      "           0.62462,     0.62563,     0.62663,     0.62763,     0.62863,     0.62963,     0.63063,     0.63163,     0.63263,     0.63363,     0.63463,     0.63564,     0.63664,     0.63764,     0.63864,     0.63964,     0.64064,     0.64164,     0.64264,     0.64364,     0.64464,     0.64565,     0.64665,     0.64765,\n",
      "           0.64865,     0.64965,     0.65065,     0.65165,     0.65265,     0.65365,     0.65465,     0.65566,     0.65666,     0.65766,     0.65866,     0.65966,     0.66066,     0.66166,     0.66266,     0.66366,     0.66466,     0.66567,     0.66667,     0.66767,     0.66867,     0.66967,     0.67067,     0.67167,\n",
      "           0.67267,     0.67367,     0.67467,     0.67568,     0.67668,     0.67768,     0.67868,     0.67968,     0.68068,     0.68168,     0.68268,     0.68368,     0.68468,     0.68569,     0.68669,     0.68769,     0.68869,     0.68969,     0.69069,     0.69169,     0.69269,     0.69369,     0.69469,      0.6957,\n",
      "            0.6967,      0.6977,      0.6987,      0.6997,      0.7007,      0.7017,      0.7027,      0.7037,      0.7047,     0.70571,     0.70671,     0.70771,     0.70871,     0.70971,     0.71071,     0.71171,     0.71271,     0.71371,     0.71471,     0.71572,     0.71672,     0.71772,     0.71872,     0.71972,\n",
      "           0.72072,     0.72172,     0.72272,     0.72372,     0.72472,     0.72573,     0.72673,     0.72773,     0.72873,     0.72973,     0.73073,     0.73173,     0.73273,     0.73373,     0.73473,     0.73574,     0.73674,     0.73774,     0.73874,     0.73974,     0.74074,     0.74174,     0.74274,     0.74374,\n",
      "           0.74474,     0.74575,     0.74675,     0.74775,     0.74875,     0.74975,     0.75075,     0.75175,     0.75275,     0.75375,     0.75475,     0.75576,     0.75676,     0.75776,     0.75876,     0.75976,     0.76076,     0.76176,     0.76276,     0.76376,     0.76476,     0.76577,     0.76677,     0.76777,\n",
      "           0.76877,     0.76977,     0.77077,     0.77177,     0.77277,     0.77377,     0.77477,     0.77578,     0.77678,     0.77778,     0.77878,     0.77978,     0.78078,     0.78178,     0.78278,     0.78378,     0.78478,     0.78579,     0.78679,     0.78779,     0.78879,     0.78979,     0.79079,     0.79179,\n",
      "           0.79279,     0.79379,     0.79479,      0.7958,      0.7968,      0.7978,      0.7988,      0.7998,      0.8008,      0.8018,      0.8028,      0.8038,      0.8048,     0.80581,     0.80681,     0.80781,     0.80881,     0.80981,     0.81081,     0.81181,     0.81281,     0.81381,     0.81481,     0.81582,\n",
      "           0.81682,     0.81782,     0.81882,     0.81982,     0.82082,     0.82182,     0.82282,     0.82382,     0.82482,     0.82583,     0.82683,     0.82783,     0.82883,     0.82983,     0.83083,     0.83183,     0.83283,     0.83383,     0.83483,     0.83584,     0.83684,     0.83784,     0.83884,     0.83984,\n",
      "           0.84084,     0.84184,     0.84284,     0.84384,     0.84484,     0.84585,     0.84685,     0.84785,     0.84885,     0.84985,     0.85085,     0.85185,     0.85285,     0.85385,     0.85485,     0.85586,     0.85686,     0.85786,     0.85886,     0.85986,     0.86086,     0.86186,     0.86286,     0.86386,\n",
      "           0.86486,     0.86587,     0.86687,     0.86787,     0.86887,     0.86987,     0.87087,     0.87187,     0.87287,     0.87387,     0.87487,     0.87588,     0.87688,     0.87788,     0.87888,     0.87988,     0.88088,     0.88188,     0.88288,     0.88388,     0.88488,     0.88589,     0.88689,     0.88789,\n",
      "           0.88889,     0.88989,     0.89089,     0.89189,     0.89289,     0.89389,     0.89489,      0.8959,      0.8969,      0.8979,      0.8989,      0.8999,      0.9009,      0.9019,      0.9029,      0.9039,      0.9049,     0.90591,     0.90691,     0.90791,     0.90891,     0.90991,     0.91091,     0.91191,\n",
      "           0.91291,     0.91391,     0.91491,     0.91592,     0.91692,     0.91792,     0.91892,     0.91992,     0.92092,     0.92192,     0.92292,     0.92392,     0.92492,     0.92593,     0.92693,     0.92793,     0.92893,     0.92993,     0.93093,     0.93193,     0.93293,     0.93393,     0.93493,     0.93594,\n",
      "           0.93694,     0.93794,     0.93894,     0.93994,     0.94094,     0.94194,     0.94294,     0.94394,     0.94494,     0.94595,     0.94695,     0.94795,     0.94895,     0.94995,     0.95095,     0.95195,     0.95295,     0.95395,     0.95495,     0.95596,     0.95696,     0.95796,     0.95896,     0.95996,\n",
      "           0.96096,     0.96196,     0.96296,     0.96396,     0.96496,     0.96597,     0.96697,     0.96797,     0.96897,     0.96997,     0.97097,     0.97197,     0.97297,     0.97397,     0.97497,     0.97598,     0.97698,     0.97798,     0.97898,     0.97998,     0.98098,     0.98198,     0.98298,     0.98398,\n",
      "           0.98498,     0.98599,     0.98699,     0.98799,     0.98899,     0.98999,     0.99099,     0.99199,     0.99299,     0.99399,     0.99499,       0.996,       0.997,       0.998,       0.999,           1]), array([[    0.99047,     0.99047,      0.9857,      0.9857,      0.9857,     0.98332,     0.97935,     0.97855,     0.97776,     0.97776,     0.97617,     0.97538,     0.97458,     0.97458,      0.9722,     0.97061,     0.97061,     0.96982,     0.96902,     0.96823,     0.96664,     0.96505,     0.96426,\n",
      "            0.96267,     0.96187,     0.95949,     0.95949,      0.9587,      0.9587,     0.95552,     0.95473,     0.95393,     0.95393,     0.95314,     0.95234,     0.95234,     0.94996,     0.94917,     0.94917,     0.94765,     0.94678,      0.9444,     0.94361,     0.94361,     0.94361,     0.94281,\n",
      "            0.94281,      0.9414,     0.93963,     0.93884,     0.93805,     0.93597,     0.93407,     0.93249,     0.93169,      0.9309,     0.93067,      0.9301,     0.92931,     0.92851,     0.92851,     0.92851,     0.92851,     0.92613,     0.92613,     0.92534,     0.92534,     0.92534,     0.92534,\n",
      "            0.92534,     0.92454,     0.92295,     0.92295,     0.92128,     0.92057,     0.91898,     0.91898,     0.91898,     0.91898,     0.91898,     0.91897,      0.9166,     0.91501,     0.91422,     0.91227,     0.91183,     0.91183,     0.91104,     0.91104,     0.91104,     0.91104,     0.91104,\n",
      "            0.91082,     0.90866,     0.90866,     0.90786,     0.90627,     0.90627,     0.90548,     0.90548,     0.90389,     0.90389,     0.90389,      0.9031,      0.9031,     0.90177,     0.90151,     0.90151,     0.90151,     0.90071,     0.90071,     0.89833,     0.89833,     0.89774,     0.89674,\n",
      "            0.89606,     0.89595,     0.89595,     0.89595,     0.89595,     0.89595,     0.89515,     0.89515,     0.89357,     0.89357,     0.89277,     0.89118,     0.88982,     0.88959,     0.88959,     0.88959,     0.88959,     0.88959,     0.88959,     0.88959,      0.8888,     0.88801,     0.88721,\n",
      "            0.88609,     0.88403,     0.88165,     0.87878,     0.87847,     0.87847,     0.87692,     0.87689,      0.8768,     0.87609,     0.87609,     0.87609,     0.87609,      0.8753,      0.8753,      0.8753,      0.8745,      0.8745,     0.87292,     0.87212,     0.87212,     0.87212,     0.87212,\n",
      "            0.87179,     0.87133,     0.87053,     0.86974,     0.86974,     0.86894,     0.86894,     0.86815,     0.86815,     0.86815,     0.86736,     0.86733,     0.86687,     0.86656,     0.86624,     0.86497,     0.86497,     0.86497,     0.86418,     0.86418,     0.86418,     0.86418,     0.86338,\n",
      "            0.86338,     0.86259,     0.86259,     0.86162,       0.861,       0.861,     0.86021,     0.86021,     0.86021,     0.85986,     0.85941,     0.85925,     0.85862,     0.85862,     0.85624,     0.85624,     0.85544,     0.85306,     0.85306,     0.85306,     0.85226,      0.8517,     0.85147,\n",
      "            0.85147,     0.85068,     0.85068,     0.84988,     0.84988,     0.84909,     0.84865,     0.84805,      0.8475,      0.8467,      0.8467,     0.84591,     0.84527,     0.84512,     0.84512,     0.84512,      0.8445,     0.84432,     0.84432,     0.84432,     0.84432,     0.84256,     0.84194,\n",
      "            0.84193,     0.84114,     0.84035,     0.84035,     0.84035,     0.84035,     0.84035,     0.84035,     0.84035,     0.84035,     0.84035,     0.83717,     0.83717,     0.83717,     0.83717,     0.83638,     0.83638,     0.83566,     0.83558,     0.83558,     0.83496,     0.83298,     0.83241,\n",
      "            0.83241,     0.83241,      0.8318,     0.83161,     0.83161,     0.83161,     0.83161,     0.83161,     0.83161,     0.83161,     0.83161,     0.83161,     0.83147,     0.83082,      0.8301,     0.82923,     0.82923,     0.82923,     0.82923,     0.82923,      0.8291,     0.82779,      0.8275,\n",
      "            0.82685,     0.82605,     0.82605,     0.82605,     0.82605,      0.8256,     0.82526,     0.82473,     0.82412,     0.82372,     0.82288,     0.82288,     0.82227,     0.82208,     0.82126,     0.82019,      0.8197,      0.8197,      0.8189,     0.81811,     0.81811,     0.81811,     0.81811,\n",
      "            0.81811,      0.8181,     0.81732,     0.81732,     0.81732,     0.81732,     0.81732,     0.81732,     0.81732,     0.81715,     0.81573,     0.81573,     0.81573,     0.81573,      0.8156,     0.81414,     0.81414,     0.81282,     0.81183,     0.81176,     0.81089,      0.8106,      0.8103,\n",
      "            0.81017,     0.81017,     0.81017,      0.8095,     0.80937,     0.80937,     0.80937,     0.80899,     0.80776,     0.80699,     0.80699,     0.80699,      0.8054,      0.8054,     0.80461,     0.80461,     0.80461,     0.80384,     0.80381,     0.80357,     0.80311,     0.80302,     0.80302,\n",
      "            0.80302,     0.80302,     0.80302,     0.80302,     0.80302,       0.803,     0.80143,     0.80143,     0.79984,     0.79905,     0.79905,     0.79905,     0.79905,     0.79746,     0.79746,     0.79746,     0.79715,     0.79674,     0.79587,     0.79508,     0.79482,     0.79442,     0.79269,\n",
      "             0.7919,      0.7919,      0.7919,      0.7902,     0.78979,     0.78936,      0.7889,     0.78793,     0.78793,     0.78793,     0.78793,     0.78793,     0.78713,     0.78713,     0.78554,     0.78448,     0.78379,     0.78333,     0.78184,     0.78103,     0.78021,     0.77998,     0.77998,\n",
      "             0.7784,      0.7776,      0.7776,      0.7776,      0.7776,     0.77648,     0.77567,     0.77485,     0.77404,     0.77348,     0.77319,     0.77289,     0.77204,     0.77204,     0.77204,     0.77052,     0.76882,     0.76854,     0.76827,     0.76707,     0.76648,     0.76648,     0.76648,\n",
      "            0.76648,     0.76648,     0.76569,     0.76355,     0.76274,     0.76172,     0.76172,     0.76109,     0.76092,     0.76006,     0.75854,     0.75764,     0.75695,     0.75695,     0.75678,     0.75616,     0.75515,     0.75355,     0.75218,     0.75139,     0.75123,     0.75076,     0.75007,\n",
      "            0.74901,     0.74844,     0.74763,     0.74583,     0.74583,     0.74504,     0.74504,     0.74356,      0.7431,     0.74269,     0.74186,     0.74186,     0.74028,     0.74027,     0.74027,     0.74027,     0.74027,     0.74022,     0.73975,     0.73931,     0.73891,     0.73789,     0.73789,\n",
      "            0.73789,     0.73789,     0.73744,     0.73709,     0.73709,     0.73659,     0.73498,     0.73392,     0.73392,     0.73333,     0.73252,     0.73153,     0.73074,     0.72994,     0.72926,     0.72915,     0.72915,     0.72915,     0.72915,     0.72757,     0.72677,     0.72518,     0.72518,\n",
      "            0.72518,     0.72518,     0.72518,     0.72518,     0.72518,     0.72512,     0.72485,     0.72458,     0.72359,     0.72347,     0.72306,     0.72251,       0.722,     0.72184,     0.72143,     0.71962,     0.71882,     0.71882,     0.71882,     0.71882,     0.71882,     0.71834,     0.71803,\n",
      "            0.71803,     0.71803,     0.71724,     0.71506,     0.71406,     0.71326,     0.71247,     0.71168,     0.71099,     0.70779,     0.70698,     0.70691,     0.70615,     0.70612,     0.70612,     0.70612,     0.70527,     0.70207,     0.70056,     0.70056,     0.70056,     0.70056,     0.69976,\n",
      "            0.69957,     0.69897,     0.69897,     0.69897,      0.6987,     0.69803,     0.69762,     0.69738,     0.69658,     0.69622,      0.6954,       0.695,     0.69261,     0.69261,     0.69182,     0.69102,     0.69102,     0.69102,     0.69102,     0.69074,     0.69033,     0.68804,     0.68705,\n",
      "            0.68705,     0.68626,     0.68546,     0.68467,     0.68467,     0.68273,     0.68112,      0.6807,     0.68029,     0.67948,     0.67787,     0.67705,     0.67624,     0.67514,     0.67461,      0.6738,     0.67219,     0.67037,     0.67037,     0.67037,     0.66878,     0.66799,     0.66572,\n",
      "            0.66446,     0.66405,     0.66327,     0.66166,     0.65926,     0.65846,      0.6584,     0.65687,     0.65608,     0.65608,     0.65477,     0.65422,     0.65382,      0.6529,      0.6529,      0.6515,     0.65068,     0.64893,     0.64893,     0.64813,     0.64813,     0.64701,     0.64461,\n",
      "              0.643,     0.64139,     0.63919,     0.63878,      0.6386,     0.63781,     0.63781,     0.63781,     0.63649,     0.63542,     0.63542,     0.63542,     0.63463,     0.63463,     0.63463,     0.63463,     0.63384,     0.63353,     0.63304,     0.63071,      0.6283,      0.6259,     0.62431,\n",
      "            0.62431,     0.62431,     0.62423,     0.62253,     0.62167,     0.62126,     0.61954,     0.61954,     0.61954,     0.61954,     0.61812,     0.61691,     0.61609,     0.61477,     0.61446,     0.61365,     0.61248,     0.61162,     0.60842,     0.60682,     0.60524,     0.60201,     0.59954,\n",
      "            0.59602,     0.59441,     0.59333,     0.59333,     0.59333,     0.59214,     0.58994,     0.58913,     0.58831,     0.58643,     0.58539,     0.58539,       0.583,     0.58225,     0.57735,     0.57715,     0.57694,     0.57674,     0.57585,     0.57419,     0.57258,     0.57177,     0.56923,\n",
      "            0.56871,     0.56632,     0.56632,     0.56304,     0.56263,     0.56076,     0.55997,      0.5569,     0.55608,     0.55282,     0.55282,     0.55203,     0.54846,     0.54248,     0.54167,     0.54008,     0.53953,     0.53565,     0.53455,     0.53455,     0.53202,     0.53041,      0.5282,\n",
      "             0.5282,     0.52677,     0.52596,     0.52395,     0.52264,     0.52184,     0.51953,     0.51871,      0.5175,     0.51628,     0.51547,     0.51466,      0.5122,     0.51105,     0.50785,     0.50584,     0.50349,     0.50294,     0.49903,     0.49822,     0.49701,      0.4954,     0.49387,\n",
      "            0.49333,     0.49176,     0.49055,     0.48782,     0.48535,     0.48374,     0.48174,     0.48092,     0.47971,     0.47895,     0.47689,     0.47608,     0.47577,     0.47551,     0.47284,     0.46845,     0.46605,     0.46343,     0.46265,     0.45909,     0.45855,     0.45602,     0.45592,\n",
      "            0.45559,     0.45409,     0.45355,     0.45076,     0.44637,     0.44393,     0.44196,     0.44035,      0.4397,     0.43822,     0.43664,     0.43632,     0.43492,     0.43309,     0.43029,     0.42924,     0.42667,     0.42573,     0.42277,     0.42105,     0.41871,     0.41704,     0.41461,\n",
      "            0.41304,     0.41141,     0.40985,     0.40741,     0.40588,     0.40499,     0.40327,     0.40111,     0.39778,     0.39714,     0.39298,     0.39115,     0.38936,      0.3884,     0.38786,     0.38397,     0.38284,     0.37997,     0.37737,     0.37651,     0.37332,     0.36931,     0.36855,\n",
      "            0.36605,      0.3649,     0.35962,     0.35709,     0.35495,     0.35441,     0.35231,     0.34969,     0.34588,     0.34409,     0.34103,     0.34008,     0.33539,     0.33289,     0.33201,     0.32804,      0.3265,     0.32606,     0.32245,     0.32085,     0.31919,     0.31612,     0.31563,\n",
      "            0.31272,     0.30963,     0.30708,     0.30227,     0.30123,     0.29822,     0.29524,     0.29338,     0.28936,     0.28674,     0.28642,     0.28481,       0.284,     0.28202,      0.2776,     0.27562,     0.27316,     0.26756,     0.26355,     0.26241,     0.26109,     0.25549,     0.25089,\n",
      "            0.25035,     0.24702,     0.24464,     0.24321,      0.2416,        0.24,     0.23918,     0.23527,     0.23285,      0.2284,     0.22483,     0.22241,     0.21682,     0.21438,     0.21043,     0.20874,     0.20473,     0.20243,     0.19909,     0.19643,     0.19504,     0.19341,      0.1894,\n",
      "            0.18824,     0.18217,     0.17896,     0.17653,     0.17403,     0.17123,     0.16847,     0.16367,     0.16204,     0.15644,     0.15481,      0.1508,     0.14917,     0.14456,      0.1382,     0.13688,     0.13392,     0.13229,     0.12828,     0.12586,     0.12344,     0.12101,     0.11994,\n",
      "            0.11617,     0.11375,     0.10894,     0.10652,      0.1041,    0.098493,    0.093708,    0.092099,    0.091304,    0.090761,    0.087274,    0.084754,    0.080743,    0.078321,    0.075104,    0.071887,    0.067876,    0.063864,    0.062236,    0.060608,    0.059225,    0.058818,    0.052546,\n",
      "           0.051273,    0.049289,    0.047262,    0.044444,    0.042097,    0.039599,    0.037176,    0.033959,    0.031537,    0.029648,    0.027643,    0.024446,    0.023435,    0.022095,    0.021553,    0.019998,    0.018925,    0.018518,    0.016842,    0.016313,    0.015906,    0.015113,    0.013769,\n",
      "           0.012672,    0.010996,    0.010763,     0.01053,     0.01013,    0.009274,   0.0088669,   0.0079166,   0.0077809,   0.0076452,   0.0075095,   0.0073738,   0.0072381,   0.0058009,   0.0053865,    0.005183,   0.0049795,   0.0047759,    0.003821,   0.0034953,   0.0031678,   0.0027607,   0.0023661,\n",
      "          0.0021335,   0.0019009,   0.0016683,    0.001542,   0.0014712,   0.0014004,   0.0013296,   0.0012588,   0.0011881,   0.0011173,   0.0010465,  0.00097566,  0.00090487,  0.00083407,           0,           0,           0,           0,           0,           0,           0,           0,           0,\n",
      "                  0,           0,           0,           0,           0,           0,           0,           0,           0,           0,           0,           0,           0,           0,           0,           0,           0,           0,           0,           0,           0,           0,           0,\n",
      "                  0,           0,           0,           0,           0,           0,           0,           0,           0,           0,           0]]), 'Confidence', 'Recall']]\n",
      "fitness: 0.6313344378058873\n",
      "keys: ['metrics/precision(B)', 'metrics/recall(B)', 'metrics/mAP50(B)', 'metrics/mAP50-95(B)']\n",
      "maps: array([    0.61212])\n",
      "names: {0: 'SignBoard'}\n",
      "plot: True\n",
      "results_dict: {'metrics/precision(B)': 0.6939680477826244, 'metrics/recall(B)': 0.7888985093115355, 'metrics/mAP50(B)': 0.8042977767507505, 'metrics/mAP50-95(B)': 0.6121162890342358, 'fitness': 0.6313344378058873}\n",
      "save_dir: PosixPath('runs/detect/train2')\n",
      "speed: {'preprocess': 0.7886545248493749, 'inference': 7.190764212923428, 'loss': 0.0006721933507709252, 'postprocess': 3.223951692623189}\n",
      "task: 'detect'\n"
     ]
    }
   ],
   "source": [
    "print(results)"
   ]
  },
  {
   "cell_type": "code",
   "execution_count": null,
   "metadata": {
    "id": "T79dYIsCN0DF"
   },
   "outputs": [],
   "source": []
  },
  {
   "cell_type": "code",
   "execution_count": null,
   "metadata": {
    "colab": {
     "base_uri": "https://localhost:8080/",
     "height": 36
    },
    "executionInfo": {
     "elapsed": 1237,
     "status": "ok",
     "timestamp": 1714146873629,
     "user": {
      "displayName": "Rantu Das",
      "userId": "04984181301648217754"
     },
     "user_tz": -360
    },
    "id": "ofpDDPHq3D4W",
    "outputId": "02590d7d-252c-4d18-9731-a977561fe19d"
   },
   "outputs": [
    {
     "data": {
      "application/vnd.google.colaboratory.intrinsic+json": {
       "type": "string"
      },
      "text/plain": [
       "'/content/gdrive/My Drive/CSE428/Project/Data/Data/train'"
      ]
     },
     "execution_count": 9,
     "metadata": {},
     "output_type": "execute_result"
    }
   ],
   "source": [
    "import shutil\n",
    "\n",
    "# Copy the directory recursively\n",
    "shutil.copytree('/content/runs/detect', '/content/gdrive/My Drive/CSE428/Project/Data/Data/train')\n",
    "\n",
    "\n"
   ]
  },
  {
   "cell_type": "code",
   "execution_count": 8,
   "metadata": {
    "colab": {
     "base_uri": "https://localhost:8080/",
     "height": 35
    },
    "executionInfo": {
     "elapsed": 758,
     "status": "ok",
     "timestamp": 1714812815236,
     "user": {
      "displayName": "Rantu Das",
      "userId": "07199959648703687855"
     },
     "user_tz": -360
    },
    "id": "mpWCd8YQIFOe",
    "outputId": "40693b3b-c943-4888-9550-93f0b2c309b4"
   },
   "outputs": [
    {
     "data": {
      "application/vnd.google.colaboratory.intrinsic+json": {
       "type": "string"
      },
      "text/plain": [
       "'C.UTF-8'"
      ]
     },
     "execution_count": 8,
     "metadata": {},
     "output_type": "execute_result"
    }
   ],
   "source": [
    "import locale\n",
    "locale.setlocale(locale.LC_ALL, 'C.UTF-8')\n",
    "\n",
    "\n"
   ]
  },
  {
   "cell_type": "code",
   "execution_count": 9,
   "metadata": {
    "colab": {
     "base_uri": "https://localhost:8080/"
    },
    "executionInfo": {
     "elapsed": 13121,
     "status": "ok",
     "timestamp": 1714812833532,
     "user": {
      "displayName": "Rantu Das",
      "userId": "07199959648703687855"
     },
     "user_tz": -360
    },
    "id": "4CrB1KuNPs-D",
    "outputId": "ee387d81-7613-4901-f205-52b64125527e"
   },
   "outputs": [
    {
     "name": "stdout",
     "output_type": "stream",
     "text": [
      "Command executed successfully!\n",
      "Ultralytics YOLOv8.2.8 🚀 Python-3.10.12 torch-2.2.1+cu121 CUDA:0 (Tesla T4, 15102MiB)\n",
      "Model summary (fused): 168 layers, 3005843 parameters, 0 gradients, 8.1 GFLOPs\n",
      "\n",
      "image 1/1 /content/gdrive/My Drive/CSE428/Project/Data/Data/images/test/test.jpg: 960x1408 1 SignBoard, 60.2ms\n",
      "Speed: 26.3ms preprocess, 60.2ms inference, 3001.5ms postprocess per image at shape (1, 3, 960, 1408)\n",
      "Results saved to \u001b[1mruns/detect/predict\u001b[0m\n",
      "💡 Learn more at https://docs.ultralytics.com/modes/predict\n",
      "\n"
     ]
    }
   ],
   "source": [
    "import subprocess\n",
    "\n",
    "# Define the command as a list of arguments\n",
    "command = [\n",
    "    \"yolo\",\n",
    "    \"task=detect\",\n",
    "    \"mode=predict\",\n",
    "    \"model='/content/gdrive/MyDrive/CSE428/Project/Data/val3/val3/train2/weights/best.pt'\",\n",
    "    \"conf=0.5\",\n",
    "    \"iou=0.5\",\n",
    "    \"source='/content/gdrive/My Drive/CSE428/Project/Data/Data/images/test'\"\n",
    "]\n",
    "\n",
    "# Execute the command\n",
    "process = subprocess.Popen(command, stdout=subprocess.PIPE, stderr=subprocess.PIPE)\n",
    "stdout, stderr = process.communicate()\n",
    "\n",
    "# Check if there was an error\n",
    "if process.returncode != 0:\n",
    "    print(\"Error occurred:\")\n",
    "    print(stderr.decode(\"utf-8\"))\n",
    "else:\n",
    "    print(\"Command executed successfully!\")\n",
    "    print(stdout.decode(\"utf-8\"))\n"
   ]
  },
  {
   "cell_type": "code",
   "execution_count": null,
   "metadata": {
    "colab": {
     "base_uri": "https://localhost:8080/",
     "height": 36
    },
    "executionInfo": {
     "elapsed": 6222,
     "status": "ok",
     "timestamp": 1714147548509,
     "user": {
      "displayName": "Rantu Das",
      "userId": "04984181301648217754"
     },
     "user_tz": -360
    },
    "id": "Me1KmB4cQWJW",
    "outputId": "15b6396f-8626-4870-9075-07a590976595"
   },
   "outputs": [
    {
     "data": {
      "application/vnd.google.colaboratory.intrinsic+json": {
       "type": "string"
      },
      "text/plain": [
       "'/content/gdrive/My Drive/CSE428/Project/Data/Data/test'"
      ]
     },
     "execution_count": 22,
     "metadata": {},
     "output_type": "execute_result"
    }
   ],
   "source": [
    "import shutil\n",
    "\n",
    "# Copy the directory recursively\n",
    "shutil.copytree('/content/runs/detect', '/content/gdrive/My Drive/CSE428/Project/Data/Data/test')\n"
   ]
  },
  {
   "cell_type": "code",
   "execution_count": null,
   "metadata": {
    "colab": {
     "base_uri": "https://localhost:8080/"
    },
    "executionInfo": {
     "elapsed": 75619,
     "status": "ok",
     "timestamp": 1714147686932,
     "user": {
      "displayName": "Rantu Das",
      "userId": "04984181301648217754"
     },
     "user_tz": -360
    },
    "id": "RSVOGGolQcV5",
    "outputId": "4c81d89c-53a4-4dde-ca31-7c55ab556f19"
   },
   "outputs": [
    {
     "data": {
      "text/plain": [
       "CompletedProcess(args=\"\\nLC_ALL=C.UTF-8 LANG=C.UTF-8 yolo task=detect mode=val model='/content/runs/detect/train2/weights/best.pt' data='/content/gdrive/My Drive/CSE428/Project/Data/Data/data.yaml'\\n\", returncode=0)"
      ]
     },
     "execution_count": 24,
     "metadata": {},
     "output_type": "execute_result"
    }
   ],
   "source": [
    "import subprocess\n",
    "\n",
    "# Define the command\n",
    "command = \"\"\"\n",
    "LC_ALL=C.UTF-8 LANG=C.UTF-8 yolo task=detect mode=val \\\n",
    "model='/content/runs/detect/train2/weights/best.pt' \\\n",
    "data='/content/gdrive/My Drive/CSE428/Project/Data/Data/data.yaml'\n",
    "\"\"\"\n",
    "\n",
    "# Execute the command\n",
    "subprocess.run(command, shell=True, check=True)\n"
   ]
  },
  {
   "cell_type": "code",
   "execution_count": null,
   "metadata": {
    "colab": {
     "base_uri": "https://localhost:8080/"
    },
    "executionInfo": {
     "elapsed": 81090,
     "status": "ok",
     "timestamp": 1714148116823,
     "user": {
      "displayName": "Rantu Das",
      "userId": "04984181301648217754"
     },
     "user_tz": -360
    },
    "id": "RgUXngYvLpVU",
    "outputId": "758c01fe-ff69-4edc-ea1c-f3856efe493c"
   },
   "outputs": [
    {
     "name": "stdout",
     "output_type": "stream",
     "text": [
      "Return code: 0\n"
     ]
    }
   ],
   "source": [
    "import subprocess\n",
    "\n",
    "# Define the command\n",
    "command = \"\"\"\n",
    "LC_ALL=C.UTF-8 LANG=C.UTF-8 yolo task=detect mode=val \\\n",
    "model='/content/runs/detect/train2/weights/best.pt' \\\n",
    "data='/content/gdrive/My Drive/CSE428/Project/Data/Data/data.yaml'\n",
    "\"\"\"\n",
    "\n",
    "# Execute the command\n",
    "result = subprocess.run(command, shell=True)\n",
    "\n",
    "# Print the result (return code)\n",
    "print(\"Return code:\", result.returncode)\n"
   ]
  },
  {
   "cell_type": "code",
   "execution_count": null,
   "metadata": {
    "colab": {
     "base_uri": "https://localhost:8080/"
    },
    "executionInfo": {
     "elapsed": 76255,
     "status": "ok",
     "timestamp": 1714147930653,
     "user": {
      "displayName": "Rantu Das",
      "userId": "04984181301648217754"
     },
     "user_tz": -360
    },
    "id": "snGyq8nRKrvF",
    "outputId": "9dd2848b-2bd6-489b-ed97-b574779b7c34"
   },
   "outputs": [
    {
     "name": "stdout",
     "output_type": "stream",
     "text": [
      "Ultralytics YOLOv8.2.2 🚀 Python-3.10.12 torch-2.2.1+cu121 CUDA:0 (Tesla T4, 15102MiB)\n",
      "Model summary (fused): 168 layers, 3005843 parameters, 0 gradients, 8.1 GFLOPs\n",
      "\u001b[34m\u001b[1mval: \u001b[0mWARNING ⚠️ /content/gdrive/My Drive/CSE428/Project/Data/Data/images/val/19121070_02.jpg: corrupt JPEG restored and saved\n",
      "\u001b[34m\u001b[1mval: \u001b[0mWARNING ⚠️ /content/gdrive/My Drive/CSE428/Project/Data/Data/images/val/19121070_04.jpg: corrupt JPEG restored and saved\n",
      "\u001b[34m\u001b[1mval: \u001b[0mWARNING ⚠️ /content/gdrive/My Drive/CSE428/Project/Data/Data/images/val/19121070_20.jpg: corrupt JPEG restored and saved\n",
      "\u001b[34m\u001b[1mval: \u001b[0mWARNING ⚠️ /content/gdrive/My Drive/CSE428/Project/Data/Data/images/val/19121070_33.jpg: corrupt JPEG restored and saved\n",
      "\u001b[34m\u001b[1mval: \u001b[0mWARNING ⚠️ /content/gdrive/My Drive/CSE428/Project/Data/Data/images/val/20101285_42.jpg: corrupt JPEG restored and saved\n",
      "\u001b[34m\u001b[1mval: \u001b[0mWARNING ⚠️ /content/gdrive/My Drive/CSE428/Project/Data/Data/images/val/20101285_46.jpg: corrupt JPEG restored and saved\n",
      "\u001b[34m\u001b[1mval: \u001b[0mWARNING ⚠️ /content/gdrive/My Drive/CSE428/Project/Data/Data/images/val/20101285_47.jpg: corrupt JPEG restored and saved\n",
      "\u001b[34m\u001b[1mval: \u001b[0mWARNING ⚠️ /content/gdrive/My Drive/CSE428/Project/Data/Data/images/val/20101285_51.jpg: corrupt JPEG restored and saved\n",
      "\u001b[34m\u001b[1mval: \u001b[0mWARNING ⚠️ /content/gdrive/My Drive/CSE428/Project/Data/Data/images/val/20101285_52.jpg: corrupt JPEG restored and saved\n",
      "\u001b[34m\u001b[1mval: \u001b[0mWARNING ⚠️ /content/gdrive/My Drive/CSE428/Project/Data/Data/images/val/20101285_53.jpg: corrupt JPEG restored and saved\n",
      "\u001b[34m\u001b[1mval: \u001b[0mWARNING ⚠️ /content/gdrive/My Drive/CSE428/Project/Data/Data/images/val/20101285_57.jpg: corrupt JPEG restored and saved\n",
      "\u001b[34m\u001b[1mval: \u001b[0mWARNING ⚠️ /content/gdrive/My Drive/CSE428/Project/Data/Data/images/val/20101285_59.jpg: corrupt JPEG restored and saved\n",
      "\u001b[34m\u001b[1mval: \u001b[0mWARNING ⚠️ /content/gdrive/My Drive/CSE428/Project/Data/Data/images/val/20101285_60.jpg: corrupt JPEG restored and saved\n",
      "\u001b[34m\u001b[1mval: \u001b[0mWARNING ⚠️ /content/gdrive/My Drive/CSE428/Project/Data/Data/images/val/20101285_61.jpg: corrupt JPEG restored and saved\n",
      "\u001b[34m\u001b[1mval: \u001b[0mWARNING ⚠️ /content/gdrive/My Drive/CSE428/Project/Data/Data/images/val/20101285_63.jpg: corrupt JPEG restored and saved\n",
      "\u001b[34m\u001b[1mval: \u001b[0mWARNING ⚠️ /content/gdrive/My Drive/CSE428/Project/Data/Data/images/val/20101285_70.jpg: corrupt JPEG restored and saved\n",
      "\u001b[34m\u001b[1mval: \u001b[0mWARNING ⚠️ /content/gdrive/My Drive/CSE428/Project/Data/Data/images/val/20121026_02.jpg: corrupt JPEG restored and saved\n",
      "\u001b[34m\u001b[1mval: \u001b[0mWARNING ⚠️ /content/gdrive/My Drive/CSE428/Project/Data/Data/images/val/20121026_05.jpg: corrupt JPEG restored and saved\n",
      "\u001b[34m\u001b[1mval: \u001b[0mWARNING ⚠️ /content/gdrive/My Drive/CSE428/Project/Data/Data/images/val/20121026_08.jpg: corrupt JPEG restored and saved\n",
      "\u001b[34m\u001b[1mval: \u001b[0mWARNING ⚠️ /content/gdrive/My Drive/CSE428/Project/Data/Data/images/val/20121026_11.jpg: corrupt JPEG restored and saved\n",
      "\u001b[34m\u001b[1mval: \u001b[0mWARNING ⚠️ /content/gdrive/My Drive/CSE428/Project/Data/Data/images/val/20121026_13.jpg: corrupt JPEG restored and saved\n",
      "\u001b[34m\u001b[1mval: \u001b[0mWARNING ⚠️ /content/gdrive/My Drive/CSE428/Project/Data/Data/images/val/20121026_15.jpg: corrupt JPEG restored and saved\n",
      "\u001b[34m\u001b[1mval: \u001b[0mWARNING ⚠️ /content/gdrive/My Drive/CSE428/Project/Data/Data/images/val/20121026_17.jpg: corrupt JPEG restored and saved\n",
      "\u001b[34m\u001b[1mval: \u001b[0mWARNING ⚠️ /content/gdrive/My Drive/CSE428/Project/Data/Data/images/val/20121026_25.jpg: corrupt JPEG restored and saved\n",
      "\u001b[34m\u001b[1mval: \u001b[0mWARNING ⚠️ /content/gdrive/My Drive/CSE428/Project/Data/Data/images/val/20201020_45.jpg: corrupt JPEG restored and saved\n",
      "\u001b[34m\u001b[1mval: \u001b[0mWARNING ⚠️ /content/gdrive/My Drive/CSE428/Project/Data/Data/images/val/20201020_48.jpg: corrupt JPEG restored and saved\n",
      "\u001b[34m\u001b[1mval: \u001b[0mWARNING ⚠️ /content/gdrive/My Drive/CSE428/Project/Data/Data/images/val/20201020_50.jpg: corrupt JPEG restored and saved\n",
      "\u001b[34m\u001b[1mval: \u001b[0mWARNING ⚠️ /content/gdrive/My Drive/CSE428/Project/Data/Data/images/val/20201020_55.jpg: corrupt JPEG restored and saved\n",
      "\u001b[34m\u001b[1mval: \u001b[0mWARNING ⚠️ /content/gdrive/My Drive/CSE428/Project/Data/Data/images/val/20201020_60.jpg: corrupt JPEG restored and saved\n",
      "\u001b[34m\u001b[1mval: \u001b[0mWARNING ⚠️ /content/gdrive/My Drive/CSE428/Project/Data/Data/images/val/2962.png: ignoring corrupt image/label: non-normalized or out of bounds coordinates [     2.4172      3.0767      2.5756      1.5525]\n",
      "\u001b[34m\u001b[1mval: \u001b[0mWARNING ⚠️ /content/gdrive/My Drive/CSE428/Project/Data/Data/images/val/2967.png: ignoring corrupt image/label: non-normalized or out of bounds coordinates [     2.4172      3.0767      2.5756      1.5525]\n",
      "\u001b[34m\u001b[1mval: \u001b[0mWARNING ⚠️ /content/gdrive/My Drive/CSE428/Project/Data/Data/images/val/2971.png: ignoring corrupt image/label: non-normalized or out of bounds coordinates [     2.4172      3.0767      2.5756      1.5525]\n",
      "\u001b[34m\u001b[1mval: \u001b[0mWARNING ⚠️ /content/gdrive/My Drive/CSE428/Project/Data/Data/images/val/2977.png: ignoring corrupt image/label: non-normalized or out of bounds coordinates [     2.4172      3.0767      2.5756      1.5525]\n",
      "\u001b[34m\u001b[1mval: \u001b[0mWARNING ⚠️ /content/gdrive/My Drive/CSE428/Project/Data/Data/images/val/2978.png: ignoring corrupt image/label: non-normalized or out of bounds coordinates [     2.4172      3.0767      2.5756      1.5525]\n",
      "\u001b[34m\u001b[1mval: \u001b[0mWARNING ⚠️ /content/gdrive/My Drive/CSE428/Project/Data/Data/images/val/2992.png: ignoring corrupt image/label: non-normalized or out of bounds coordinates [     2.4172      3.0767      2.5756      1.5525]\n",
      "\u001b[34m\u001b[1mval: \u001b[0mWARNING ⚠️ /content/gdrive/My Drive/CSE428/Project/Data/Data/images/val/2995.png: ignoring corrupt image/label: non-normalized or out of bounds coordinates [     2.4172      3.0767      2.5756      1.5525]\n",
      "\u001b[34m\u001b[1mval: \u001b[0mWARNING ⚠️ /content/gdrive/My Drive/CSE428/Project/Data/Data/images/val/2996.png: ignoring corrupt image/label: non-normalized or out of bounds coordinates [     2.4172      3.0767      2.5756      1.5525]\n",
      "\u001b[34m\u001b[1mval: \u001b[0mWARNING ⚠️ /content/gdrive/My Drive/CSE428/Project/Data/Data/images/val/2997.png: ignoring corrupt image/label: non-normalized or out of bounds coordinates [     2.4172      3.0767      2.5756      1.5525]\n",
      "\u001b[34m\u001b[1mval: \u001b[0mWARNING ⚠️ /content/gdrive/My Drive/CSE428/Project/Data/Data/images/val/2999.png: ignoring corrupt image/label: non-normalized or out of bounds coordinates [     2.4172      3.0767      2.5756      1.5525]\n",
      "                   all        454       1259      0.694       0.79      0.804      0.611\n",
      "Speed: 4.7ms preprocess, 20.7ms inference, 0.0ms loss, 15.3ms postprocess per image\n",
      "Results saved to \u001b[1mruns/detect/val3\u001b[0m\n",
      "💡 Learn more at https://docs.ultralytics.com/modes/val\n",
      "\n"
     ]
    }
   ],
   "source": [
    "import subprocess\n",
    "\n",
    "# Define the command\n",
    "command = \"\"\"\n",
    "LC_ALL=C.UTF-8 LANG=C.UTF-8 yolo task=detect mode=val \\\n",
    "model='/content/runs/detect/train2/weights/best.pt' \\\n",
    "data='/content/gdrive/My Drive/CSE428/Project/Data/Data/data.yaml'\n",
    "\"\"\"\n",
    "\n",
    "# Execute the command and capture the output\n",
    "result = subprocess.run(command, shell=True, check=True, stdout=subprocess.PIPE)\n",
    "\n",
    "# Decode the output using UTF-8 encoding\n",
    "output = result.stdout.decode('utf-8')\n",
    "\n",
    "# Print the output\n",
    "print(output)\n",
    "\n"
   ]
  },
  {
   "cell_type": "code",
   "execution_count": null,
   "metadata": {
    "colab": {
     "base_uri": "https://localhost:8080/",
     "height": 36
    },
    "executionInfo": {
     "elapsed": 8467,
     "status": "ok",
     "timestamp": 1714148159239,
     "user": {
      "displayName": "Rantu Das",
      "userId": "04984181301648217754"
     },
     "user_tz": -360
    },
    "id": "slzWvXxOLh9n",
    "outputId": "621191e8-2ec8-4ff5-8bee-fc96974d6b77"
   },
   "outputs": [
    {
     "data": {
      "application/vnd.google.colaboratory.intrinsic+json": {
       "type": "string"
      },
      "text/plain": [
       "'/content/gdrive/My Drive/CSE428/Project/Data/Data/val3'"
      ]
     },
     "execution_count": 29,
     "metadata": {},
     "output_type": "execute_result"
    }
   ],
   "source": [
    "import shutil\n",
    "\n",
    "# Copy the directory recursively\n",
    "shutil.copytree('/content/runs/detect', '/content/gdrive/My Drive/CSE428/Project/Data/Data/val3')"
   ]
  }
 ],
 "metadata": {
  "accelerator": "GPU",
  "colab": {
   "gpuType": "T4",
   "provenance": []
  },
  "kernelspec": {
   "display_name": "Python 3 (ipykernel)",
   "language": "python",
   "name": "python3"
  },
  "language_info": {
   "codemirror_mode": {
    "name": "ipython",
    "version": 3
   },
   "file_extension": ".py",
   "mimetype": "text/x-python",
   "name": "python",
   "nbconvert_exporter": "python",
   "pygments_lexer": "ipython3",
   "version": "3.11.3"
  }
 },
 "nbformat": 4,
 "nbformat_minor": 1
}
